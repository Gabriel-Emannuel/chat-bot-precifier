{
 "cells": [
  {
   "cell_type": "markdown",
   "id": "973db8ec",
   "metadata": {},
   "source": [
    "# Creating RAG agent parts for price identification\n",
    "\n",
    "The objective on this notebook is to create the parts for the RAG agent to identify prices!\n",
    "\n",
    "The previous notebook can be found: [`experiments/rag.ipynb`](rag.ipynb).\n",
    "\n",
    "This notebook will be divided on multiple sections, for a union on the final experiment."
   ]
  },
  {
   "cell_type": "markdown",
   "id": "fbe99b8a",
   "metadata": {},
   "source": [
    "---"
   ]
  },
  {
   "cell_type": "markdown",
   "id": "f1697cf6",
   "metadata": {},
   "source": [
    "Importing packages:"
   ]
  },
  {
   "cell_type": "code",
   "execution_count": 26,
   "id": "9e2ce8b5",
   "metadata": {},
   "outputs": [
    {
     "name": "stdout",
     "output_type": "stream",
     "text": [
      "Requirement already satisfied: ipython in /home/gabael/miniconda3/envs/precificador/lib/python3.10/site-packages (8.37.0)\n",
      "Requirement already satisfied: decorator in /home/gabael/miniconda3/envs/precificador/lib/python3.10/site-packages (from ipython) (5.2.1)\n",
      "Requirement already satisfied: exceptiongroup in /home/gabael/miniconda3/envs/precificador/lib/python3.10/site-packages (from ipython) (1.3.0)\n",
      "Requirement already satisfied: jedi>=0.16 in /home/gabael/miniconda3/envs/precificador/lib/python3.10/site-packages (from ipython) (0.19.2)\n",
      "Requirement already satisfied: matplotlib-inline in /home/gabael/miniconda3/envs/precificador/lib/python3.10/site-packages (from ipython) (0.1.7)\n",
      "Requirement already satisfied: pexpect>4.3 in /home/gabael/miniconda3/envs/precificador/lib/python3.10/site-packages (from ipython) (4.9.0)\n",
      "Requirement already satisfied: prompt_toolkit<3.1.0,>=3.0.41 in /home/gabael/miniconda3/envs/precificador/lib/python3.10/site-packages (from ipython) (3.0.52)\n",
      "Requirement already satisfied: pygments>=2.4.0 in /home/gabael/miniconda3/envs/precificador/lib/python3.10/site-packages (from ipython) (2.19.2)\n",
      "Requirement already satisfied: stack_data in /home/gabael/miniconda3/envs/precificador/lib/python3.10/site-packages (from ipython) (0.6.3)\n",
      "Requirement already satisfied: traitlets>=5.13.0 in /home/gabael/miniconda3/envs/precificador/lib/python3.10/site-packages (from ipython) (5.14.3)\n",
      "Requirement already satisfied: typing_extensions>=4.6 in /home/gabael/miniconda3/envs/precificador/lib/python3.10/site-packages (from ipython) (4.15.0)\n",
      "Requirement already satisfied: wcwidth in /home/gabael/miniconda3/envs/precificador/lib/python3.10/site-packages (from prompt_toolkit<3.1.0,>=3.0.41->ipython) (0.2.13)\n",
      "Requirement already satisfied: parso<0.9.0,>=0.8.4 in /home/gabael/miniconda3/envs/precificador/lib/python3.10/site-packages (from jedi>=0.16->ipython) (0.8.5)\n",
      "Requirement already satisfied: ptyprocess>=0.5 in /home/gabael/miniconda3/envs/precificador/lib/python3.10/site-packages (from pexpect>4.3->ipython) (0.7.0)\n",
      "Requirement already satisfied: executing>=1.2.0 in /home/gabael/miniconda3/envs/precificador/lib/python3.10/site-packages (from stack_data->ipython) (2.2.1)\n",
      "Requirement already satisfied: asttokens>=2.1.0 in /home/gabael/miniconda3/envs/precificador/lib/python3.10/site-packages (from stack_data->ipython) (3.0.0)\n",
      "Requirement already satisfied: pure_eval in /home/gabael/miniconda3/envs/precificador/lib/python3.10/site-packages (from stack_data->ipython) (0.2.3)\n"
     ]
    }
   ],
   "source": [
    "!pip install ipython"
   ]
  },
  {
   "cell_type": "code",
   "execution_count": 27,
   "id": "979b1cac",
   "metadata": {},
   "outputs": [],
   "source": [
    "from langchain_core.messages import AnyMessage, AIMessage, HumanMessage, SystemMessage\n",
    "\n",
    "from langgraph.graph import StateGraph, START, END\n",
    "\n",
    "from IPython.display import display, Image\n",
    "\n",
    "from re import search\n",
    "\n",
    "from typing import TypedDict, Literal"
   ]
  },
  {
   "cell_type": "code",
   "execution_count": 28,
   "id": "5dd5c4ee",
   "metadata": {},
   "outputs": [
    {
     "name": "stdout",
     "output_type": "stream",
     "text": [
      "/home/gabael/projetos\n"
     ]
    }
   ],
   "source": [
    "%cd .."
   ]
  },
  {
   "cell_type": "code",
   "execution_count": 29,
   "id": "c4dc5d77",
   "metadata": {},
   "outputs": [],
   "source": [
    "from src.ollama.llm import chat\n",
    "from src.rag.rag import web_search_rag, generate_vector_store"
   ]
  },
  {
   "cell_type": "markdown",
   "id": "14bad91b",
   "metadata": {},
   "source": [
    "---"
   ]
  },
  {
   "cell_type": "markdown",
   "id": "6d6a4c07",
   "metadata": {},
   "source": [
    "# Identify if the query is for product web search\n",
    "\n",
    "If the user sends a query, the agent need to see if the query is for a product web search or is a invalid search."
   ]
  },
  {
   "cell_type": "code",
   "execution_count": 30,
   "id": "315b6698",
   "metadata": {},
   "outputs": [],
   "source": [
    "assistant_instruction_identifier_validity = SystemMessage(\n",
    "    content=\"\"\"Você é um assistente especializado em identificar se a entrada recebida é passível de processamento. Para uma entrada ser processada, é necessário que ela possa ser utilizada para buscar preços. Para verificar se uma entrada pode ser usada para buscar preços, verifique se a entrada pode participar das seguintes categorias:\n",
    "    \n",
    "    Categorias válidas:\n",
    "    - Celular;\n",
    "    - Televisão;\n",
    "    - Lavador;\n",
    "    - Notebook;\n",
    "    - Geladeira;\n",
    "    - Ar-Condicionado;\n",
    "    - Fogão;\n",
    "    - Eletrodomésticos;\n",
    "    - Eletroportáteis;\n",
    "    - Informática.\n",
    "    \n",
    "    Caso a entrada participe de quaisquer categoria, pode ser considerada uma entrada válida. Se este for o caso, especifique a categoria. Se não, apenas especifique que não é uma entrada válida e não gere uma resposta.\"\"\" \n",
    ")"
   ]
  },
  {
   "cell_type": "code",
   "execution_count": 31,
   "id": "a9d441d8",
   "metadata": {},
   "outputs": [],
   "source": [
    "user_example_1 = HumanMessage(\n",
    "    content=\"Qual a idade do atual presidente do brasil?\"\n",
    ")\n",
    "\n",
    "ai_example_1 = AIMessage(\n",
    "    content=\"Entrada inválida.\"\n",
    ")"
   ]
  },
  {
   "cell_type": "code",
   "execution_count": 32,
   "id": "7589437d",
   "metadata": {},
   "outputs": [],
   "source": [
    "user_example_2 = HumanMessage(\n",
    "    content=\"Qual o preço de um ar condicionado?\"\n",
    ")\n",
    "\n",
    "ai_example_2 = AIMessage(\n",
    "    content=\"Categoria: Ar-condicionado.\"\n",
    ")"
   ]
  },
  {
   "cell_type": "code",
   "execution_count": 33,
   "id": "bdf00ca9",
   "metadata": {},
   "outputs": [],
   "source": [
    "user_example_3 = HumanMessage(\n",
    "    content=\"Qual o preço de um carro?\"\n",
    ")\n",
    "\n",
    "ai_example_3 = AIMessage(\n",
    "    content=\"Entrada inválida.\"\n",
    ")"
   ]
  },
  {
   "cell_type": "code",
   "execution_count": 34,
   "id": "c88e1c09",
   "metadata": {},
   "outputs": [],
   "source": [
    "user_example_4 = HumanMessage(\n",
    "    content=\"Qual é o motivo da chuva?\"\n",
    ")\n",
    "\n",
    "ai_example_4 = AIMessage(\n",
    "    content=\"Entrada inválida.\"\n",
    ")"
   ]
  },
  {
   "cell_type": "code",
   "execution_count": 35,
   "id": "a6678063",
   "metadata": {},
   "outputs": [],
   "source": [
    "message_example = HumanMessage(\"Qual o preço de um celular A30?\")"
   ]
  },
  {
   "cell_type": "code",
   "execution_count": 56,
   "id": "d5b91aee",
   "metadata": {},
   "outputs": [],
   "source": [
    "identify_valid_query = chat.invoke([\n",
    "    assistant_instruction_identifier_validity, \n",
    "    user_example_1, \n",
    "    ai_example_1,\n",
    "    user_example_2,\n",
    "    ai_example_2,\n",
    "    user_example_3,\n",
    "    ai_example_3,\n",
    "    user_example_4,\n",
    "    ai_example_4,\n",
    "    message_example])"
   ]
  },
  {
   "cell_type": "code",
   "execution_count": 57,
   "id": "857e66f0",
   "metadata": {},
   "outputs": [
    {
     "name": "stdout",
     "output_type": "stream",
     "text": [
      "Categoria: Celular.\n"
     ]
    }
   ],
   "source": [
    "print(identify_valid_query.content)"
   ]
  },
  {
   "cell_type": "markdown",
   "id": "6d6456ee",
   "metadata": {},
   "source": [
    "---"
   ]
  },
  {
   "cell_type": "markdown",
   "id": "df34a852",
   "metadata": {},
   "source": [
    "# Identify the product\n",
    "\n",
    "From user query, identify the product search "
   ]
  },
  {
   "cell_type": "code",
   "execution_count": 36,
   "id": "1618330a",
   "metadata": {},
   "outputs": [],
   "source": [
    "assistent_identify_product = SystemMessage(\n",
    "    content=\"\"\"Você é um assistente especializado em identificar qual é o produto especificado para busca de preços a partir da entrada.\n",
    "    \n",
    "    Exemplos:\n",
    "    Entrada: Eu quero o preço de um ar condicionado 5500 btu.\n",
    "    Saída: ar condicionado 5500 btu.\n",
    "    \n",
    "    Entrada: Eu preciso de um novo celular, com o objetivo de poder ligar para meus netos.\n",
    "    Saída: Celular.\n",
    "    \n",
    "    Entrada: Estou procurando um fogão para alimentar minha família, com 4 bocas.\n",
    "    Saída: Fogão 4 bocas\"\"\" \n",
    ")"
   ]
  },
  {
   "cell_type": "code",
   "execution_count": 37,
   "id": "d4168ffa",
   "metadata": {},
   "outputs": [],
   "source": [
    "message_example = HumanMessage(\"Eu preciso de uma geladeira para guardar meus alimentos. Ela precisa ser pequena e ter 200L de volume\")"
   ]
  },
  {
   "cell_type": "code",
   "execution_count": null,
   "id": "be233d5c",
   "metadata": {},
   "outputs": [],
   "source": [
    "identify_product_query = chat.invoke([\n",
    "    assistent_identify_product,\n",
    "    message_example\n",
    "    ])"
   ]
  },
  {
   "cell_type": "code",
   "execution_count": 27,
   "id": "e8d27fa8",
   "metadata": {},
   "outputs": [
    {
     "data": {
      "text/plain": [
       "'Geladeira pequena de 200L de volume.'"
      ]
     },
     "execution_count": 27,
     "metadata": {},
     "output_type": "execute_result"
    }
   ],
   "source": [
    "identify_product_query.content"
   ]
  },
  {
   "cell_type": "markdown",
   "id": "c4467da9",
   "metadata": {},
   "source": [
    "---"
   ]
  },
  {
   "cell_type": "markdown",
   "id": "4e394ddd",
   "metadata": {},
   "source": [
    "# Final Agent\n",
    "\n",
    "Use rag tools to identify prices.\n",
    "\n",
    "Define graph's schema:"
   ]
  },
  {
   "cell_type": "code",
   "execution_count": 82,
   "id": "8b136afa",
   "metadata": {},
   "outputs": [],
   "source": [
    "class InputState(TypedDict):\n",
    "    query: str"
   ]
  },
  {
   "cell_type": "code",
   "execution_count": 83,
   "id": "b2e12c7f",
   "metadata": {},
   "outputs": [],
   "source": [
    "class CategoryState(TypedDict):\n",
    "    query: str\n",
    "    category: str"
   ]
  },
  {
   "cell_type": "code",
   "execution_count": 84,
   "id": "0dd05f19",
   "metadata": {},
   "outputs": [],
   "source": [
    "class ProductState(TypedDict):\n",
    "    query: str\n",
    "    category: str\n",
    "    product: str"
   ]
  },
  {
   "cell_type": "code",
   "execution_count": 85,
   "id": "8885278f",
   "metadata": {},
   "outputs": [],
   "source": [
    "class PriceState(TypedDict):\n",
    "    price: str"
   ]
  },
  {
   "cell_type": "code",
   "execution_count": 86,
   "id": "80c15684",
   "metadata": {},
   "outputs": [],
   "source": [
    "class OutputState(TypedDict):\n",
    "    answer: str"
   ]
  },
  {
   "cell_type": "code",
   "execution_count": 87,
   "id": "fc91bf63",
   "metadata": {},
   "outputs": [],
   "source": [
    "class OverallState(TypedDict):\n",
    "    query: str\n",
    "    category: str\n",
    "    product: str\n",
    "    price: str\n",
    "    answer: str"
   ]
  },
  {
   "cell_type": "markdown",
   "id": "dcacf12a",
   "metadata": {},
   "source": [
    "Define nodes:"
   ]
  },
  {
   "cell_type": "code",
   "execution_count": 88,
   "id": "d6014e4e",
   "metadata": {},
   "outputs": [],
   "source": [
    "def generate_category(input_state: InputState) -> CategoryState:\n",
    "    \n",
    "    user_msg = HumanMessage(content=input_state['query'])\n",
    "\n",
    "    answer = chat.invoke([\n",
    "        assistant_instruction_identifier_validity, \n",
    "        user_example_1, \n",
    "        ai_example_1,\n",
    "        user_example_2,\n",
    "        ai_example_2,\n",
    "        user_example_3,\n",
    "        ai_example_3,\n",
    "        user_example_4,\n",
    "        ai_example_4,\n",
    "        user_msg\n",
    "    ])\n",
    "\n",
    "    category = str(answer.content)\n",
    "\n",
    "    return {'query': input_state['query'], 'category': category}"
   ]
  },
  {
   "cell_type": "code",
   "execution_count": 89,
   "id": "4112d837",
   "metadata": {},
   "outputs": [],
   "source": [
    "def generate_product(category_state: CategoryState) -> ProductState:\n",
    "\n",
    "    user_msg = HumanMessage(category_state['query'])\n",
    "\n",
    "    answer = chat.invoke([\n",
    "        assistent_identify_product,\n",
    "        user_msg\n",
    "    ])\n",
    "\n",
    "    product = str(answer.content)\n",
    "\n",
    "    return {\n",
    "        'category': category_state['category'],\n",
    "        'product': product,\n",
    "        'query': category_state['query']\n",
    "    }"
   ]
  },
  {
   "cell_type": "code",
   "execution_count": 90,
   "id": "fe94552f",
   "metadata": {},
   "outputs": [],
   "source": [
    "def generate_price(product_state: ProductState) -> PriceState:\n",
    "\n",
    "    vector_store = generate_vector_store(product_state['product'])\n",
    "\n",
    "    retrieval = web_search_rag(vector_store, 10, product_state['query'])\n",
    "\n",
    "    assistant_rag = SystemMessage(content=f\"\"\"Você é um assistente especializado em realizar pesquisas de preço. Responda apenas com o preço e onde comprar.\n",
    "                                  \n",
    "                                  Utilize esta base de conhecimento: {retrieval}.\"\"\")\n",
    "    \n",
    "    user_msg = HumanMessage(product_state['query'])\n",
    "\n",
    "    answer = chat.invoke([\n",
    "        assistant_rag,\n",
    "        user_msg\n",
    "    ])\n",
    "\n",
    "    price = str(answer.content)\n",
    "\n",
    "    return {'price': price}"
   ]
  },
  {
   "cell_type": "code",
   "execution_count": 91,
   "id": "43ff18b2",
   "metadata": {},
   "outputs": [],
   "source": [
    "PATTERN_URL = r\"(www.zoom.com.br)\"\n",
    "\n",
    "def generate_answer(price_state: PriceState) -> OutputState:\n",
    "\n",
    "    if search(PATTERN_URL, price_state['price']): return {'answer': price_state['price']}\n",
    "\n",
    "    answer = price_state['price'] + '\\n' + \"Fonte: \" + \"www.zoom.com.br.\"\n",
    "\n",
    "    return {'answer': str(answer)}"
   ]
  },
  {
   "cell_type": "code",
   "execution_count": 92,
   "id": "f509f594",
   "metadata": {},
   "outputs": [],
   "source": [
    "def generate_error_message(category_state: CategoryState) -> OutputState:\n",
    "\n",
    "    answer = \"\"\"Eu não posso resolver o seu pedido, pois eu sou especializado em identificar preços para produtos das seguintes categorias: Celular; Televisão; Lavador; Notebook; Geladeira; Ar-Condicionado; Fogão; Eletrodomésticos; Eletroportáteis; Informática.\n",
    "    \"\"\"\n",
    "\n",
    "    return {'answer': answer}"
   ]
  },
  {
   "cell_type": "markdown",
   "id": "934ea101",
   "metadata": {},
   "source": [
    "Define conditional edges:"
   ]
  },
  {
   "cell_type": "code",
   "execution_count": 93,
   "id": "7a524406",
   "metadata": {},
   "outputs": [],
   "source": [
    "PATTERN_INVALID_CATEGORY = r\"(Entrada inválida.)\"\n",
    "\n",
    "def verify_category_state(category_state: CategoryState) -> Literal[\"error-node\", \"product-node\"]:\n",
    "    if search(PATTERN_INVALID_CATEGORY, category_state[\"category\"]):\n",
    "        return \"error-node\"\n",
    "    return \"product-node\""
   ]
  },
  {
   "cell_type": "markdown",
   "id": "139ac4db",
   "metadata": {},
   "source": [
    "Define graph:"
   ]
  },
  {
   "cell_type": "code",
   "execution_count": 94,
   "id": "9406cbce",
   "metadata": {},
   "outputs": [],
   "source": [
    "builder = StateGraph(OverallState, input_schema=InputState, output_schema=OutputState)"
   ]
  },
  {
   "cell_type": "code",
   "execution_count": 95,
   "id": "2f3ed7a4",
   "metadata": {},
   "outputs": [
    {
     "data": {
      "text/plain": [
       "<langgraph.graph.state.StateGraph at 0x7a8aa31a28c0>"
      ]
     },
     "execution_count": 95,
     "metadata": {},
     "output_type": "execute_result"
    }
   ],
   "source": [
    "builder.add_node(\"category-node\", generate_category)\n",
    "builder.add_node(\"product-node\", generate_product)\n",
    "builder.add_node(\"price-node\", generate_price)\n",
    "builder.add_node(\"answer-node\", generate_answer)\n",
    "builder.add_node(\"error-node\", generate_error_message)"
   ]
  },
  {
   "cell_type": "code",
   "execution_count": 96,
   "id": "1ab41c24",
   "metadata": {},
   "outputs": [
    {
     "data": {
      "text/plain": [
       "<langgraph.graph.state.StateGraph at 0x7a8aa31a28c0>"
      ]
     },
     "execution_count": 96,
     "metadata": {},
     "output_type": "execute_result"
    }
   ],
   "source": [
    "builder.add_edge(START, \"category-node\")\n",
    "builder.add_conditional_edges(\"category-node\", verify_category_state)\n",
    "builder.add_edge(\"product-node\", \"price-node\")\n",
    "builder.add_edge(\"price-node\", \"answer-node\")\n",
    "builder.add_edge(\"answer-node\", END)\n",
    "builder.add_edge(\"error-node\", END)"
   ]
  },
  {
   "cell_type": "code",
   "execution_count": 97,
   "id": "5e513557",
   "metadata": {},
   "outputs": [],
   "source": [
    "graph = builder.compile()"
   ]
  },
  {
   "cell_type": "code",
   "execution_count": 98,
   "id": "736a4f78",
   "metadata": {},
   "outputs": [
    {
     "data": {
      "image/png": "[encoded data removed]",
      "text/plain": [
       "<IPython.core.display.Image object>"
      ]
     },
     "metadata": {},
     "output_type": "display_data"
    }
   ],
   "source": [
    "display(Image(graph.get_graph().draw_mermaid_png()))"
   ]
  },
  {
   "cell_type": "markdown",
   "id": "262b62a3",
   "metadata": {},
   "source": [
    "# Test the graph!"
   ]
  },
  {
   "cell_type": "code",
   "execution_count": 105,
   "id": "6f09a799",
   "metadata": {},
   "outputs": [],
   "source": [
    "INPUT = \"Eu quero comprar uma TV sansung 4k\""
   ]
  },
  {
   "cell_type": "code",
   "execution_count": 106,
   "id": "821f01a3",
   "metadata": {},
   "outputs": [],
   "source": [
    "answer = graph.invoke({\"query\": INPUT})"
   ]
  },
  {
   "cell_type": "code",
   "execution_count": 107,
   "id": "124b3ad7",
   "metadata": {},
   "outputs": [
    {
     "name": "stdout",
     "output_type": "stream",
     "text": [
      "Para encontrar a melhor TV Samsung 4K disponível no mercado, farei uma pesquisa por você.\n",
      "\n",
      "Aqui estão algumas opções:\n",
      "\n",
      "1. **TV Samsung 43\" 4K UHD HDR UN43TU8000**: Preço: R$ 2.209,00 (até 10x de R$ 220,90) - Disponível em Casas Bahia.\n",
      "2. **TV Samsung 55\" 4K UHD HDR QN65Q60CAGXZDM**: Preço: R$ 5.593,39 (até 12x de R$ 490,65) - Disponível em Casas Bahia.\n",
      "3. **TV Samsung 65\" 4K UHD HDR UN65TU8000**: Preço: R$ 6.583,06 (até 8x de R$ 914,31) - Disponível em Americanas.\n",
      "\n",
      "É importante notar que os preços podem variar dependendo da loja e do modelo específico que você estiver procurando.\n",
      "\n",
      "Para ter mais opções e preços atualizados, eu sugiro que você vá ao site das lojas de eletrônicos mencionadas acima (Casas Bahia, Amazon, Magazine Luiza) ou visite físicamente as lojas para comparar os preços e modelos disponíveis. Além disso, é sempre uma boa ideia ler as avaliações e comentários de outros clientes para ter uma ideia melhor da qualidade e desempenho da TV antes de fazer a compra.\n",
      "Fonte: www.zoom.com.br.\n"
     ]
    }
   ],
   "source": [
    "print(answer['answer'])"
   ]
  },
  {
   "cell_type": "code",
   "execution_count": 102,
   "id": "31f45aa9",
   "metadata": {},
   "outputs": [],
   "source": [
    "BAD_INPUT = \"Quantos anos uma rosa consegue ficar viva?\""
   ]
  },
  {
   "cell_type": "code",
   "execution_count": 103,
   "id": "04f9ee38",
   "metadata": {},
   "outputs": [],
   "source": [
    "bad_answer = graph.invoke({\"query\": BAD_INPUT})"
   ]
  },
  {
   "cell_type": "code",
   "execution_count": 104,
   "id": "a11eda15",
   "metadata": {},
   "outputs": [
    {
     "name": "stdout",
     "output_type": "stream",
     "text": [
      "Eu não posso resolver o seu pedido, pois eu sou especializado em identificar preços para produtos das seguintes categorias: Celular; Televisão; Lavador; Notebook; Geladeira; Ar-Condicionado; Fogão; Eletrodomésticos; Eletroportáteis; Informática.\n",
      "    \n"
     ]
    }
   ],
   "source": [
    "print(bad_answer['answer'])"
   ]
  },
  {
   "cell_type": "code",
   "execution_count": null,
   "id": "988a96d8",
   "metadata": {},
   "outputs": [],
   "source": []
  }
 ],
 "metadata": {
  "kernelspec": {
   "display_name": "precificador",
   "language": "python",
   "name": "python3"
  },
  "language_info": {
   "codemirror_mode": {
    "name": "ipython",
    "version": 3
   },
   "file_extension": ".py",
   "mimetype": "text/x-python",
   "name": "python",
   "nbconvert_exporter": "python",
   "pygments_lexer": "ipython3",
   "version": "3.10.18"
  }
 },
 "nbformat": 4,
 "nbformat_minor": 5
}
