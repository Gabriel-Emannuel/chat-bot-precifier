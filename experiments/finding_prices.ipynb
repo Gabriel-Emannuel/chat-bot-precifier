{
 "cells": [
  {
   "cell_type": "markdown",
   "id": "3de502be",
   "metadata": {},
   "source": [
    "# Finding prices using LLMs and Langgraph\n",
    "\n",
    "The objective on this notebook is to find a price from some object from specific URL's, in the notebook example, we will use the [zoom](https://www.zoom.com.br).\n",
    "\n",
    "For this task, we gonna use Langgraph and Langchain, to divide this task in some particular tasks. "
   ]
  },
  {
   "cell_type": "markdown",
   "id": "e192e53e",
   "metadata": {},
   "source": [
    "---"
   ]
  },
  {
   "cell_type": "markdown",
   "id": "a4446e23",
   "metadata": {},
   "source": [
    "Importing packages:"
   ]
  },
  {
   "cell_type": "code",
   "execution_count": null,
   "id": "a1fb3aa4",
   "metadata": {},
   "outputs": [],
   "source": [
    "from dotenv import load_dotenv\n",
    "\n",
    "from langchain_openai.chat_models import ChatOpenAI\n",
    "\n",
    "from langchain_community.document_loaders import WebBaseLoader\n",
    "\n",
    "from langchain_core.messages import (\n",
    "    AnyMessage, \n",
    "    AIMessage, \n",
    "    HumanMessage, \n",
    "    SystemMessage\n",
    ")\n",
    "\n",
    "from langgraph.graph import StateGraph, START, END, MessagesState\n",
    "\n",
    "from re import search\n",
    "\n",
    "from os import getenv\n",
    "\n",
    "from typing import Literal"
   ]
  },
  {
   "cell_type": "markdown",
   "id": "59daab97",
   "metadata": {},
   "source": [
    "Configurations:"
   ]
  },
  {
   "cell_type": "code",
   "execution_count": null,
   "id": "18c55fdf",
   "metadata": {},
   "outputs": [],
   "source": [
    "load_dotenv()"
   ]
  },
  {
   "cell_type": "code",
   "execution_count": null,
   "id": "78fa5ac2",
   "metadata": {},
   "outputs": [],
   "source": [
    "OPEN_AI_URL = getenv(\"OPENAI_URL\")\n",
    "OPEN_AI_MODEL = getenv(\"MODEL\")"
   ]
  },
  {
   "cell_type": "code",
   "execution_count": null,
   "id": "d3edbeee",
   "metadata": {},
   "outputs": [],
   "source": [
    "RETAIL_URL = \"https://www.zoom.com.br\""
   ]
  },
  {
   "cell_type": "markdown",
   "id": "e8be1b6e",
   "metadata": {},
   "source": [
    "---"
   ]
  },
  {
   "cell_type": "markdown",
   "id": "18f036c0",
   "metadata": {},
   "source": [
    "First, we need to define a way to use the retail store url to search some prices!"
   ]
  },
  {
   "cell_type": "code",
   "execution_count": null,
   "id": "4711a94a",
   "metadata": {},
   "outputs": [],
   "source": [
    "RETAIL_SUFIX = lambda input: f\"{RETAIL_URL}/search?q={input.replace(' ','%20')}\""
   ]
  },
  {
   "cell_type": "markdown",
   "id": "88294bdf",
   "metadata": {},
   "source": [
    "Now, let's consume the first retail for some respective input. For this, we will use "
   ]
  },
  {
   "cell_type": "code",
   "execution_count": null,
   "id": "9ca8c6c4",
   "metadata": {},
   "outputs": [],
   "source": [
    "INPUT = \"ar condicionado\""
   ]
  },
  {
   "cell_type": "code",
   "execution_count": null,
   "id": "7bedbd86",
   "metadata": {},
   "outputs": [],
   "source": [
    "url_search = RETAIL_SUFIX(INPUT)"
   ]
  },
  {
   "cell_type": "code",
   "execution_count": null,
   "id": "578c4db6",
   "metadata": {},
   "outputs": [],
   "source": [
    "url_search"
   ]
  },
  {
   "cell_type": "code",
   "execution_count": null,
   "id": "2e61ad4e",
   "metadata": {},
   "outputs": [],
   "source": [
    "web_loaded = WebBaseLoader(url_search)"
   ]
  },
  {
   "cell_type": "code",
   "execution_count": null,
   "id": "a1ddbb75",
   "metadata": {},
   "outputs": [],
   "source": [
    "[document] = web_loaded.load()"
   ]
  },
  {
   "cell_type": "markdown",
   "id": "48e1b355",
   "metadata": {},
   "source": [
    "Let's dive in on what is on the document!"
   ]
  },
  {
   "cell_type": "code",
   "execution_count": null,
   "id": "dd6c6946",
   "metadata": {},
   "outputs": [],
   "source": [
    "document.dict().keys()"
   ]
  },
  {
   "cell_type": "code",
   "execution_count": null,
   "id": "3b08ada5",
   "metadata": {},
   "outputs": [],
   "source": [
    "document.id"
   ]
  },
  {
   "cell_type": "code",
   "execution_count": null,
   "id": "29d2dd2b",
   "metadata": {},
   "outputs": [],
   "source": [
    "document.metadata"
   ]
  },
  {
   "cell_type": "code",
   "execution_count": null,
   "id": "bdfdebc3",
   "metadata": {},
   "outputs": [],
   "source": [
    "print(document.page_content)"
   ]
  },
  {
   "cell_type": "code",
   "execution_count": null,
   "id": "d3cc19fc",
   "metadata": {},
   "outputs": [],
   "source": [
    "document.type"
   ]
  },
  {
   "cell_type": "markdown",
   "id": "1705a66f",
   "metadata": {},
   "source": [
    "Now, we can use a textual content in a LLM!\n",
    "\n",
    "But before, let's find a way to delimiter the retails on the search!"
   ]
  },
  {
   "cell_type": "code",
   "execution_count": null,
   "id": "1c7aca5d",
   "metadata": {},
   "outputs": [],
   "source": [
    "content_split_lines = document.page_content.splitlines()"
   ]
  },
  {
   "cell_type": "code",
   "execution_count": null,
   "id": "bcf9e48b",
   "metadata": {},
   "outputs": [],
   "source": [
    "RETAILS = [\n",
    "    \"Casas Bahia\",\n",
    "    \"Extra\",\n",
    "    \"Magazine Luiza\"   \n",
    "]"
   ]
  },
  {
   "cell_type": "code",
   "execution_count": null,
   "id": "43db9b19",
   "metadata": {},
   "outputs": [],
   "source": [
    "content_split_lines"
   ]
  },
  {
   "cell_type": "code",
   "execution_count": null,
   "id": "bf5a9058",
   "metadata": {},
   "outputs": [],
   "source": [
    "pattern = rf'({\"|\".join(RETAILS)})'\n",
    "\n",
    "pattern"
   ]
  },
  {
   "cell_type": "code",
   "execution_count": null,
   "id": "ba37fb65",
   "metadata": {},
   "outputs": [],
   "source": [
    "lines_with_retails = [content.strip() for content in content_split_lines if search(pattern, content)]"
   ]
  },
  {
   "cell_type": "code",
   "execution_count": null,
   "id": "bd6e8ae7",
   "metadata": {},
   "outputs": [],
   "source": [
    "lines_with_retails"
   ]
  },
  {
   "cell_type": "markdown",
   "id": "d3308690",
   "metadata": {},
   "source": [
    "Now, let's send this to a LLM!"
   ]
  },
  {
   "cell_type": "code",
   "execution_count": null,
   "id": "86f5ec09",
   "metadata": {},
   "outputs": [],
   "source": [
    "chat = ChatOpenAI(base_url=OPEN_AI_URL, model=OPEN_AI_MODEL)"
   ]
  },
  {
   "cell_type": "code",
   "execution_count": null,
   "id": "a3bb16e5",
   "metadata": {},
   "outputs": [],
   "source": [
    "breakline = lambda: '\\n'\n",
    "\n",
    "messages: list[AnyMessage] = [\n",
    "    SystemMessage(content=\"Você é um assistente especializado em ler uma série de ofertas com diferentes preços e trazer a melhor oferta e a sua respectiva loja!\", name=\"System\"),\n",
    "    HumanMessage(content=f\"Me dê a melhor oferta a partir das seguintes opções:\\n{breakline().join(lines_with_retails)}\\nNão esqueça de me falar onde comprar\", name=\"Author\")\n",
    "]"
   ]
  },
  {
   "cell_type": "code",
   "execution_count": null,
   "id": "6ef9fe38",
   "metadata": {},
   "outputs": [],
   "source": [
    "answer = chat.invoke(messages)"
   ]
  },
  {
   "cell_type": "code",
   "execution_count": null,
   "id": "91392eb4",
   "metadata": {},
   "outputs": [],
   "source": [
    "print(answer.content)"
   ]
  },
  {
   "cell_type": "markdown",
   "id": "b218d987",
   "metadata": {},
   "source": [
    "All right! Now we understand how to use the ``WebBaseLoader`` to load websites and take text from it!"
   ]
  }
 ],
 "metadata": {
  "kernelspec": {
   "display_name": "precificador",
   "language": "python",
   "name": "python3"
  },
  "language_info": {
   "codemirror_mode": {
    "name": "ipython",
    "version": 3
   },
   "file_extension": ".py",
   "mimetype": "text/x-python",
   "name": "python",
   "nbconvert_exporter": "python",
   "pygments_lexer": "ipython3",
   "version": "3.10.18"
  }
 },
 "nbformat": 4,
 "nbformat_minor": 5
}
