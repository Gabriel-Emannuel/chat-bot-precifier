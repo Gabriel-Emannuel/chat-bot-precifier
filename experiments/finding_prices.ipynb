{
 "cells": [
  {
   "cell_type": "markdown",
   "id": "3de502be",
   "metadata": {},
   "source": [
    "# Finding prices using LLMs and Langgraph\n",
    "\n",
    "The objective on this notebook is to find a price from some object from specific URL's.\n",
    "\n",
    "For this task, we gonna use Langgraph and Langchain, to divide this task in some particular tasks. "
   ]
  },
  {
   "cell_type": "markdown",
   "id": "e192e53e",
   "metadata": {},
   "source": [
    "---"
   ]
  },
  {
   "cell_type": "markdown",
   "id": "a4446e23",
   "metadata": {},
   "source": [
    "Importing packages:"
   ]
  },
  {
   "cell_type": "code",
   "execution_count": 3,
   "id": "a1fb3aa4",
   "metadata": {},
   "outputs": [],
   "source": [
    "from dotenv import load_dotenv\n",
    "\n",
    "from langchain_openai.chat_models import ChatOpenAI\n",
    "from langchain_core.messages import AnyMessage, AIMessage, HumanMessage\n",
    "from langgraph.graph import StateGraph, START, END, MessagesState\n",
    "\n",
    "from os import getenv"
   ]
  },
  {
   "cell_type": "markdown",
   "id": "59daab97",
   "metadata": {},
   "source": [
    "Configurations:"
   ]
  },
  {
   "cell_type": "code",
   "execution_count": null,
   "id": "18c55fdf",
   "metadata": {},
   "outputs": [],
   "source": []
  },
  {
   "cell_type": "markdown",
   "id": "e8be1b6e",
   "metadata": {},
   "source": [
    "---"
   ]
  },
  {
   "cell_type": "markdown",
   "id": "18f036c0",
   "metadata": {},
   "source": []
  }
 ],
 "metadata": {
  "kernelspec": {
   "display_name": "precificador",
   "language": "python",
   "name": "python3"
  },
  "language_info": {
   "codemirror_mode": {
    "name": "ipython",
    "version": 3
   },
   "file_extension": ".py",
   "mimetype": "text/x-python",
   "name": "python",
   "nbconvert_exporter": "python",
   "pygments_lexer": "ipython3",
   "version": "3.10.18"
  }
 },
 "nbformat": 4,
 "nbformat_minor": 5
}
