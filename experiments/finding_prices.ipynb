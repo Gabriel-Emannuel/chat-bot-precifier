{
 "cells": [
  {
   "cell_type": "markdown",
   "id": "3de502be",
   "metadata": {},
   "source": [
    "# Finding prices using LLMs and Langgraph\n",
    "\n",
    "The objective on this notebook is to find a price from some object from specific URL's, in the notebook example, we will use the [zoom](https://www.zoom.com.br).\n",
    "\n",
    "For this task, we gonna use Langgraph and Langchain, to divide this task in some particular tasks. "
   ]
  },
  {
   "cell_type": "markdown",
   "id": "e192e53e",
   "metadata": {},
   "source": [
    "---"
   ]
  },
  {
   "cell_type": "markdown",
   "id": "a4446e23",
   "metadata": {},
   "source": [
    "Importing packages:"
   ]
  },
  {
   "cell_type": "code",
   "execution_count": 26,
   "id": "a1fb3aa4",
   "metadata": {},
   "outputs": [],
   "source": [
    "from dotenv import load_dotenv\n",
    "\n",
    "from langchain_ollama.chat_models import ChatOllama\n",
    "\n",
    "from langchain_community.document_loaders import WebBaseLoader\n",
    "\n",
    "from langchain_core.messages import (\n",
    "    AnyMessage, \n",
    "    HumanMessage, \n",
    "    SystemMessage\n",
    ")\n",
    "\n",
    "from re import search\n",
    "\n",
    "from os import getenv"
   ]
  },
  {
   "cell_type": "markdown",
   "id": "59daab97",
   "metadata": {},
   "source": [
    "Configurations:"
   ]
  },
  {
   "cell_type": "code",
   "execution_count": 27,
   "id": "18c55fdf",
   "metadata": {},
   "outputs": [
    {
     "data": {
      "text/plain": [
       "True"
      ]
     },
     "execution_count": 27,
     "metadata": {},
     "output_type": "execute_result"
    }
   ],
   "source": [
    "load_dotenv()"
   ]
  },
  {
   "cell_type": "code",
   "execution_count": 28,
   "id": "78fa5ac2",
   "metadata": {},
   "outputs": [],
   "source": [
    "OLLAMA_URL = getenv(\"OLLAMA_URL\")\n",
    "LLM_MODEL = getenv(\"LLM_MODEL\")"
   ]
  },
  {
   "cell_type": "code",
   "execution_count": 29,
   "id": "d3edbeee",
   "metadata": {},
   "outputs": [],
   "source": [
    "RETAIL_URL = \"https://www.zoom.com.br\""
   ]
  },
  {
   "cell_type": "markdown",
   "id": "e8be1b6e",
   "metadata": {},
   "source": [
    "---"
   ]
  },
  {
   "cell_type": "markdown",
   "id": "18f036c0",
   "metadata": {},
   "source": [
    "First, we need to define a way to use the retail store url to search some prices!"
   ]
  },
  {
   "cell_type": "code",
   "execution_count": 30,
   "id": "4711a94a",
   "metadata": {},
   "outputs": [],
   "source": [
    "RETAIL_SUFIX = lambda input: f\"{RETAIL_URL}/search?q={input.replace(' ','%20')}\""
   ]
  },
  {
   "cell_type": "markdown",
   "id": "88294bdf",
   "metadata": {},
   "source": [
    "Now, let's consume the first retail for some respective input. For this, we will use "
   ]
  },
  {
   "cell_type": "code",
   "execution_count": 31,
   "id": "9ca8c6c4",
   "metadata": {},
   "outputs": [],
   "source": [
    "INPUT = \"ar condicionado\""
   ]
  },
  {
   "cell_type": "code",
   "execution_count": 32,
   "id": "7bedbd86",
   "metadata": {},
   "outputs": [],
   "source": [
    "url_search = RETAIL_SUFIX(INPUT)"
   ]
  },
  {
   "cell_type": "code",
   "execution_count": 33,
   "id": "578c4db6",
   "metadata": {},
   "outputs": [
    {
     "data": {
      "text/plain": [
       "'https://www.zoom.com.br/search?q=ar%20condicionado'"
      ]
     },
     "execution_count": 33,
     "metadata": {},
     "output_type": "execute_result"
    }
   ],
   "source": [
    "url_search"
   ]
  },
  {
   "cell_type": "code",
   "execution_count": 34,
   "id": "2e61ad4e",
   "metadata": {},
   "outputs": [],
   "source": [
    "web_loaded = WebBaseLoader(url_search)"
   ]
  },
  {
   "cell_type": "code",
   "execution_count": 35,
   "id": "a1ddbb75",
   "metadata": {},
   "outputs": [],
   "source": [
    "[document] = web_loaded.load()"
   ]
  },
  {
   "cell_type": "markdown",
   "id": "48e1b355",
   "metadata": {},
   "source": [
    "Let's dive in on what is on the document!"
   ]
  },
  {
   "cell_type": "code",
   "execution_count": 36,
   "id": "dd6c6946",
   "metadata": {},
   "outputs": [
    {
     "name": "stderr",
     "output_type": "stream",
     "text": [
      "/tmp/ipykernel_32304/1084269162.py:1: PydanticDeprecatedSince20: The `dict` method is deprecated; use `model_dump` instead. Deprecated in Pydantic V2.0 to be removed in V3.0. See Pydantic V2 Migration Guide at https://errors.pydantic.dev/2.11/migration/\n",
      "  document.dict().keys()\n"
     ]
    },
    {
     "data": {
      "text/plain": [
       "dict_keys(['id', 'metadata', 'page_content', 'type'])"
      ]
     },
     "execution_count": 36,
     "metadata": {},
     "output_type": "execute_result"
    }
   ],
   "source": [
    "document.dict().keys()"
   ]
  },
  {
   "cell_type": "code",
   "execution_count": 37,
   "id": "3b08ada5",
   "metadata": {},
   "outputs": [],
   "source": [
    "document.id"
   ]
  },
  {
   "cell_type": "code",
   "execution_count": 38,
   "id": "29d2dd2b",
   "metadata": {},
   "outputs": [
    {
     "data": {
      "text/plain": [
       "{'source': 'https://www.zoom.com.br/search?q=ar%20condicionado',\n",
       " 'title': 'Ar condicionado com o menor preço | Zoom ',\n",
       " 'description': 'Buscando o menor preço para ar condicionado LG, Gree, Philco e mais? No Zoom você compara as melhores ofertas com segurança e ainda aproveita cupons e cashback.',\n",
       " 'language': 'pt-BR'}"
      ]
     },
     "execution_count": 38,
     "metadata": {},
     "output_type": "execute_result"
    }
   ],
   "source": [
    "document.metadata"
   ]
  },
  {
   "cell_type": "code",
   "execution_count": 39,
   "id": "bdfdebc3",
   "metadata": {},
   "outputs": [
    {
     "name": "stdout",
     "output_type": "stream",
     "text": [
      "Ar condicionado com o menor preço | Zoom CategoriasCategoriasCelularesCelularesiPhoneiPhone 16iPhone 15iPhone 14iPhone 13iPhone 12iPhone 11Celulares SamsungGalaxy S25Galaxy S24Galaxy S23Galaxy S22Galaxy A56Galaxy A54Celulares MotorolaMoto GMoto ECelulares XiaomiXiaomi RedmiCelulares RealmeVer mais em celularesTVsTVsTV 32 polegadasTV 43 polegadasTV 50 polegadasTV 55 polegadasTV 65 polegadasTV 4KTV SamsungTV LGVer mais em TVsLavadorasLavadorasLavadora BrastempLavadora ElectroluxLavadora PanasonicLavadora ConsulLava e SecaLava e Seca LGLava e Seca SamsungNotebooksNotebooksNotebook  SamsungNotebook  DellNotebook  LenovoNotebook  AcerNotebook  AsusNotebook  GamerNotebook  i7Notebook  i5MacbookMacbook AirMacbook ProVer mais em notebooksGeladeirasGeladeirasGeladeira ElectroluxGeladeira BrastempGeladeira PanasonicGeladeira ConsulGeladeira InverseGeladeira Frost FreeGeladeira DuplexGeladeira InoxVer mais em geladeirasAr-CondicionadoAr-CondicionadoAr-condicionado 7.500 BTUsAr-condicionado 9.000 BTUsAr-condicionado 12.000 BTUsAr-condicionado 18.000 BTUsAr-condicionado InverterAr-condicionado portátilAr-condicionado de paredeFogõesFogõesFogão 4 bocasFogão 4 bocas inoxFogão 4 bocas ElectroluxFogão 4 bocas BrastempFogão 4 bocas DakoFogão 5 bocasFogão 5 bocas ElectroluxFogão 5 bocas BrastempFogão 5 bocas DakoFogão 6 bocasFogão CooktopCooktop 5 bocasCooktop indução 4 bocasConsole de Video GameConsole de Video GamePlaystation 4Playstation 5Xbox Series SXbox Series XNintendo SwitchOutras CategoriasOutras CategoriasAutomóveis e VeículosBebêsBeleza e SaúdeBrinquedosCama, Mesa e BanhoCasa e JardimCasa InteligenteCD, DVD e Blu-RayCelulares e TelefonesCâmeras e FilmadorasDecoração de NatalEletrodomésticosEletroportáteisEsporte e LazerFlores e CestasGamesIndústria e ComércioInformáticaInstrumentos MusicaisJoalheriaLivros e RevistasCupons de DescontoBlogBlogTodos os artigosMelhores celularesMelhores notebooksMelhores TVsMelhores geladeirasMelhores lavadorasMelhor ar-condicionadoMelhores fogõesMelhores consolesCashbackCashbackLojas em destaqueLojas em destaqueCashback na AmazonCashback na FastCashback na MagaluCashback no PontoFrioCashback na NarsCashback no BoticárioCashback na NikeCashback na QuemDisseBereniceCashback na NetshoesCashback na AvonTodas as lojasTermos de usoCuponsCrédito para vocêOferta do diaCelularesTVsGeladeirasNotebooksxInforme seu CEPPesquise no ZoomVer resultados para “ar condicionado”xInforme seu CEPAlertasEntrarAtivar cashbackCategoriasCelularesiPhoneiPhone 16iPhone 15iPhone 14iPhone 13iPhone 12iPhone 11Celulares SamsungGalaxy S25Galaxy S24Galaxy S23Galaxy S22Galaxy A56Galaxy A54Celulares MotorolaMoto GMoto ECelulares XiaomiXiaomi RedmiCelulares RealmeVer mais em celularesTVsTV 32 polegadasTV 43 polegadasTV 50 polegadasTV 55 polegadasTV 65 polegadasTV 4KTV SamsungTV LGVer mais em TVsLavadorasLavadora BrastempLavadora ElectroluxLavadora PanasonicLavadora ConsulLava e SecaLava e Seca LGLava e Seca SamsungNotebooksNotebook  SamsungNotebook  DellNotebook  LenovoNotebook  AcerNotebook  AsusNotebook  GamerNotebook  i7Notebook  i5MacbookMacbook AirMacbook ProVer mais em notebooksGeladeirasGeladeira ElectroluxGeladeira BrastempGeladeira PanasonicGeladeira ConsulGeladeira InverseGeladeira Frost FreeGeladeira DuplexGeladeira InoxVer mais em geladeirasAr-CondicionadoAr-condicionado 7.500 BTUsAr-condicionado 9.000 BTUsAr-condicionado 12.000 BTUsAr-condicionado 18.000 BTUsAr-condicionado InverterAr-condicionado portátilAr-condicionado de paredeFogõesFogão 4 bocasFogão 4 bocas inoxFogão 4 bocas ElectroluxFogão 4 bocas BrastempFogão 4 bocas DakoFogão 5 bocasFogão 5 bocas ElectroluxFogão 5 bocas BrastempFogão 5 bocas DakoFogão 6 bocasFogão CooktopCooktop 5 bocasCooktop indução 4 bocasConsole de Video GamePlaystation 4Playstation 5Xbox Series SXbox Series XNintendo SwitchOutras CategoriasAutomóveis e VeículosBebêsBeleza e SaúdeBrinquedosCama, Mesa e BanhoCasa e JardimCasa InteligenteCD, DVD e Blu-RayCelulares e TelefonesCâmeras e FilmadorasDecoração de NatalEletrodomésticosEletroportáteisEsporte e LazerFlores e CestasGamesIndústria e ComércioInformáticaInstrumentos MusicaisJoalheriaLivros e RevistasCupons de DescontoBlogTodos os artigosMelhores celularesMelhores notebooksMelhores TVsMelhores geladeirasMelhores lavadorasMelhor ar-condicionadoMelhores fogõesMelhores consolesCashbackLojas em destaqueCashback na AmazonCashback na FastCashback na MagaluCashback no PontoFrioCashback na NarsCashback no BoticárioCashback na NikeCashback na QuemDisseBereniceCashback na NetshoesCashback na AvonTodas as lojasTermos de usoCuponsCrédito para vocêOferta do diaCelularesTVsGeladeirasNotebooksInforme seu CEPHomeEletrodomésticosAr-CondicionadoVocê buscouAr condicionadoQue tipo de ar-condicionado você busca?SplitDe janela / paredePortátilTodos os filtros1PreçosMarcaAvaliaçãoTipoCapacidade de RefrigeraçãoTipo de CicloInverterMais de 4232 resultadosMais relevanteMenor preçoMaior preçoMelhor avaliadoProdutos por página243648Ar-Condicionado Split Hi Wall Consul 12000 BTUs Frio Inverter Dual CBK12EB / CBL12ER$ 2.159,00AmericanasPatrocinadoAr-Condicionado Split Hi Wall Elgin Eco II 9000 BTUs Frio Inverter HJFI09C2IA / HJFE09C2NAR$ 1.978,20AmericanasPatrocinadoAr-Condicionado Janela / Parede Consul 7000 BTUs Frio Inverter Eletrônico CCK07BBR$ 1.915,47AmericanasPatrocinadoIndicaAr-Condicionado Split Hi Wall Elgin Eco II 9000 BTUs Frio Inverter HJFI09C2IA / HJFE09C2NA4.5 (68)Menor preço via Magazine LuizaR$ 1.758,05até 10x de R$ 199,78\n",
      "            \n",
      "           1% de volta na loja todaCompare entre 14 lojasIndicaAr-Condicionado Split Hi Wall LG Dual Inverter Voice 12000 BTUs Frio Inverter S4-Q12JA314.7 (346)Menor preço via ExtraR$ 2.374,05até 10x de R$ 249,90\n",
      "            \n",
      "           0.5% de volta na loja todaCompare entre 8 lojasIndicaAr-Condicionado Split Hi Wall Midea Xtreme Save Connect 12000 BTUs Frio Inverter 42AGVCI12M5 / 38AGVCI12M54.6 (268)Menor preço via ExtraR$ 2.203,20até 10x de R$ 244,80\n",
      "            \n",
      "           0.5% de volta na loja todaCompare entre 6 lojasIndicaAr-Condicionado Split Hi Wall LG Dual Inverter Voice 9000 BTUs Frio Inverter +AI S3-Q09AA31A4.8 (317)Menor preço via Magazine LuizaR$ 1.929,00até 10x de R$ 203,05\n",
      "            \n",
      "           1% de volta na loja todaCompare entre 16 lojasAr-Condicionado Split Hi Wall Springer Midea AI Ecomaster 12000 BTUs Frio Inverter 42EZVCA12M5 / 38EZVCA12M5Menor preço via AmazonR$ 2.149,00até 10x de R$ 214,90\n",
      "            \n",
      "          Compare entre 12 lojasPublicidadeAr-Condicionado Split Hi Wall Elgin Eco 12000 BTUs Quente/Frio Inverter HVQI12B2IA / HVQE12B2IA5 (3)Menor preço via PontoR$ 1.999,00até 10x de R$ 210,42\n",
      "            \n",
      "           0.5% de volta na loja todaCompare entre 12 lojasAr-Condicionado Split Hi Wall Agratto 9000 BTUs Inverter Controle Remoto Frio Liv Top LCST9FI / LCST9FE4.5 (35)Menor preço via Fast ShopR$ 1.547,94 0.5% de volta na loja todaCompare entre 11 lojasIndicaAr-Condicionado Split Hi Wall Samsung Wind Free Connect 12000 BTUs Frio Inverter AR12CVFAMWK4.6 (215)Menor preço via AmazonR$ 2.799,00Compare entre 8 lojasAr-Condicionado Portátil Philco 12000 BTUs Frio PAC12000F54 (468)Menor preço via ExtraR$ 2.572,11até 10x de R$ 285,79\n",
      "            \n",
      "           0.5% de volta na loja todaCompare entre 10 lojasPublicidadeAr-Condicionado Split Hi Wall HQ 9000 BTUs Frio Inverter CFHQ09PIS2AXMenor preço via Casas BahiaR$ 1.579,00até 10x de R$ 175,44\n",
      "            \n",
      "           0.5% de volta na loja todaCompare entre 8 lojasIndicaAr-Condicionado Split Hi Wall LG Dual Inverter Voice 12000 BTUs Frio Inverter +AI S3-Q12JA31K4.7 (29)Menor preço via ExtraR$ 2.429,00até 10x de R$ 242,90\n",
      "            \n",
      "           0.5% de volta na loja todaCompare entre 15 lojasIndicaAr-Condicionado Janela / Parede Springer Midea Duo 10000 BTUs Frio Mecânico QCI105BB QCI108BBMenor preço via ExtraR$ 1.420,20até 10x de R$ 157,80\n",
      "            \n",
      "           0.5% de volta na loja todaCompare entre 2 lojasAr-Condicionado Split Hi Wall LG Dual Inverter Voice 12000 BTUs Frio Inverter +AI S3-Q12JA315 (3)Menor preço via WebcontinentalR$ 2.184,05até 10x de R$ 261,25\n",
      "            \n",
      "           0.5% de volta na loja todaCompare entre 13 lojasIndicaAr-Condicionado Split Hi Wall LG Dual Inverter Voice 9000 BTUs Quente/Frio Inverter +AI S3-W09AA31C4.8 (194)Menor preço via WebcontinentalR$ 2.260,05até 10x de R$ 270,34\n",
      "            \n",
      "           0.5% de volta na loja todaCompare entre 13 lojasAr-Condicionado Split Hi Wall Samsung Wind Free AI 18000 BTUs Quente/Frio Inverter AR18DXFAAWKNAZ / AR18DXFAAWKXAZMenor preço via Fast ShopR$ 3.147,32 0.5% de volta na loja todaCompare entre 10 lojasAr-Condicionado Split Hi Wall Electrolux Color Adapt 12000 BTUs Quente/Frio UI12R / UE12R1 (2)Menor preço via WebcontinentalR$ 1.747,08até 10x de R$ 189,90\n",
      "            \n",
      "           0.5% de volta na loja todaCompare entre 5 lojasAr-Condicionado Split Hi Wall Samsung Wind Free Connect AI 12000 BTUs Quente/Frio Inverter AR12DXFAAWKNAZ / AR12DXFAAWKXAZMenor preço via ExtraR$ 2.339,10até 10x de R$ 259,90\n",
      "            \n",
      "           0.5% de volta na loja todaCompare entre 4 lojasIndicaAr-Condicionado Split Hi Wall LG Dual Inverter Voice 12000 BTUs Quente/Frio Inverter +AI S3-W12JA31A4.7 (136)Menor preço via WebcontinentalR$ 2.554,55até 10x de R$ 305,56\n",
      "            \n",
      "           0.5% de volta na loja todaCompare entre 12 lojasIndicaAr-Condicionado Split Hi Wall LG Dual Inverter Compact 12000 BTUs Frio Inverter +AI S3-Q12JAQAL4.2 (60)Menor preço via Magazine LuizaR$ 2.089,00até 10x de R$ 232,11\n",
      "            \n",
      "           1% de volta na loja todaCompare entre 10 lojasAr-Condicionado Split Hi Wall Agratto 24000 BTUs Frio Inverter Liv Top LCST24F-02I5 (1)Menor preço via Fast ShopR$ 3.454,40 0.5% de volta na loja todaCompare entre 12 lojasAr-Condicionado Split Hi Wall Springer Midea 9000 BTUs Frio Inverter AirVolution Connect 42AFVCI09S5 / 38TVCI09S54.4 (296)Menor preço via Fast ShopR$ 1.869,06 0.5% de volta na loja todaCompare entre 11 lojasAr-Condicionado Split Hi Wall Gree G-Top Auto 9000 BTUs Quente/Frio Inverter GWH09ATA-D6DNA1AMenor preço via Central ArR$ 2.234,65até 6x de R$ 438,17\n",
      "            \n",
      "          Compare entre 8 lojasAr-Condicionado Split Hi Wall Springer Midea Xtreme Save Connect 12000 BTUs Quente/Frio Inverter 42AGVQB12M5 / 38AGVQB12M54.3 (63)Menor preço via PontoR$ 2.299,00até 10x de R$ 255,44\n",
      "            \n",
      "           0.5% de volta na loja todaCompare entre 8 lojasAr-Condicionado Split Hi Wall Samsung Wind Free Connect 9000 BTUs Frio Inverter AR09DYFAAWKNAZ / AR09DYFAAWKXAZ5 (1)Menor preço via PontoR$ 2.398,89até 10x de R$ 239,89\n",
      "            \n",
      "           0.5% de volta na loja todaCompare entre 6 lojas1234567FAQO que é necessário para instalar um ar-condicionado de janela?Para instalar um ar-condicionado de janela, é necessário ter os seguintes itens:\n",
      "\n",
      "1 aparelho de ar-condicionado\n",
      "Marreta para quebrar parede (se não houver o buraco pronto)\n",
      "Disjuntores para a parte elétrica\n",
      "Baixada de luz na voltagem que o ar-condicionado precisa\n",
      "Vedação para fazer o preenchimento de espaço\n",
      "Suporte para o ar-condicionado\n",
      "Qual é a função de um ar-condicionado split piso teto?A principal função do ar-condicionado split piso teto é climatizar grandes áreas, devido à sua capacidade de refrigeração e aquecimento em ambientes amplos.Qual consome mais energia: ar-condicionado quente ou frio?O consumo de energia do ar-condicionado depende da temperatura do ambiente. Se estiver muito quente, o ar-condicionado irá consumir mais energia para resfriar. Se estiver muito frio, ele irá consumir mais energia para aquecer. Portanto, não é possível determinar se o ar-condicionado quente ou frio consome mais energia, pois isso varia de acordo com a temperatura externa.Qual a voltagem padrão do ar-condicionado split?A voltagem padrão do ar-condicionado split é 220V, pois a grande maioria dos modelos é fabricada para essa rede elétrica.Qual é o consumo mensal de energia do ar-condicionado portátil?De acordo com a nossa calculadora, o consumo mensal do ar-condicionado portátil é de 23,2 kWh/mês, o que resulta em um gasto de R$ 74,34 por mês considerando a tarifa de R$ 0,693 por kWh. O aparelho fica ligado durante 15 horas ao longo de 22 dias.Que fabricantes de ar condicionado são os principais?LG, Gree, Philco, Springer Midea, Samsung são os principais fabricantes de ar condicionado.Qual o valor para comprar ar condicionado?O valor para comprar ar condicionado pode variar de acordo com as características de cada produto. Mas, de maneira geral, o preço de ar condicionado fica entre R$ 1.420,20 e R$ 3.454,40.PublicidadeFiltros1Categoria: Ar-CondicionadoPreços+1000 produtos nesta faixa de preçoaté R$ 3.150 (+100)R$ 3.150 a R$ 7.650 (+100)mais de R$ 7.650 (+100)atéIrSelos ZoomIndicaProdutos indicados por Especialistas Zoom. (44)Indicação dos Especialistas#topdelinha(9)#custobenefício(7)#faciltransporte(6)TipoSplit Hi Wall(+100)Split Cassete(74)Split Piso / Teto(60)Janela / Parede(41)Portátil(13)Ver todas as 6 opçõesCapacidade de Refrigeração12.000 BTUs(+100)9.000 BTUs(94)18.000 BTUs(86)24.000 BTUs(66)36.000 BTUs(41)Ver todas as 44 opçõesMarcaLG(60)Gree(49)Philco(48)Springer Midea(48)Samsung(45)Ver todas as 24 opçõesTipo de CicloFrio(+100)Quente/Frio(+100)InverterInverter(+100)Controle Remotocom Controle Remoto(+100)LinhaColor Adapt(24)Eco(23)Wind Free(21)Dual Inverter Voice(20)Xtreme Save Connect(15)Ver todas as 71 opçõesCaracterísticasFunção Timer(+100)Função Dormir(+100)Swing(+100)Turbo(+100)Serpentina de Cobre(+100)Ver todas as 22 opçõesEficiência EnergéticaA (Mais Econômico)(+100)Filtragem do ArFiltro de Bactérias(+100)Filtro para Poeira(+100)Filtro Antifungo(77)Filtro Lavável(70)Indicador de Limpeza de Filtro(66)Ver todas as 10 opçõesVoltagem do Aparelho220V(+100)127V(23)220V ou 380V(15)380V(5)LojasMagazine Luiza(+100)Casas Bahia(+100)Fast Shop(+100)Americanas(+100)Ponto(+100)Ver todas as 20 opçõesAvaliaçõesTodas(+100)4 ou mais(+100)3 ou mais(32)Limpar filtrosAplicarMais de 4232 resultadosDúvidas sobre produtos? Fale com nossos especialistasDestaquesCelularesAr-condicionadoTVsNotebooksGeladeirasTodas as categorias Black FridayCupons Oferta do diaCashbackO ZoomSua privacidade Sobre o ZoomSobre o Zoom CashbackTrabalhe com a gente ImprensaÉtica e IntegridadeMarcas e lojas Área do anunciantePrecisa de Ajuda?Tire sua dúvidaCompare preços e ganhe Cashback para aproveitar nas suas próximas compras dentro do app Zoom ou para resgatar em uma Conta Digital gratuita do PAN (sujeita a análise de crédito).O uso deste site está sujeito aos termos e condições do Termo de Uso e Política de privacidade.© Zoom & Buscapé. Todos os direitos reservados.BANCO PAN S.A. / CNPJ: 59.285.411/0016-08 / AV. INDIANAPOLIS – 3096 CONJ 21-22-31-32-41-42-51 EDIF BURITY BLOCO A/ SP – 04062-904 / Fale conosco  https://www.zoom.com.br/atendimento\n"
     ]
    }
   ],
   "source": [
    "print(document.page_content)"
   ]
  },
  {
   "cell_type": "code",
   "execution_count": 40,
   "id": "d3cc19fc",
   "metadata": {},
   "outputs": [
    {
     "data": {
      "text/plain": [
       "'Document'"
      ]
     },
     "execution_count": 40,
     "metadata": {},
     "output_type": "execute_result"
    }
   ],
   "source": [
    "document.type"
   ]
  },
  {
   "cell_type": "markdown",
   "id": "1705a66f",
   "metadata": {},
   "source": [
    "Now, we can use a textual content in a LLM!\n",
    "\n",
    "But before, let's find a way to delimiter the retails on the search!"
   ]
  },
  {
   "cell_type": "code",
   "execution_count": 41,
   "id": "1c7aca5d",
   "metadata": {},
   "outputs": [],
   "source": [
    "content_split_lines = document.page_content.splitlines()"
   ]
  },
  {
   "cell_type": "code",
   "execution_count": 42,
   "id": "bcf9e48b",
   "metadata": {},
   "outputs": [],
   "source": [
    "RETAILS = [\n",
    "    \"Casas Bahia\",\n",
    "    \"Extra\",\n",
    "    \"Magazine Luiza\"   \n",
    "]"
   ]
  },
  {
   "cell_type": "code",
   "execution_count": 43,
   "id": "43db9b19",
   "metadata": {},
   "outputs": [
    {
     "data": {
      "text/plain": [
       "['Ar condicionado com o menor preço | Zoom CategoriasCategoriasCelularesCelularesiPhoneiPhone 16iPhone 15iPhone 14iPhone 13iPhone 12iPhone 11Celulares SamsungGalaxy S25Galaxy S24Galaxy S23Galaxy S22Galaxy A56Galaxy A54Celulares MotorolaMoto GMoto ECelulares XiaomiXiaomi RedmiCelulares RealmeVer mais em celularesTVsTVsTV 32 polegadasTV 43 polegadasTV 50 polegadasTV 55 polegadasTV 65 polegadasTV 4KTV SamsungTV LGVer mais em TVsLavadorasLavadorasLavadora BrastempLavadora ElectroluxLavadora PanasonicLavadora ConsulLava e SecaLava e Seca LGLava e Seca SamsungNotebooksNotebooksNotebook  SamsungNotebook  DellNotebook  LenovoNotebook  AcerNotebook  AsusNotebook  GamerNotebook  i7Notebook  i5MacbookMacbook AirMacbook ProVer mais em notebooksGeladeirasGeladeirasGeladeira ElectroluxGeladeira BrastempGeladeira PanasonicGeladeira ConsulGeladeira InverseGeladeira Frost FreeGeladeira DuplexGeladeira InoxVer mais em geladeirasAr-CondicionadoAr-CondicionadoAr-condicionado 7.500 BTUsAr-condicionado 9.000 BTUsAr-condicionado 12.000 BTUsAr-condicionado 18.000 BTUsAr-condicionado InverterAr-condicionado portátilAr-condicionado de paredeFogõesFogõesFogão 4 bocasFogão 4 bocas inoxFogão 4 bocas ElectroluxFogão 4 bocas BrastempFogão 4 bocas DakoFogão 5 bocasFogão 5 bocas ElectroluxFogão 5 bocas BrastempFogão 5 bocas DakoFogão 6 bocasFogão CooktopCooktop 5 bocasCooktop indução 4 bocasConsole de Video GameConsole de Video GamePlaystation 4Playstation 5Xbox Series SXbox Series XNintendo SwitchOutras CategoriasOutras CategoriasAutomóveis e VeículosBebêsBeleza e SaúdeBrinquedosCama, Mesa e BanhoCasa e JardimCasa InteligenteCD, DVD e Blu-RayCelulares e TelefonesCâmeras e FilmadorasDecoração de NatalEletrodomésticosEletroportáteisEsporte e LazerFlores e CestasGamesIndústria e ComércioInformáticaInstrumentos MusicaisJoalheriaLivros e RevistasCupons de DescontoBlogBlogTodos os artigosMelhores celularesMelhores notebooksMelhores TVsMelhores geladeirasMelhores lavadorasMelhor ar-condicionadoMelhores fogõesMelhores consolesCashbackCashbackLojas em destaqueLojas em destaqueCashback na AmazonCashback na FastCashback na MagaluCashback no PontoFrioCashback na NarsCashback no BoticárioCashback na NikeCashback na QuemDisseBereniceCashback na NetshoesCashback na AvonTodas as lojasTermos de usoCuponsCrédito para vocêOferta do diaCelularesTVsGeladeirasNotebooksxInforme seu CEPPesquise no ZoomVer resultados para “ar condicionado”xInforme seu CEPAlertasEntrarAtivar cashbackCategoriasCelularesiPhoneiPhone 16iPhone 15iPhone 14iPhone 13iPhone 12iPhone 11Celulares SamsungGalaxy S25Galaxy S24Galaxy S23Galaxy S22Galaxy A56Galaxy A54Celulares MotorolaMoto GMoto ECelulares XiaomiXiaomi RedmiCelulares RealmeVer mais em celularesTVsTV 32 polegadasTV 43 polegadasTV 50 polegadasTV 55 polegadasTV 65 polegadasTV 4KTV SamsungTV LGVer mais em TVsLavadorasLavadora BrastempLavadora ElectroluxLavadora PanasonicLavadora ConsulLava e SecaLava e Seca LGLava e Seca SamsungNotebooksNotebook  SamsungNotebook  DellNotebook  LenovoNotebook  AcerNotebook  AsusNotebook  GamerNotebook  i7Notebook  i5MacbookMacbook AirMacbook ProVer mais em notebooksGeladeirasGeladeira ElectroluxGeladeira BrastempGeladeira PanasonicGeladeira ConsulGeladeira InverseGeladeira Frost FreeGeladeira DuplexGeladeira InoxVer mais em geladeirasAr-CondicionadoAr-condicionado 7.500 BTUsAr-condicionado 9.000 BTUsAr-condicionado 12.000 BTUsAr-condicionado 18.000 BTUsAr-condicionado InverterAr-condicionado portátilAr-condicionado de paredeFogõesFogão 4 bocasFogão 4 bocas inoxFogão 4 bocas ElectroluxFogão 4 bocas BrastempFogão 4 bocas DakoFogão 5 bocasFogão 5 bocas ElectroluxFogão 5 bocas BrastempFogão 5 bocas DakoFogão 6 bocasFogão CooktopCooktop 5 bocasCooktop indução 4 bocasConsole de Video GamePlaystation 4Playstation 5Xbox Series SXbox Series XNintendo SwitchOutras CategoriasAutomóveis e VeículosBebêsBeleza e SaúdeBrinquedosCama, Mesa e BanhoCasa e JardimCasa InteligenteCD, DVD e Blu-RayCelulares e TelefonesCâmeras e FilmadorasDecoração de NatalEletrodomésticosEletroportáteisEsporte e LazerFlores e CestasGamesIndústria e ComércioInformáticaInstrumentos MusicaisJoalheriaLivros e RevistasCupons de DescontoBlogTodos os artigosMelhores celularesMelhores notebooksMelhores TVsMelhores geladeirasMelhores lavadorasMelhor ar-condicionadoMelhores fogõesMelhores consolesCashbackLojas em destaqueCashback na AmazonCashback na FastCashback na MagaluCashback no PontoFrioCashback na NarsCashback no BoticárioCashback na NikeCashback na QuemDisseBereniceCashback na NetshoesCashback na AvonTodas as lojasTermos de usoCuponsCrédito para vocêOferta do diaCelularesTVsGeladeirasNotebooksInforme seu CEPHomeEletrodomésticosAr-CondicionadoVocê buscouAr condicionadoQue tipo de ar-condicionado você busca?SplitDe janela / paredePortátilTodos os filtros1PreçosMarcaAvaliaçãoTipoCapacidade de RefrigeraçãoTipo de CicloInverterMais de 4232 resultadosMais relevanteMenor preçoMaior preçoMelhor avaliadoProdutos por página243648Ar-Condicionado Split Hi Wall Consul 12000 BTUs Frio Inverter Dual CBK12EB / CBL12ER$ 2.159,00AmericanasPatrocinadoAr-Condicionado Split Hi Wall Elgin Eco II 9000 BTUs Frio Inverter HJFI09C2IA / HJFE09C2NAR$ 1.978,20AmericanasPatrocinadoAr-Condicionado Janela / Parede Consul 7000 BTUs Frio Inverter Eletrônico CCK07BBR$ 1.915,47AmericanasPatrocinadoIndicaAr-Condicionado Split Hi Wall Elgin Eco II 9000 BTUs Frio Inverter HJFI09C2IA / HJFE09C2NA4.5 (68)Menor preço via Magazine LuizaR$ 1.758,05até 10x de R$ 199,78',\n",
       " '            ',\n",
       " '           1% de volta na loja todaCompare entre 14 lojasIndicaAr-Condicionado Split Hi Wall LG Dual Inverter Voice 12000 BTUs Frio Inverter S4-Q12JA314.7 (346)Menor preço via ExtraR$ 2.374,05até 10x de R$ 249,90',\n",
       " '            ',\n",
       " '           0.5% de volta na loja todaCompare entre 8 lojasIndicaAr-Condicionado Split Hi Wall Midea Xtreme Save Connect 12000 BTUs Frio Inverter 42AGVCI12M5 / 38AGVCI12M54.6 (268)Menor preço via ExtraR$ 2.203,20até 10x de R$ 244,80',\n",
       " '            ',\n",
       " '           0.5% de volta na loja todaCompare entre 6 lojasIndicaAr-Condicionado Split Hi Wall LG Dual Inverter Voice 9000 BTUs Frio Inverter +AI S3-Q09AA31A4.8 (317)Menor preço via Magazine LuizaR$ 1.929,00até 10x de R$ 203,05',\n",
       " '            ',\n",
       " '           1% de volta na loja todaCompare entre 16 lojasAr-Condicionado Split Hi Wall Springer Midea AI Ecomaster 12000 BTUs Frio Inverter 42EZVCA12M5 / 38EZVCA12M5Menor preço via AmazonR$ 2.149,00até 10x de R$ 214,90',\n",
       " '            ',\n",
       " '          Compare entre 12 lojasPublicidadeAr-Condicionado Split Hi Wall Elgin Eco 12000 BTUs Quente/Frio Inverter HVQI12B2IA / HVQE12B2IA5 (3)Menor preço via PontoR$ 1.999,00até 10x de R$ 210,42',\n",
       " '            ',\n",
       " '           0.5% de volta na loja todaCompare entre 12 lojasAr-Condicionado Split Hi Wall Agratto 9000 BTUs Inverter Controle Remoto Frio Liv Top LCST9FI / LCST9FE4.5 (35)Menor preço via Fast ShopR$ 1.547,94 0.5% de volta na loja todaCompare entre 11 lojasIndicaAr-Condicionado Split Hi Wall Samsung Wind Free Connect 12000 BTUs Frio Inverter AR12CVFAMWK4.6 (215)Menor preço via AmazonR$ 2.799,00Compare entre 8 lojasAr-Condicionado Portátil Philco 12000 BTUs Frio PAC12000F54 (468)Menor preço via ExtraR$ 2.572,11até 10x de R$ 285,79',\n",
       " '            ',\n",
       " '           0.5% de volta na loja todaCompare entre 10 lojasPublicidadeAr-Condicionado Split Hi Wall HQ 9000 BTUs Frio Inverter CFHQ09PIS2AXMenor preço via Casas BahiaR$ 1.579,00até 10x de R$ 175,44',\n",
       " '            ',\n",
       " '           0.5% de volta na loja todaCompare entre 8 lojasIndicaAr-Condicionado Split Hi Wall LG Dual Inverter Voice 12000 BTUs Frio Inverter +AI S3-Q12JA31K4.7 (29)Menor preço via ExtraR$ 2.429,00até 10x de R$ 242,90',\n",
       " '            ',\n",
       " '           0.5% de volta na loja todaCompare entre 15 lojasIndicaAr-Condicionado Janela / Parede Springer Midea Duo 10000 BTUs Frio Mecânico QCI105BB QCI108BBMenor preço via ExtraR$ 1.420,20até 10x de R$ 157,80',\n",
       " '            ',\n",
       " '           0.5% de volta na loja todaCompare entre 2 lojasAr-Condicionado Split Hi Wall LG Dual Inverter Voice 12000 BTUs Frio Inverter +AI S3-Q12JA315 (3)Menor preço via WebcontinentalR$ 2.184,05até 10x de R$ 261,25',\n",
       " '            ',\n",
       " '           0.5% de volta na loja todaCompare entre 13 lojasIndicaAr-Condicionado Split Hi Wall LG Dual Inverter Voice 9000 BTUs Quente/Frio Inverter +AI S3-W09AA31C4.8 (194)Menor preço via WebcontinentalR$ 2.260,05até 10x de R$ 270,34',\n",
       " '            ',\n",
       " '           0.5% de volta na loja todaCompare entre 13 lojasAr-Condicionado Split Hi Wall Samsung Wind Free AI 18000 BTUs Quente/Frio Inverter AR18DXFAAWKNAZ / AR18DXFAAWKXAZMenor preço via Fast ShopR$ 3.147,32 0.5% de volta na loja todaCompare entre 10 lojasAr-Condicionado Split Hi Wall Electrolux Color Adapt 12000 BTUs Quente/Frio UI12R / UE12R1 (2)Menor preço via WebcontinentalR$ 1.747,08até 10x de R$ 189,90',\n",
       " '            ',\n",
       " '           0.5% de volta na loja todaCompare entre 5 lojasAr-Condicionado Split Hi Wall Samsung Wind Free Connect AI 12000 BTUs Quente/Frio Inverter AR12DXFAAWKNAZ / AR12DXFAAWKXAZMenor preço via ExtraR$ 2.339,10até 10x de R$ 259,90',\n",
       " '            ',\n",
       " '           0.5% de volta na loja todaCompare entre 4 lojasIndicaAr-Condicionado Split Hi Wall LG Dual Inverter Voice 12000 BTUs Quente/Frio Inverter +AI S3-W12JA31A4.7 (136)Menor preço via WebcontinentalR$ 2.554,55até 10x de R$ 305,56',\n",
       " '            ',\n",
       " '           0.5% de volta na loja todaCompare entre 12 lojasIndicaAr-Condicionado Split Hi Wall LG Dual Inverter Compact 12000 BTUs Frio Inverter +AI S3-Q12JAQAL4.2 (60)Menor preço via Magazine LuizaR$ 2.089,00até 10x de R$ 232,11',\n",
       " '            ',\n",
       " '           1% de volta na loja todaCompare entre 10 lojasAr-Condicionado Split Hi Wall Agratto 24000 BTUs Frio Inverter Liv Top LCST24F-02I5 (1)Menor preço via Fast ShopR$ 3.454,40 0.5% de volta na loja todaCompare entre 12 lojasAr-Condicionado Split Hi Wall Springer Midea 9000 BTUs Frio Inverter AirVolution Connect 42AFVCI09S5 / 38TVCI09S54.4 (296)Menor preço via Fast ShopR$ 1.869,06 0.5% de volta na loja todaCompare entre 11 lojasAr-Condicionado Split Hi Wall Gree G-Top Auto 9000 BTUs Quente/Frio Inverter GWH09ATA-D6DNA1AMenor preço via Central ArR$ 2.234,65até 6x de R$ 438,17',\n",
       " '            ',\n",
       " '          Compare entre 8 lojasAr-Condicionado Split Hi Wall Springer Midea Xtreme Save Connect 12000 BTUs Quente/Frio Inverter 42AGVQB12M5 / 38AGVQB12M54.3 (63)Menor preço via PontoR$ 2.299,00até 10x de R$ 255,44',\n",
       " '            ',\n",
       " '           0.5% de volta na loja todaCompare entre 8 lojasAr-Condicionado Split Hi Wall Samsung Wind Free Connect 9000 BTUs Frio Inverter AR09DYFAAWKNAZ / AR09DYFAAWKXAZ5 (1)Menor preço via PontoR$ 2.398,89até 10x de R$ 239,89',\n",
       " '            ',\n",
       " '           0.5% de volta na loja todaCompare entre 6 lojas1234567FAQO que é necessário para instalar um ar-condicionado de janela?Para instalar um ar-condicionado de janela, é necessário ter os seguintes itens:',\n",
       " '',\n",
       " '1 aparelho de ar-condicionado',\n",
       " 'Marreta para quebrar parede (se não houver o buraco pronto)',\n",
       " 'Disjuntores para a parte elétrica',\n",
       " 'Baixada de luz na voltagem que o ar-condicionado precisa',\n",
       " 'Vedação para fazer o preenchimento de espaço',\n",
       " 'Suporte para o ar-condicionado',\n",
       " 'Qual é a função de um ar-condicionado split piso teto?A principal função do ar-condicionado split piso teto é climatizar grandes áreas, devido à sua capacidade de refrigeração e aquecimento em ambientes amplos.Qual consome mais energia: ar-condicionado quente ou frio?O consumo de energia do ar-condicionado depende da temperatura do ambiente. Se estiver muito quente, o ar-condicionado irá consumir mais energia para resfriar. Se estiver muito frio, ele irá consumir mais energia para aquecer. Portanto, não é possível determinar se o ar-condicionado quente ou frio consome mais energia, pois isso varia de acordo com a temperatura externa.Qual a voltagem padrão do ar-condicionado split?A voltagem padrão do ar-condicionado split é 220V, pois a grande maioria dos modelos é fabricada para essa rede elétrica.Qual é o consumo mensal de energia do ar-condicionado portátil?De acordo com a nossa calculadora, o consumo mensal do ar-condicionado portátil é de 23,2 kWh/mês, o que resulta em um gasto de R$ 74,34 por mês considerando a tarifa de R$ 0,693 por kWh. O aparelho fica ligado durante 15 horas ao longo de 22 dias.Que fabricantes de ar condicionado são os principais?LG, Gree, Philco, Springer Midea, Samsung são os principais fabricantes de ar condicionado.Qual o valor para comprar ar condicionado?O valor para comprar ar condicionado pode variar de acordo com as características de cada produto. Mas, de maneira geral, o preço de ar condicionado fica entre R$ 1.420,20 e R$ 3.454,40.PublicidadeFiltros1Categoria: Ar-CondicionadoPreços+1000 produtos nesta faixa de preçoaté R$ 3.150 (+100)R$ 3.150 a R$ 7.650 (+100)mais de R$ 7.650 (+100)atéIrSelos ZoomIndicaProdutos indicados por Especialistas Zoom. (44)Indicação dos Especialistas#topdelinha(9)#custobenefício(7)#faciltransporte(6)TipoSplit Hi Wall(+100)Split Cassete(74)Split Piso / Teto(60)Janela / Parede(41)Portátil(13)Ver todas as 6 opçõesCapacidade de Refrigeração12.000 BTUs(+100)9.000 BTUs(94)18.000 BTUs(86)24.000 BTUs(66)36.000 BTUs(41)Ver todas as 44 opçõesMarcaLG(60)Gree(49)Philco(48)Springer Midea(48)Samsung(45)Ver todas as 24 opçõesTipo de CicloFrio(+100)Quente/Frio(+100)InverterInverter(+100)Controle Remotocom Controle Remoto(+100)LinhaColor Adapt(24)Eco(23)Wind Free(21)Dual Inverter Voice(20)Xtreme Save Connect(15)Ver todas as 71 opçõesCaracterísticasFunção Timer(+100)Função Dormir(+100)Swing(+100)Turbo(+100)Serpentina de Cobre(+100)Ver todas as 22 opçõesEficiência EnergéticaA (Mais Econômico)(+100)Filtragem do ArFiltro de Bactérias(+100)Filtro para Poeira(+100)Filtro Antifungo(77)Filtro Lavável(70)Indicador de Limpeza de Filtro(66)Ver todas as 10 opçõesVoltagem do Aparelho220V(+100)127V(23)220V ou 380V(15)380V(5)LojasMagazine Luiza(+100)Casas Bahia(+100)Fast Shop(+100)Americanas(+100)Ponto(+100)Ver todas as 20 opçõesAvaliaçõesTodas(+100)4 ou mais(+100)3 ou mais(32)Limpar filtrosAplicarMais de 4232 resultadosDúvidas sobre produtos? Fale com nossos especialistasDestaquesCelularesAr-condicionadoTVsNotebooksGeladeirasTodas as categorias Black FridayCupons Oferta do diaCashbackO ZoomSua privacidade Sobre o ZoomSobre o Zoom CashbackTrabalhe com a gente ImprensaÉtica e IntegridadeMarcas e lojas Área do anunciantePrecisa de Ajuda?Tire sua dúvidaCompare preços e ganhe Cashback para aproveitar nas suas próximas compras dentro do app Zoom ou para resgatar em uma Conta Digital gratuita do PAN (sujeita a análise de crédito).O uso deste site está sujeito aos termos e condições do Termo de Uso e Política de privacidade.© Zoom & Buscapé. Todos os direitos reservados.BANCO PAN S.A. / CNPJ: 59.285.411/0016-08 / AV. INDIANAPOLIS – 3096 CONJ 21-22-31-32-41-42-51 EDIF BURITY BLOCO A/ SP – 04062-904 / Fale conosco  https://www.zoom.com.br/atendimento']"
      ]
     },
     "execution_count": 43,
     "metadata": {},
     "output_type": "execute_result"
    }
   ],
   "source": [
    "content_split_lines"
   ]
  },
  {
   "cell_type": "code",
   "execution_count": 44,
   "id": "bf5a9058",
   "metadata": {},
   "outputs": [
    {
     "data": {
      "text/plain": [
       "'(Casas Bahia|Extra|Magazine Luiza)'"
      ]
     },
     "execution_count": 44,
     "metadata": {},
     "output_type": "execute_result"
    }
   ],
   "source": [
    "pattern = rf'({\"|\".join(RETAILS)})'\n",
    "\n",
    "pattern"
   ]
  },
  {
   "cell_type": "code",
   "execution_count": 45,
   "id": "ba37fb65",
   "metadata": {},
   "outputs": [],
   "source": [
    "lines_with_retails = [content.strip() for content in content_split_lines if search(pattern, content)]"
   ]
  },
  {
   "cell_type": "code",
   "execution_count": 46,
   "id": "bd6e8ae7",
   "metadata": {},
   "outputs": [
    {
     "data": {
      "text/plain": [
       "['Ar condicionado com o menor preço | Zoom CategoriasCategoriasCelularesCelularesiPhoneiPhone 16iPhone 15iPhone 14iPhone 13iPhone 12iPhone 11Celulares SamsungGalaxy S25Galaxy S24Galaxy S23Galaxy S22Galaxy A56Galaxy A54Celulares MotorolaMoto GMoto ECelulares XiaomiXiaomi RedmiCelulares RealmeVer mais em celularesTVsTVsTV 32 polegadasTV 43 polegadasTV 50 polegadasTV 55 polegadasTV 65 polegadasTV 4KTV SamsungTV LGVer mais em TVsLavadorasLavadorasLavadora BrastempLavadora ElectroluxLavadora PanasonicLavadora ConsulLava e SecaLava e Seca LGLava e Seca SamsungNotebooksNotebooksNotebook  SamsungNotebook  DellNotebook  LenovoNotebook  AcerNotebook  AsusNotebook  GamerNotebook  i7Notebook  i5MacbookMacbook AirMacbook ProVer mais em notebooksGeladeirasGeladeirasGeladeira ElectroluxGeladeira BrastempGeladeira PanasonicGeladeira ConsulGeladeira InverseGeladeira Frost FreeGeladeira DuplexGeladeira InoxVer mais em geladeirasAr-CondicionadoAr-CondicionadoAr-condicionado 7.500 BTUsAr-condicionado 9.000 BTUsAr-condicionado 12.000 BTUsAr-condicionado 18.000 BTUsAr-condicionado InverterAr-condicionado portátilAr-condicionado de paredeFogõesFogõesFogão 4 bocasFogão 4 bocas inoxFogão 4 bocas ElectroluxFogão 4 bocas BrastempFogão 4 bocas DakoFogão 5 bocasFogão 5 bocas ElectroluxFogão 5 bocas BrastempFogão 5 bocas DakoFogão 6 bocasFogão CooktopCooktop 5 bocasCooktop indução 4 bocasConsole de Video GameConsole de Video GamePlaystation 4Playstation 5Xbox Series SXbox Series XNintendo SwitchOutras CategoriasOutras CategoriasAutomóveis e VeículosBebêsBeleza e SaúdeBrinquedosCama, Mesa e BanhoCasa e JardimCasa InteligenteCD, DVD e Blu-RayCelulares e TelefonesCâmeras e FilmadorasDecoração de NatalEletrodomésticosEletroportáteisEsporte e LazerFlores e CestasGamesIndústria e ComércioInformáticaInstrumentos MusicaisJoalheriaLivros e RevistasCupons de DescontoBlogBlogTodos os artigosMelhores celularesMelhores notebooksMelhores TVsMelhores geladeirasMelhores lavadorasMelhor ar-condicionadoMelhores fogõesMelhores consolesCashbackCashbackLojas em destaqueLojas em destaqueCashback na AmazonCashback na FastCashback na MagaluCashback no PontoFrioCashback na NarsCashback no BoticárioCashback na NikeCashback na QuemDisseBereniceCashback na NetshoesCashback na AvonTodas as lojasTermos de usoCuponsCrédito para vocêOferta do diaCelularesTVsGeladeirasNotebooksxInforme seu CEPPesquise no ZoomVer resultados para “ar condicionado”xInforme seu CEPAlertasEntrarAtivar cashbackCategoriasCelularesiPhoneiPhone 16iPhone 15iPhone 14iPhone 13iPhone 12iPhone 11Celulares SamsungGalaxy S25Galaxy S24Galaxy S23Galaxy S22Galaxy A56Galaxy A54Celulares MotorolaMoto GMoto ECelulares XiaomiXiaomi RedmiCelulares RealmeVer mais em celularesTVsTV 32 polegadasTV 43 polegadasTV 50 polegadasTV 55 polegadasTV 65 polegadasTV 4KTV SamsungTV LGVer mais em TVsLavadorasLavadora BrastempLavadora ElectroluxLavadora PanasonicLavadora ConsulLava e SecaLava e Seca LGLava e Seca SamsungNotebooksNotebook  SamsungNotebook  DellNotebook  LenovoNotebook  AcerNotebook  AsusNotebook  GamerNotebook  i7Notebook  i5MacbookMacbook AirMacbook ProVer mais em notebooksGeladeirasGeladeira ElectroluxGeladeira BrastempGeladeira PanasonicGeladeira ConsulGeladeira InverseGeladeira Frost FreeGeladeira DuplexGeladeira InoxVer mais em geladeirasAr-CondicionadoAr-condicionado 7.500 BTUsAr-condicionado 9.000 BTUsAr-condicionado 12.000 BTUsAr-condicionado 18.000 BTUsAr-condicionado InverterAr-condicionado portátilAr-condicionado de paredeFogõesFogão 4 bocasFogão 4 bocas inoxFogão 4 bocas ElectroluxFogão 4 bocas BrastempFogão 4 bocas DakoFogão 5 bocasFogão 5 bocas ElectroluxFogão 5 bocas BrastempFogão 5 bocas DakoFogão 6 bocasFogão CooktopCooktop 5 bocasCooktop indução 4 bocasConsole de Video GamePlaystation 4Playstation 5Xbox Series SXbox Series XNintendo SwitchOutras CategoriasAutomóveis e VeículosBebêsBeleza e SaúdeBrinquedosCama, Mesa e BanhoCasa e JardimCasa InteligenteCD, DVD e Blu-RayCelulares e TelefonesCâmeras e FilmadorasDecoração de NatalEletrodomésticosEletroportáteisEsporte e LazerFlores e CestasGamesIndústria e ComércioInformáticaInstrumentos MusicaisJoalheriaLivros e RevistasCupons de DescontoBlogTodos os artigosMelhores celularesMelhores notebooksMelhores TVsMelhores geladeirasMelhores lavadorasMelhor ar-condicionadoMelhores fogõesMelhores consolesCashbackLojas em destaqueCashback na AmazonCashback na FastCashback na MagaluCashback no PontoFrioCashback na NarsCashback no BoticárioCashback na NikeCashback na QuemDisseBereniceCashback na NetshoesCashback na AvonTodas as lojasTermos de usoCuponsCrédito para vocêOferta do diaCelularesTVsGeladeirasNotebooksInforme seu CEPHomeEletrodomésticosAr-CondicionadoVocê buscouAr condicionadoQue tipo de ar-condicionado você busca?SplitDe janela / paredePortátilTodos os filtros1PreçosMarcaAvaliaçãoTipoCapacidade de RefrigeraçãoTipo de CicloInverterMais de 4232 resultadosMais relevanteMenor preçoMaior preçoMelhor avaliadoProdutos por página243648Ar-Condicionado Split Hi Wall Consul 12000 BTUs Frio Inverter Dual CBK12EB / CBL12ER$ 2.159,00AmericanasPatrocinadoAr-Condicionado Split Hi Wall Elgin Eco II 9000 BTUs Frio Inverter HJFI09C2IA / HJFE09C2NAR$ 1.978,20AmericanasPatrocinadoAr-Condicionado Janela / Parede Consul 7000 BTUs Frio Inverter Eletrônico CCK07BBR$ 1.915,47AmericanasPatrocinadoIndicaAr-Condicionado Split Hi Wall Elgin Eco II 9000 BTUs Frio Inverter HJFI09C2IA / HJFE09C2NA4.5 (68)Menor preço via Magazine LuizaR$ 1.758,05até 10x de R$ 199,78',\n",
       " '1% de volta na loja todaCompare entre 14 lojasIndicaAr-Condicionado Split Hi Wall LG Dual Inverter Voice 12000 BTUs Frio Inverter S4-Q12JA314.7 (346)Menor preço via ExtraR$ 2.374,05até 10x de R$ 249,90',\n",
       " '0.5% de volta na loja todaCompare entre 8 lojasIndicaAr-Condicionado Split Hi Wall Midea Xtreme Save Connect 12000 BTUs Frio Inverter 42AGVCI12M5 / 38AGVCI12M54.6 (268)Menor preço via ExtraR$ 2.203,20até 10x de R$ 244,80',\n",
       " '0.5% de volta na loja todaCompare entre 6 lojasIndicaAr-Condicionado Split Hi Wall LG Dual Inverter Voice 9000 BTUs Frio Inverter +AI S3-Q09AA31A4.8 (317)Menor preço via Magazine LuizaR$ 1.929,00até 10x de R$ 203,05',\n",
       " '0.5% de volta na loja todaCompare entre 12 lojasAr-Condicionado Split Hi Wall Agratto 9000 BTUs Inverter Controle Remoto Frio Liv Top LCST9FI / LCST9FE4.5 (35)Menor preço via Fast ShopR$ 1.547,94 0.5% de volta na loja todaCompare entre 11 lojasIndicaAr-Condicionado Split Hi Wall Samsung Wind Free Connect 12000 BTUs Frio Inverter AR12CVFAMWK4.6 (215)Menor preço via AmazonR$ 2.799,00Compare entre 8 lojasAr-Condicionado Portátil Philco 12000 BTUs Frio PAC12000F54 (468)Menor preço via ExtraR$ 2.572,11até 10x de R$ 285,79',\n",
       " '0.5% de volta na loja todaCompare entre 10 lojasPublicidadeAr-Condicionado Split Hi Wall HQ 9000 BTUs Frio Inverter CFHQ09PIS2AXMenor preço via Casas BahiaR$ 1.579,00até 10x de R$ 175,44',\n",
       " '0.5% de volta na loja todaCompare entre 8 lojasIndicaAr-Condicionado Split Hi Wall LG Dual Inverter Voice 12000 BTUs Frio Inverter +AI S3-Q12JA31K4.7 (29)Menor preço via ExtraR$ 2.429,00até 10x de R$ 242,90',\n",
       " '0.5% de volta na loja todaCompare entre 15 lojasIndicaAr-Condicionado Janela / Parede Springer Midea Duo 10000 BTUs Frio Mecânico QCI105BB QCI108BBMenor preço via ExtraR$ 1.420,20até 10x de R$ 157,80',\n",
       " '0.5% de volta na loja todaCompare entre 5 lojasAr-Condicionado Split Hi Wall Samsung Wind Free Connect AI 12000 BTUs Quente/Frio Inverter AR12DXFAAWKNAZ / AR12DXFAAWKXAZMenor preço via ExtraR$ 2.339,10até 10x de R$ 259,90',\n",
       " '0.5% de volta na loja todaCompare entre 12 lojasIndicaAr-Condicionado Split Hi Wall LG Dual Inverter Compact 12000 BTUs Frio Inverter +AI S3-Q12JAQAL4.2 (60)Menor preço via Magazine LuizaR$ 2.089,00até 10x de R$ 232,11',\n",
       " 'Qual é a função de um ar-condicionado split piso teto?A principal função do ar-condicionado split piso teto é climatizar grandes áreas, devido à sua capacidade de refrigeração e aquecimento em ambientes amplos.Qual consome mais energia: ar-condicionado quente ou frio?O consumo de energia do ar-condicionado depende da temperatura do ambiente. Se estiver muito quente, o ar-condicionado irá consumir mais energia para resfriar. Se estiver muito frio, ele irá consumir mais energia para aquecer. Portanto, não é possível determinar se o ar-condicionado quente ou frio consome mais energia, pois isso varia de acordo com a temperatura externa.Qual a voltagem padrão do ar-condicionado split?A voltagem padrão do ar-condicionado split é 220V, pois a grande maioria dos modelos é fabricada para essa rede elétrica.Qual é o consumo mensal de energia do ar-condicionado portátil?De acordo com a nossa calculadora, o consumo mensal do ar-condicionado portátil é de 23,2 kWh/mês, o que resulta em um gasto de R$ 74,34 por mês considerando a tarifa de R$ 0,693 por kWh. O aparelho fica ligado durante 15 horas ao longo de 22 dias.Que fabricantes de ar condicionado são os principais?LG, Gree, Philco, Springer Midea, Samsung são os principais fabricantes de ar condicionado.Qual o valor para comprar ar condicionado?O valor para comprar ar condicionado pode variar de acordo com as características de cada produto. Mas, de maneira geral, o preço de ar condicionado fica entre R$ 1.420,20 e R$ 3.454,40.PublicidadeFiltros1Categoria: Ar-CondicionadoPreços+1000 produtos nesta faixa de preçoaté R$ 3.150 (+100)R$ 3.150 a R$ 7.650 (+100)mais de R$ 7.650 (+100)atéIrSelos ZoomIndicaProdutos indicados por Especialistas Zoom. (44)Indicação dos Especialistas#topdelinha(9)#custobenefício(7)#faciltransporte(6)TipoSplit Hi Wall(+100)Split Cassete(74)Split Piso / Teto(60)Janela / Parede(41)Portátil(13)Ver todas as 6 opçõesCapacidade de Refrigeração12.000 BTUs(+100)9.000 BTUs(94)18.000 BTUs(86)24.000 BTUs(66)36.000 BTUs(41)Ver todas as 44 opçõesMarcaLG(60)Gree(49)Philco(48)Springer Midea(48)Samsung(45)Ver todas as 24 opçõesTipo de CicloFrio(+100)Quente/Frio(+100)InverterInverter(+100)Controle Remotocom Controle Remoto(+100)LinhaColor Adapt(24)Eco(23)Wind Free(21)Dual Inverter Voice(20)Xtreme Save Connect(15)Ver todas as 71 opçõesCaracterísticasFunção Timer(+100)Função Dormir(+100)Swing(+100)Turbo(+100)Serpentina de Cobre(+100)Ver todas as 22 opçõesEficiência EnergéticaA (Mais Econômico)(+100)Filtragem do ArFiltro de Bactérias(+100)Filtro para Poeira(+100)Filtro Antifungo(77)Filtro Lavável(70)Indicador de Limpeza de Filtro(66)Ver todas as 10 opçõesVoltagem do Aparelho220V(+100)127V(23)220V ou 380V(15)380V(5)LojasMagazine Luiza(+100)Casas Bahia(+100)Fast Shop(+100)Americanas(+100)Ponto(+100)Ver todas as 20 opçõesAvaliaçõesTodas(+100)4 ou mais(+100)3 ou mais(32)Limpar filtrosAplicarMais de 4232 resultadosDúvidas sobre produtos? Fale com nossos especialistasDestaquesCelularesAr-condicionadoTVsNotebooksGeladeirasTodas as categorias Black FridayCupons Oferta do diaCashbackO ZoomSua privacidade Sobre o ZoomSobre o Zoom CashbackTrabalhe com a gente ImprensaÉtica e IntegridadeMarcas e lojas Área do anunciantePrecisa de Ajuda?Tire sua dúvidaCompare preços e ganhe Cashback para aproveitar nas suas próximas compras dentro do app Zoom ou para resgatar em uma Conta Digital gratuita do PAN (sujeita a análise de crédito).O uso deste site está sujeito aos termos e condições do Termo de Uso e Política de privacidade.© Zoom & Buscapé. Todos os direitos reservados.BANCO PAN S.A. / CNPJ: 59.285.411/0016-08 / AV. INDIANAPOLIS – 3096 CONJ 21-22-31-32-41-42-51 EDIF BURITY BLOCO A/ SP – 04062-904 / Fale conosco  https://www.zoom.com.br/atendimento']"
      ]
     },
     "execution_count": 46,
     "metadata": {},
     "output_type": "execute_result"
    }
   ],
   "source": [
    "lines_with_retails"
   ]
  },
  {
   "cell_type": "markdown",
   "id": "d3308690",
   "metadata": {},
   "source": [
    "Now, let's send this to a LLM!"
   ]
  },
  {
   "cell_type": "code",
   "execution_count": 47,
   "id": "86f5ec09",
   "metadata": {},
   "outputs": [],
   "source": [
    "chat = ChatOllama(base_url=OLLAMA_URL, model=LLM_MODEL)"
   ]
  },
  {
   "cell_type": "code",
   "execution_count": 48,
   "id": "a3bb16e5",
   "metadata": {},
   "outputs": [],
   "source": [
    "breakline = lambda: '\\n'\n",
    "\n",
    "messages: list[AnyMessage] = [\n",
    "    SystemMessage(content=\"Você é um assistente especializado em ler uma série de ofertas com diferentes preços e trazer a melhor oferta e a sua respectiva loja!\", name=\"System\"),\n",
    "    HumanMessage(content=f\"Me dê a melhor oferta a partir das seguintes opções:\\n{breakline().join(lines_with_retails)}\\nNão esqueça de me falar onde comprar\", name=\"Author\")\n",
    "]"
   ]
  },
  {
   "cell_type": "code",
   "execution_count": 49,
   "id": "6ef9fe38",
   "metadata": {},
   "outputs": [],
   "source": [
    "answer = chat.invoke(messages)"
   ]
  },
  {
   "cell_type": "code",
   "execution_count": 50,
   "id": "91392eb4",
   "metadata": {},
   "outputs": [
    {
     "name": "stdout",
     "output_type": "stream",
     "text": [
      "Olá! Estou aqui para ajudar.\n",
      "\n",
      "Após analisar as ofertas disponíveis, eu recomendo o seguinte produto:\n",
      "\n",
      "**Ar-Condicionado Split Hi Wall LG Dual Inverter Voice 12000 BTUs Frio Inverter S4-Q12JA314**\n",
      "\n",
      "Preço: R$ 2.374,05\n",
      "\n",
      "Loja: Extra\n",
      "\n",
      "Você pode comprar este produto na loja Extra ou no site de compras online da Amazon.\n",
      "\n",
      "Além disso, com o uso do aplicativo Zoom e aproveitar as ofertas especiais disponíveis, você também pode ganhar cashback e economizar mais dinheiro ao fazer a compra.\n",
      "\n",
      "Aqui estão as informações das ofertas que eu considerei:\n",
      "\n",
      "* Ar-Condicionado Split Hi Wall LG Dual Inverter Voice 12000 BTUs Frio Inverter S4-Q12JA314: R$ 2.374,05 na loja Extra\n",
      "* Ar-Condicionado Portátil Philco 12000 BTUs Frio PAC12000F54: R$ 2.572,11 na loja Extra\n",
      "\n",
      "Essas são as opções mais acessíveis e com as melhores características para o preço.\n",
      "\n",
      "Espero que isso ajude! Se tiver alguma dúvida adicional, sinta-se à vontade para perguntar.\n"
     ]
    }
   ],
   "source": [
    "print(answer.content)"
   ]
  },
  {
   "cell_type": "markdown",
   "id": "b218d987",
   "metadata": {},
   "source": [
    "All right! Now we understand how to use the ``WebBaseLoader`` to load websites and take text from it!"
   ]
  }
 ],
 "metadata": {
  "kernelspec": {
   "display_name": "precificador",
   "language": "python",
   "name": "python3"
  },
  "language_info": {
   "codemirror_mode": {
    "name": "ipython",
    "version": 3
   },
   "file_extension": ".py",
   "mimetype": "text/x-python",
   "name": "python",
   "nbconvert_exporter": "python",
   "pygments_lexer": "ipython3",
   "version": "3.10.18"
  }
 },
 "nbformat": 4,
 "nbformat_minor": 5
}
