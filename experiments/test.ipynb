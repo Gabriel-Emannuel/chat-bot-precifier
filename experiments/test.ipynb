{
 "cells": [
  {
   "cell_type": "markdown",
   "id": "b84ee9ce",
   "metadata": {},
   "source": [
    "# Testing the RAG agent\n",
    "\n",
    "The objective on this notebook is to test the RAG agent to identify prices!\n",
    "\n",
    "The previous notebook can be found: [`experiments/agent.ipynb`](agent.ipynb).\n",
    "\n",
    "This notebook will test:\n",
    "* Context: \n",
    "    * Precision;\n",
    "    * Recall. \n",
    "* Faithfulness\n",
    "* Medium latency;"
   ]
  },
  {
   "cell_type": "markdown",
   "id": "2c0e5520",
   "metadata": {},
   "source": [
    "---"
   ]
  },
  {
   "cell_type": "markdown",
   "id": "64003ae6",
   "metadata": {},
   "source": [
    "Importing packages:"
   ]
  },
  {
   "cell_type": "code",
   "execution_count": 1,
   "id": "b76724f0",
   "metadata": {},
   "outputs": [
    {
     "name": "stdout",
     "output_type": "stream",
     "text": [
      "Requirement already satisfied: ragas in /home/gabael/miniconda3/envs/precificador/lib/python3.10/site-packages (0.3.5)\n",
      "Requirement already satisfied: rapidfuzz in /home/gabael/miniconda3/envs/precificador/lib/python3.10/site-packages (3.14.1)\n",
      "Requirement already satisfied: pandas in /home/gabael/miniconda3/envs/precificador/lib/python3.10/site-packages (2.3.2)\n",
      "Requirement already satisfied: numpy in /home/gabael/miniconda3/envs/precificador/lib/python3.10/site-packages (from ragas) (1.26.4)\n",
      "Requirement already satisfied: datasets>=4.0.0 in /home/gabael/miniconda3/envs/precificador/lib/python3.10/site-packages (from ragas) (4.1.1)\n",
      "Requirement already satisfied: tiktoken in /home/gabael/miniconda3/envs/precificador/lib/python3.10/site-packages (from ragas) (0.11.0)\n",
      "Requirement already satisfied: pydantic>=2.0.0 in /home/gabael/miniconda3/envs/precificador/lib/python3.10/site-packages (from ragas) (2.11.9)\n",
      "Requirement already satisfied: nest-asyncio in /home/gabael/miniconda3/envs/precificador/lib/python3.10/site-packages (from ragas) (1.6.0)\n",
      "Requirement already satisfied: appdirs in /home/gabael/miniconda3/envs/precificador/lib/python3.10/site-packages (from ragas) (1.4.4)\n",
      "Requirement already satisfied: diskcache>=5.6.3 in /home/gabael/miniconda3/envs/precificador/lib/python3.10/site-packages (from ragas) (5.6.3)\n",
      "Requirement already satisfied: typer in /home/gabael/miniconda3/envs/precificador/lib/python3.10/site-packages (from ragas) (0.19.1)\n",
      "Requirement already satisfied: rich in /home/gabael/miniconda3/envs/precificador/lib/python3.10/site-packages (from ragas) (14.1.0)\n",
      "Requirement already satisfied: openai>=1.0.0 in /home/gabael/miniconda3/envs/precificador/lib/python3.10/site-packages (from ragas) (1.107.3)\n",
      "Requirement already satisfied: tqdm in /home/gabael/miniconda3/envs/precificador/lib/python3.10/site-packages (from ragas) (4.67.1)\n",
      "Requirement already satisfied: instructor in /home/gabael/miniconda3/envs/precificador/lib/python3.10/site-packages (from ragas) (1.11.3)\n",
      "Requirement already satisfied: gitpython in /home/gabael/miniconda3/envs/precificador/lib/python3.10/site-packages (from ragas) (3.1.45)\n",
      "Requirement already satisfied: pillow>=10.4.0 in /home/gabael/miniconda3/envs/precificador/lib/python3.10/site-packages (from ragas) (11.3.0)\n",
      "Requirement already satisfied: networkx in /home/gabael/miniconda3/envs/precificador/lib/python3.10/site-packages (from ragas) (3.4.2)\n",
      "Requirement already satisfied: scikit-network in /home/gabael/miniconda3/envs/precificador/lib/python3.10/site-packages (from ragas) (0.33.3)\n",
      "Requirement already satisfied: langchain in /home/gabael/miniconda3/envs/precificador/lib/python3.10/site-packages (from ragas) (0.3.27)\n",
      "Requirement already satisfied: langchain-core in /home/gabael/miniconda3/envs/precificador/lib/python3.10/site-packages (from ragas) (0.3.76)\n",
      "Requirement already satisfied: langchain-community in /home/gabael/miniconda3/envs/precificador/lib/python3.10/site-packages (from ragas) (0.3.29)\n",
      "Requirement already satisfied: langchain_openai in /home/gabael/miniconda3/envs/precificador/lib/python3.10/site-packages (from ragas) (0.3.33)\n",
      "Requirement already satisfied: python-dateutil>=2.8.2 in /home/gabael/miniconda3/envs/precificador/lib/python3.10/site-packages (from pandas) (2.9.0.post0)\n",
      "Requirement already satisfied: pytz>=2020.1 in /home/gabael/miniconda3/envs/precificador/lib/python3.10/site-packages (from pandas) (2025.2)\n",
      "Requirement already satisfied: tzdata>=2022.7 in /home/gabael/miniconda3/envs/precificador/lib/python3.10/site-packages (from pandas) (2025.2)\n",
      "Requirement already satisfied: filelock in /home/gabael/miniconda3/envs/precificador/lib/python3.10/site-packages (from datasets>=4.0.0->ragas) (3.19.1)\n",
      "Requirement already satisfied: pyarrow>=21.0.0 in /home/gabael/miniconda3/envs/precificador/lib/python3.10/site-packages (from datasets>=4.0.0->ragas) (21.0.0)\n",
      "Requirement already satisfied: dill<0.4.1,>=0.3.0 in /home/gabael/miniconda3/envs/precificador/lib/python3.10/site-packages (from datasets>=4.0.0->ragas) (0.4.0)\n",
      "Requirement already satisfied: requests>=2.32.2 in /home/gabael/miniconda3/envs/precificador/lib/python3.10/site-packages (from datasets>=4.0.0->ragas) (2.32.5)\n",
      "Requirement already satisfied: xxhash in /home/gabael/miniconda3/envs/precificador/lib/python3.10/site-packages (from datasets>=4.0.0->ragas) (3.5.0)\n",
      "Requirement already satisfied: multiprocess<0.70.17 in /home/gabael/miniconda3/envs/precificador/lib/python3.10/site-packages (from datasets>=4.0.0->ragas) (0.70.16)\n",
      "Requirement already satisfied: fsspec<=2025.9.0,>=2023.1.0 in /home/gabael/miniconda3/envs/precificador/lib/python3.10/site-packages (from fsspec[http]<=2025.9.0,>=2023.1.0->datasets>=4.0.0->ragas) (2025.9.0)\n",
      "Requirement already satisfied: huggingface-hub>=0.24.0 in /home/gabael/miniconda3/envs/precificador/lib/python3.10/site-packages (from datasets>=4.0.0->ragas) (0.35.0)\n",
      "Requirement already satisfied: packaging in /home/gabael/miniconda3/envs/precificador/lib/python3.10/site-packages (from datasets>=4.0.0->ragas) (25.0)\n",
      "Requirement already satisfied: pyyaml>=5.1 in /home/gabael/miniconda3/envs/precificador/lib/python3.10/site-packages (from datasets>=4.0.0->ragas) (6.0.2)\n",
      "Requirement already satisfied: aiohttp!=4.0.0a0,!=4.0.0a1 in /home/gabael/miniconda3/envs/precificador/lib/python3.10/site-packages (from fsspec[http]<=2025.9.0,>=2023.1.0->datasets>=4.0.0->ragas) (3.12.15)\n",
      "Requirement already satisfied: aiohappyeyeballs>=2.5.0 in /home/gabael/miniconda3/envs/precificador/lib/python3.10/site-packages (from aiohttp!=4.0.0a0,!=4.0.0a1->fsspec[http]<=2025.9.0,>=2023.1.0->datasets>=4.0.0->ragas) (2.6.1)\n",
      "Requirement already satisfied: aiosignal>=1.4.0 in /home/gabael/miniconda3/envs/precificador/lib/python3.10/site-packages (from aiohttp!=4.0.0a0,!=4.0.0a1->fsspec[http]<=2025.9.0,>=2023.1.0->datasets>=4.0.0->ragas) (1.4.0)\n",
      "Requirement already satisfied: async-timeout<6.0,>=4.0 in /home/gabael/miniconda3/envs/precificador/lib/python3.10/site-packages (from aiohttp!=4.0.0a0,!=4.0.0a1->fsspec[http]<=2025.9.0,>=2023.1.0->datasets>=4.0.0->ragas) (4.0.3)\n",
      "Requirement already satisfied: attrs>=17.3.0 in /home/gabael/miniconda3/envs/precificador/lib/python3.10/site-packages (from aiohttp!=4.0.0a0,!=4.0.0a1->fsspec[http]<=2025.9.0,>=2023.1.0->datasets>=4.0.0->ragas) (25.3.0)\n",
      "Requirement already satisfied: frozenlist>=1.1.1 in /home/gabael/miniconda3/envs/precificador/lib/python3.10/site-packages (from aiohttp!=4.0.0a0,!=4.0.0a1->fsspec[http]<=2025.9.0,>=2023.1.0->datasets>=4.0.0->ragas) (1.7.0)\n",
      "Requirement already satisfied: multidict<7.0,>=4.5 in /home/gabael/miniconda3/envs/precificador/lib/python3.10/site-packages (from aiohttp!=4.0.0a0,!=4.0.0a1->fsspec[http]<=2025.9.0,>=2023.1.0->datasets>=4.0.0->ragas) (6.6.4)\n",
      "Requirement already satisfied: propcache>=0.2.0 in /home/gabael/miniconda3/envs/precificador/lib/python3.10/site-packages (from aiohttp!=4.0.0a0,!=4.0.0a1->fsspec[http]<=2025.9.0,>=2023.1.0->datasets>=4.0.0->ragas) (0.3.2)\n",
      "Requirement already satisfied: yarl<2.0,>=1.17.0 in /home/gabael/miniconda3/envs/precificador/lib/python3.10/site-packages (from aiohttp!=4.0.0a0,!=4.0.0a1->fsspec[http]<=2025.9.0,>=2023.1.0->datasets>=4.0.0->ragas) (1.20.1)\n",
      "Requirement already satisfied: typing-extensions>=4.1.0 in /home/gabael/miniconda3/envs/precificador/lib/python3.10/site-packages (from multidict<7.0,>=4.5->aiohttp!=4.0.0a0,!=4.0.0a1->fsspec[http]<=2025.9.0,>=2023.1.0->datasets>=4.0.0->ragas) (4.15.0)\n",
      "Requirement already satisfied: idna>=2.0 in /home/gabael/miniconda3/envs/precificador/lib/python3.10/site-packages (from yarl<2.0,>=1.17.0->aiohttp!=4.0.0a0,!=4.0.0a1->fsspec[http]<=2025.9.0,>=2023.1.0->datasets>=4.0.0->ragas) (3.10)\n",
      "Requirement already satisfied: hf-xet<2.0.0,>=1.1.3 in /home/gabael/miniconda3/envs/precificador/lib/python3.10/site-packages (from huggingface-hub>=0.24.0->datasets>=4.0.0->ragas) (1.1.10)\n",
      "Requirement already satisfied: anyio<5,>=3.5.0 in /home/gabael/miniconda3/envs/precificador/lib/python3.10/site-packages (from openai>=1.0.0->ragas) (4.10.0)\n",
      "Requirement already satisfied: distro<2,>=1.7.0 in /home/gabael/miniconda3/envs/precificador/lib/python3.10/site-packages (from openai>=1.0.0->ragas) (1.9.0)\n",
      "Requirement already satisfied: httpx<1,>=0.23.0 in /home/gabael/miniconda3/envs/precificador/lib/python3.10/site-packages (from openai>=1.0.0->ragas) (0.28.1)\n",
      "Requirement already satisfied: jiter<1,>=0.4.0 in /home/gabael/miniconda3/envs/precificador/lib/python3.10/site-packages (from openai>=1.0.0->ragas) (0.10.0)\n",
      "Requirement already satisfied: sniffio in /home/gabael/miniconda3/envs/precificador/lib/python3.10/site-packages (from openai>=1.0.0->ragas) (1.3.1)\n",
      "Requirement already satisfied: exceptiongroup>=1.0.2 in /home/gabael/miniconda3/envs/precificador/lib/python3.10/site-packages (from anyio<5,>=3.5.0->openai>=1.0.0->ragas) (1.3.0)\n",
      "Requirement already satisfied: certifi in /home/gabael/miniconda3/envs/precificador/lib/python3.10/site-packages (from httpx<1,>=0.23.0->openai>=1.0.0->ragas) (2025.8.3)\n",
      "Requirement already satisfied: httpcore==1.* in /home/gabael/miniconda3/envs/precificador/lib/python3.10/site-packages (from httpx<1,>=0.23.0->openai>=1.0.0->ragas) (1.0.9)\n",
      "Requirement already satisfied: h11>=0.16 in /home/gabael/miniconda3/envs/precificador/lib/python3.10/site-packages (from httpcore==1.*->httpx<1,>=0.23.0->openai>=1.0.0->ragas) (0.16.0)\n",
      "Requirement already satisfied: annotated-types>=0.6.0 in /home/gabael/miniconda3/envs/precificador/lib/python3.10/site-packages (from pydantic>=2.0.0->ragas) (0.7.0)\n",
      "Requirement already satisfied: pydantic-core==2.33.2 in /home/gabael/miniconda3/envs/precificador/lib/python3.10/site-packages (from pydantic>=2.0.0->ragas) (2.33.2)\n",
      "Requirement already satisfied: typing-inspection>=0.4.0 in /home/gabael/miniconda3/envs/precificador/lib/python3.10/site-packages (from pydantic>=2.0.0->ragas) (0.4.1)\n",
      "Requirement already satisfied: six>=1.5 in /home/gabael/miniconda3/envs/precificador/lib/python3.10/site-packages (from python-dateutil>=2.8.2->pandas) (1.17.0)\n",
      "Requirement already satisfied: charset_normalizer<4,>=2 in /home/gabael/miniconda3/envs/precificador/lib/python3.10/site-packages (from requests>=2.32.2->datasets>=4.0.0->ragas) (3.4.3)\n",
      "Requirement already satisfied: urllib3<3,>=1.21.1 in /home/gabael/miniconda3/envs/precificador/lib/python3.10/site-packages (from requests>=2.32.2->datasets>=4.0.0->ragas) (2.5.0)\n",
      "Requirement already satisfied: gitdb<5,>=4.0.1 in /home/gabael/miniconda3/envs/precificador/lib/python3.10/site-packages (from gitpython->ragas) (4.0.12)\n",
      "Requirement already satisfied: smmap<6,>=3.0.1 in /home/gabael/miniconda3/envs/precificador/lib/python3.10/site-packages (from gitdb<5,>=4.0.1->gitpython->ragas) (5.0.2)\n",
      "Requirement already satisfied: docstring-parser<1.0,>=0.16 in /home/gabael/miniconda3/envs/precificador/lib/python3.10/site-packages (from instructor->ragas) (0.17.0)\n",
      "Requirement already satisfied: jinja2<4.0.0,>=3.1.4 in /home/gabael/miniconda3/envs/precificador/lib/python3.10/site-packages (from instructor->ragas) (3.1.6)\n",
      "Requirement already satisfied: tenacity<10.0.0,>=8.2.3 in /home/gabael/miniconda3/envs/precificador/lib/python3.10/site-packages (from instructor->ragas) (9.1.2)\n",
      "Requirement already satisfied: MarkupSafe>=2.0 in /home/gabael/miniconda3/envs/precificador/lib/python3.10/site-packages (from jinja2<4.0.0,>=3.1.4->instructor->ragas) (3.0.2)\n",
      "Requirement already satisfied: markdown-it-py>=2.2.0 in /home/gabael/miniconda3/envs/precificador/lib/python3.10/site-packages (from rich->ragas) (4.0.0)\n",
      "Requirement already satisfied: pygments<3.0.0,>=2.13.0 in /home/gabael/miniconda3/envs/precificador/lib/python3.10/site-packages (from rich->ragas) (2.19.2)\n",
      "Requirement already satisfied: click>=8.0.0 in /home/gabael/miniconda3/envs/precificador/lib/python3.10/site-packages (from typer->ragas) (8.3.0)\n",
      "Requirement already satisfied: shellingham>=1.3.0 in /home/gabael/miniconda3/envs/precificador/lib/python3.10/site-packages (from typer->ragas) (1.5.4)\n",
      "Requirement already satisfied: mdurl~=0.1 in /home/gabael/miniconda3/envs/precificador/lib/python3.10/site-packages (from markdown-it-py>=2.2.0->rich->ragas) (0.1.2)\n",
      "Requirement already satisfied: langchain-text-splitters<1.0.0,>=0.3.9 in /home/gabael/miniconda3/envs/precificador/lib/python3.10/site-packages (from langchain->ragas) (0.3.11)\n",
      "Requirement already satisfied: langsmith>=0.1.17 in /home/gabael/miniconda3/envs/precificador/lib/python3.10/site-packages (from langchain->ragas) (0.4.27)\n",
      "Requirement already satisfied: SQLAlchemy<3,>=1.4 in /home/gabael/miniconda3/envs/precificador/lib/python3.10/site-packages (from langchain->ragas) (2.0.43)\n",
      "Requirement already satisfied: jsonpatch<2.0,>=1.33 in /home/gabael/miniconda3/envs/precificador/lib/python3.10/site-packages (from langchain-core->ragas) (1.33)\n",
      "Requirement already satisfied: jsonpointer>=1.9 in /home/gabael/miniconda3/envs/precificador/lib/python3.10/site-packages (from jsonpatch<2.0,>=1.33->langchain-core->ragas) (3.0.0)\n",
      "Requirement already satisfied: greenlet>=1 in /home/gabael/miniconda3/envs/precificador/lib/python3.10/site-packages (from SQLAlchemy<3,>=1.4->langchain->ragas) (3.2.4)\n",
      "Requirement already satisfied: orjson>=3.9.14 in /home/gabael/miniconda3/envs/precificador/lib/python3.10/site-packages (from langsmith>=0.1.17->langchain->ragas) (3.11.3)\n",
      "Requirement already satisfied: requests-toolbelt>=1.0.0 in /home/gabael/miniconda3/envs/precificador/lib/python3.10/site-packages (from langsmith>=0.1.17->langchain->ragas) (1.0.0)\n",
      "Requirement already satisfied: zstandard>=0.23.0 in /home/gabael/miniconda3/envs/precificador/lib/python3.10/site-packages (from langsmith>=0.1.17->langchain->ragas) (0.25.0)\n",
      "Requirement already satisfied: dataclasses-json<0.7,>=0.6.7 in /home/gabael/miniconda3/envs/precificador/lib/python3.10/site-packages (from langchain-community->ragas) (0.6.7)\n",
      "Requirement already satisfied: pydantic-settings<3.0.0,>=2.10.1 in /home/gabael/miniconda3/envs/precificador/lib/python3.10/site-packages (from langchain-community->ragas) (2.10.1)\n",
      "Requirement already satisfied: httpx-sse<1.0.0,>=0.4.0 in /home/gabael/miniconda3/envs/precificador/lib/python3.10/site-packages (from langchain-community->ragas) (0.4.1)\n",
      "Requirement already satisfied: marshmallow<4.0.0,>=3.18.0 in /home/gabael/miniconda3/envs/precificador/lib/python3.10/site-packages (from dataclasses-json<0.7,>=0.6.7->langchain-community->ragas) (3.26.1)\n",
      "Requirement already satisfied: typing-inspect<1,>=0.4.0 in /home/gabael/miniconda3/envs/precificador/lib/python3.10/site-packages (from dataclasses-json<0.7,>=0.6.7->langchain-community->ragas) (0.9.0)\n",
      "Requirement already satisfied: python-dotenv>=0.21.0 in /home/gabael/miniconda3/envs/precificador/lib/python3.10/site-packages (from pydantic-settings<3.0.0,>=2.10.1->langchain-community->ragas) (1.1.1)\n",
      "Requirement already satisfied: mypy-extensions>=0.3.0 in /home/gabael/miniconda3/envs/precificador/lib/python3.10/site-packages (from typing-inspect<1,>=0.4.0->dataclasses-json<0.7,>=0.6.7->langchain-community->ragas) (1.1.0)\n",
      "Requirement already satisfied: regex>=2022.1.18 in /home/gabael/miniconda3/envs/precificador/lib/python3.10/site-packages (from tiktoken->ragas) (2025.9.1)\n",
      "Requirement already satisfied: scipy>=1.7.3 in /home/gabael/miniconda3/envs/precificador/lib/python3.10/site-packages (from scikit-network->ragas) (1.11.4)\n"
     ]
    }
   ],
   "source": [
    "!pip install ragas rapidfuzz pandas"
   ]
  },
  {
   "cell_type": "code",
   "execution_count": null,
   "id": "b0e27870",
   "metadata": {},
   "outputs": [],
   "source": [
    "from langchain_core.messages import SystemMessage, HumanMessage\n",
    "from langchain_ollama import ChatOllama\n",
    "from ollama import Client\n",
    "\n",
    "from pandas import DataFrame\n",
    "\n",
    "from ragas.llms import LangchainLLMWrapper\n",
    "from ragas.dataset_schema import SingleTurnSample, EvaluationDataset\n",
    "from ragas import evaluate\n",
    "from ragas.metrics import (\n",
    "    Faithfulness, \n",
    "    AnswerCorrectness,\n",
    "    AnswerRelevancy,\n",
    "    ContextRecall,\n",
    "    ContextPrecision,\n",
    "    NonLLMContextPrecisionWithReference,\n",
    "    NonLLMContextRecall\n",
    "    )\n",
    "\n",
    "from ragas.config import run\n",
    "\n",
    "from time import time\n",
    "from typing import TypedDict\n",
    "from json import load"
   ]
  },
  {
   "cell_type": "code",
   "execution_count": 3,
   "id": "db40a371",
   "metadata": {},
   "outputs": [
    {
     "name": "stdout",
     "output_type": "stream",
     "text": [
      "/home/gabael/projetos/precificador\n"
     ]
    }
   ],
   "source": [
    "%cd .."
   ]
  },
  {
   "cell_type": "code",
   "execution_count": 37,
   "id": "09d49298",
   "metadata": {},
   "outputs": [],
   "source": [
    "from src.ollama.llm import chat\n",
    "from src.ollama.embedding import embeddings\n",
    "\n",
    "from src.graph.rag import generate_price\n",
    "from src.rag.rag import generate_vector_store, generate_documents_from_web"
   ]
  },
  {
   "cell_type": "markdown",
   "id": "b5975413",
   "metadata": {},
   "source": [
    "---"
   ]
  },
  {
   "cell_type": "markdown",
   "id": "e4826f91",
   "metadata": {},
   "source": [
    "Prepare test environment:"
   ]
  },
  {
   "cell_type": "code",
   "execution_count": null,
   "id": "a4903052",
   "metadata": {},
   "outputs": [],
   "source": [
    "OLLAMA_URL = \"http://localhost:11434\"\n",
    "EVALUATE_MODEL = \"llama3-2:1b\""
   ]
  },
  {
   "cell_type": "code",
   "execution_count": 6,
   "id": "84fc1c9f",
   "metadata": {},
   "outputs": [],
   "source": [
    "client = Client(OLLAMA_URL)"
   ]
  },
  {
   "cell_type": "code",
   "execution_count": 7,
   "id": "4a65dff4",
   "metadata": {},
   "outputs": [
    {
     "data": {
      "text/plain": [
       "ProgressResponse(status='success', completed=None, total=None, digest=None)"
      ]
     },
     "execution_count": 7,
     "metadata": {},
     "output_type": "execute_result"
    }
   ],
   "source": [
    "client.pull(EVALUATE_MODEL)"
   ]
  },
  {
   "cell_type": "code",
   "execution_count": 8,
   "id": "53d6fdcf",
   "metadata": {},
   "outputs": [],
   "source": [
    "evaluate_chat = ChatOllama(base_url=OLLAMA_URL, model=EVALUATE_MODEL)"
   ]
  },
  {
   "cell_type": "code",
   "execution_count": 9,
   "id": "323011b7",
   "metadata": {},
   "outputs": [],
   "source": [
    "class Question(TypedDict):\n",
    "    query: str\n",
    "    product: str"
   ]
  },
  {
   "cell_type": "code",
   "execution_count": 10,
   "id": "5e373c6f",
   "metadata": {},
   "outputs": [],
   "source": [
    "with open(\"dataset/questions.json\", 'r') as f:\n",
    "    questions: list[Question] = load(f)"
   ]
  },
  {
   "cell_type": "code",
   "execution_count": 11,
   "id": "1eab7a3b",
   "metadata": {},
   "outputs": [],
   "source": [
    "products = set(q['product'] for q in questions)"
   ]
  },
  {
   "cell_type": "code",
   "execution_count": 12,
   "id": "1e59f7ab",
   "metadata": {},
   "outputs": [],
   "source": [
    "documents = {\n",
    "    product: generate_documents_from_web(product)\n",
    "    for product in products\n",
    "    }"
   ]
  },
  {
   "cell_type": "code",
   "execution_count": 13,
   "id": "3dcfa6bc",
   "metadata": {},
   "outputs": [],
   "source": [
    "vector_stores = {\n",
    "    product: generate_vector_store(documents[product])\n",
    "    for product in products\n",
    "}"
   ]
  },
  {
   "cell_type": "code",
   "execution_count": 14,
   "id": "8c630518",
   "metadata": {},
   "outputs": [],
   "source": [
    "retrievals = [\n",
    "    vector_stores[question['product']].similarity_search(question['query'], 10)\n",
    "    for question in questions\n",
    "]"
   ]
  },
  {
   "cell_type": "code",
   "execution_count": 15,
   "id": "e4f60acf",
   "metadata": {},
   "outputs": [],
   "source": [
    "def break_line() -> str:\n",
    "    return '\\n'\n",
    "\n",
    "answers = [\n",
    "    chat.invoke([\n",
    "        SystemMessage(f\"\"\"Você é um assistente especializado em realizar pesquisas de preço. Responda apenas com o preço e onde comprar.\n",
    "                                  \n",
    "                        Utilize esta base de conhecimento: {\n",
    "                            break_line().join([\n",
    "                                doc.page_content for doc in retrieval\n",
    "                            ])}.\"\"\"),\n",
    "        HumanMessage(question['query'])])\n",
    "    for retrieval, question in zip(retrievals, questions)\n",
    "]"
   ]
  },
  {
   "cell_type": "code",
   "execution_count": 16,
   "id": "aacc0579",
   "metadata": {},
   "outputs": [],
   "source": [
    "single_samples = [\n",
    "    SingleTurnSample(\n",
    "        user_input=question['query'],\n",
    "        response=str(answer.content),\n",
    "        reference=question['query'],\n",
    "        retrieved_contexts=[r.page_content for r in retrieval],\n",
    "        reference_contexts=[doc.page_content for doc in documents[question['product']]]\n",
    "        ) \n",
    "    for (question, retrieval, answer) \n",
    "    in zip(questions, retrievals, answers)\n",
    "]"
   ]
  },
  {
   "cell_type": "code",
   "execution_count": 33,
   "id": "bd75e840",
   "metadata": {},
   "outputs": [],
   "source": [
    "dataset = EvaluationDataset(single_samples)"
   ]
  },
  {
   "cell_type": "code",
   "execution_count": 34,
   "id": "6d1d5209",
   "metadata": {},
   "outputs": [],
   "source": [
    "#llm = LangchainLLMWrapper(evaluate_chat)\n",
    "llm = LangchainLLMWrapper(chat)"
   ]
  },
  {
   "cell_type": "markdown",
   "id": "d3215f42",
   "metadata": {},
   "source": [
    "---"
   ]
  },
  {
   "cell_type": "markdown",
   "id": "8ba2125e",
   "metadata": {},
   "source": [
    "Evaluate:"
   ]
  },
  {
   "cell_type": "code",
   "execution_count": 40,
   "id": "963c61bf",
   "metadata": {},
   "outputs": [],
   "source": [
    "metrics = [\n",
    "    Faithfulness(), \n",
    "    AnswerCorrectness(),\n",
    "    AnswerRelevancy(),\n",
    "    ContextRecall(),\n",
    "    ContextPrecision(),\n",
    "    NonLLMContextPrecisionWithReference(),\n",
    "    NonLLMContextRecall()\n",
    "]"
   ]
  },
  {
   "cell_type": "code",
   "execution_count": null,
   "id": "470472b7",
   "metadata": {},
   "outputs": [
    {
     "name": "stderr",
     "output_type": "stream",
     "text": [
      "Evaluating:   5%|▌         | 7/140 [04:23<1:50:08, 49.68s/it]Exception raised in Job[14]: TimeoutError()\n",
      "Exception raised in Job[16]: TimeoutError()\n",
      "Exception raised in Job[17]: TimeoutError()\n",
      "Exception raised in Job[18]: TimeoutError()\n",
      "Exception raised in Job[7]: TimeoutError()\n",
      "Exception raised in Job[1]: TimeoutError()\n",
      "Exception raised in Job[10]: TimeoutError()\n",
      "Exception raised in Job[0]: TimeoutError()\n",
      "Exception raised in Job[11]: TimeoutError()\n",
      "Exception raised in Job[3]: TimeoutError()\n",
      "Exception raised in Job[15]: TimeoutError()\n",
      "Exception raised in Job[4]: TimeoutError()\n",
      "Exception raised in Job[21]: TimeoutError()\n",
      "Exception raised in Job[8]: TimeoutError()\n",
      "Exception raised in Job[9]: TimeoutError()\n",
      "Evaluating:  21%|██▏       | 30/140 [09:01<49:55, 27.23s/it] Exception raised in Job[25]: TimeoutError()\n",
      "Exception raised in Job[23]: TimeoutError()\n",
      "Exception raised in Job[30]: TimeoutError()\n",
      "Exception raised in Job[36]: TimeoutError()\n",
      "Exception raised in Job[29]: TimeoutError()\n",
      "Exception raised in Job[39]: TimeoutError()\n",
      "Exception raised in Job[28]: TimeoutError()\n",
      "Exception raised in Job[42]: TimeoutError()\n",
      "Exception raised in Job[22]: TimeoutError()\n",
      "Exception raised in Job[43]: TimeoutError()\n",
      "Exception raised in Job[38]: TimeoutError()\n",
      "Exception raised in Job[32]: TimeoutError()\n",
      "Exception raised in Job[35]: TimeoutError()\n",
      "Exception raised in Job[31]: TimeoutError()\n",
      "Evaluating:  36%|███▋      | 51/140 [09:20<13:48,  9.31s/it]Exception raised in Job[44]: TimeoutError()\n",
      "Evaluating:  37%|███▋      | 52/140 [09:36<11:44,  8.00s/it]"
     ]
    }
   ],
   "source": [
    "score = evaluate(\n",
    "    dataset=dataset,\n",
    "    metrics=metrics,\n",
    "    llm=llm,\n",
    "    embeddings=embeddings,\n",
    "    raise_exceptions=False,\n",
    ")"
   ]
  },
  {
   "cell_type": "code",
   "execution_count": null,
   "id": "792d79bb",
   "metadata": {},
   "outputs": [],
   "source": [
    "df = score.to_pandas()"
   ]
  },
  {
   "cell_type": "code",
   "execution_count": null,
   "id": "88a82415",
   "metadata": {},
   "outputs": [],
   "source": [
    "df"
   ]
  },
  {
   "cell_type": "code",
   "execution_count": null,
   "id": "44668e39",
   "metadata": {},
   "outputs": [],
   "source": [
    "df.to_csv(\"dataset/evaluation.csv\")"
   ]
  },
  {
   "cell_type": "markdown",
   "id": "bdc2b292",
   "metadata": {},
   "source": [
    "---"
   ]
  },
  {
   "cell_type": "markdown",
   "id": "cfbd15da",
   "metadata": {},
   "source": [
    "Context:"
   ]
  },
  {
   "cell_type": "code",
   "execution_count": 19,
   "id": "2b8415ec",
   "metadata": {},
   "outputs": [],
   "source": [
    "non_llm_context_recall = NonLLMContextRecall() \n",
    "non_llm_context_precision_with_reference = NonLLMContextPrecisionWithReference()"
   ]
  },
  {
   "cell_type": "code",
   "execution_count": 20,
   "id": "35d1eb3a",
   "metadata": {},
   "outputs": [],
   "source": [
    "non_llm_context_recall_list = [non_llm_context_recall.single_turn_score(sample) for sample in dataset]"
   ]
  },
  {
   "cell_type": "code",
   "execution_count": 21,
   "id": "d571ac57",
   "metadata": {},
   "outputs": [],
   "source": [
    "non_llm_context_precision_with_reference_list = [non_llm_context_precision_with_reference.single_turn_score(sample) for sample in dataset]"
   ]
  },
  {
   "cell_type": "code",
   "execution_count": 22,
   "id": "32d5b7ba",
   "metadata": {},
   "outputs": [
    {
     "data": {
      "application/vnd.microsoft.datawrangler.viewer.v0+json": {
       "columns": [
        {
         "name": "index",
         "rawType": "int64",
         "type": "integer"
        },
        {
         "name": "context recall",
         "rawType": "float64",
         "type": "float"
        },
        {
         "name": "context precision",
         "rawType": "float64",
         "type": "float"
        }
       ],
       "ref": "aaa7562c-081e-4430-87ef-473956a0748b",
       "rows": [
        [
         "0",
         "0.09782608695652174",
         "0.99999999999"
        ],
        [
         "1",
         "0.3732876712328767",
         "0.99999999999"
        ],
        [
         "2",
         "0.3387096774193548",
         "0.99999999999"
        ],
        [
         "3",
         "0.47619047619047616",
         "0.99999999999"
        ],
        [
         "4",
         "0.087248322147651",
         "0.99999999999"
        ],
        [
         "5",
         "0.10232558139534884",
         "0.99999999999"
        ],
        [
         "6",
         "0.8421052631578947",
         "0.99999999999"
        ],
        [
         "7",
         "0.55",
         "0.99999999999"
        ],
        [
         "8",
         "0.7777777777777778",
         "0.99999999999"
        ],
        [
         "9",
         "0.7857142857142857",
         "0.99999999999"
        ],
        [
         "10",
         "1.0",
         "0.9999999999833333"
        ],
        [
         "11",
         "0.059574468085106386",
         "0.99999999999"
        ],
        [
         "12",
         "0.19689119170984457",
         "0.99999999999"
        ],
        [
         "13",
         "0.65625",
         "0.99999999999"
        ],
        [
         "14",
         "0.078125",
         "0.99999999999"
        ],
        [
         "15",
         "0.07394366197183098",
         "0.99999999999"
        ],
        [
         "16",
         "0.6666666666666666",
         "0.99999999999"
        ],
        [
         "17",
         "0.7857142857142857",
         "0.99999999999"
        ],
        [
         "18",
         "0.2441860465116279",
         "0.99999999999"
        ],
        [
         "19",
         "0.7857142857142857",
         "0.99999999999"
        ]
       ],
       "shape": {
        "columns": 2,
        "rows": 20
       }
      },
      "text/html": [
       "<div>\n",
       "<style scoped>\n",
       "    .dataframe tbody tr th:only-of-type {\n",
       "        vertical-align: middle;\n",
       "    }\n",
       "\n",
       "    .dataframe tbody tr th {\n",
       "        vertical-align: top;\n",
       "    }\n",
       "\n",
       "    .dataframe thead th {\n",
       "        text-align: right;\n",
       "    }\n",
       "</style>\n",
       "<table border=\"1\" class=\"dataframe\">\n",
       "  <thead>\n",
       "    <tr style=\"text-align: right;\">\n",
       "      <th></th>\n",
       "      <th>context recall</th>\n",
       "      <th>context precision</th>\n",
       "    </tr>\n",
       "  </thead>\n",
       "  <tbody>\n",
       "    <tr>\n",
       "      <th>0</th>\n",
       "      <td>0.097826</td>\n",
       "      <td>1.0</td>\n",
       "    </tr>\n",
       "    <tr>\n",
       "      <th>1</th>\n",
       "      <td>0.373288</td>\n",
       "      <td>1.0</td>\n",
       "    </tr>\n",
       "    <tr>\n",
       "      <th>2</th>\n",
       "      <td>0.338710</td>\n",
       "      <td>1.0</td>\n",
       "    </tr>\n",
       "    <tr>\n",
       "      <th>3</th>\n",
       "      <td>0.476190</td>\n",
       "      <td>1.0</td>\n",
       "    </tr>\n",
       "    <tr>\n",
       "      <th>4</th>\n",
       "      <td>0.087248</td>\n",
       "      <td>1.0</td>\n",
       "    </tr>\n",
       "    <tr>\n",
       "      <th>5</th>\n",
       "      <td>0.102326</td>\n",
       "      <td>1.0</td>\n",
       "    </tr>\n",
       "    <tr>\n",
       "      <th>6</th>\n",
       "      <td>0.842105</td>\n",
       "      <td>1.0</td>\n",
       "    </tr>\n",
       "    <tr>\n",
       "      <th>7</th>\n",
       "      <td>0.550000</td>\n",
       "      <td>1.0</td>\n",
       "    </tr>\n",
       "    <tr>\n",
       "      <th>8</th>\n",
       "      <td>0.777778</td>\n",
       "      <td>1.0</td>\n",
       "    </tr>\n",
       "    <tr>\n",
       "      <th>9</th>\n",
       "      <td>0.785714</td>\n",
       "      <td>1.0</td>\n",
       "    </tr>\n",
       "    <tr>\n",
       "      <th>10</th>\n",
       "      <td>1.000000</td>\n",
       "      <td>1.0</td>\n",
       "    </tr>\n",
       "    <tr>\n",
       "      <th>11</th>\n",
       "      <td>0.059574</td>\n",
       "      <td>1.0</td>\n",
       "    </tr>\n",
       "    <tr>\n",
       "      <th>12</th>\n",
       "      <td>0.196891</td>\n",
       "      <td>1.0</td>\n",
       "    </tr>\n",
       "    <tr>\n",
       "      <th>13</th>\n",
       "      <td>0.656250</td>\n",
       "      <td>1.0</td>\n",
       "    </tr>\n",
       "    <tr>\n",
       "      <th>14</th>\n",
       "      <td>0.078125</td>\n",
       "      <td>1.0</td>\n",
       "    </tr>\n",
       "    <tr>\n",
       "      <th>15</th>\n",
       "      <td>0.073944</td>\n",
       "      <td>1.0</td>\n",
       "    </tr>\n",
       "    <tr>\n",
       "      <th>16</th>\n",
       "      <td>0.666667</td>\n",
       "      <td>1.0</td>\n",
       "    </tr>\n",
       "    <tr>\n",
       "      <th>17</th>\n",
       "      <td>0.785714</td>\n",
       "      <td>1.0</td>\n",
       "    </tr>\n",
       "    <tr>\n",
       "      <th>18</th>\n",
       "      <td>0.244186</td>\n",
       "      <td>1.0</td>\n",
       "    </tr>\n",
       "    <tr>\n",
       "      <th>19</th>\n",
       "      <td>0.785714</td>\n",
       "      <td>1.0</td>\n",
       "    </tr>\n",
       "  </tbody>\n",
       "</table>\n",
       "</div>"
      ],
      "text/plain": [
       "    context recall  context precision\n",
       "0         0.097826                1.0\n",
       "1         0.373288                1.0\n",
       "2         0.338710                1.0\n",
       "3         0.476190                1.0\n",
       "4         0.087248                1.0\n",
       "5         0.102326                1.0\n",
       "6         0.842105                1.0\n",
       "7         0.550000                1.0\n",
       "8         0.777778                1.0\n",
       "9         0.785714                1.0\n",
       "10        1.000000                1.0\n",
       "11        0.059574                1.0\n",
       "12        0.196891                1.0\n",
       "13        0.656250                1.0\n",
       "14        0.078125                1.0\n",
       "15        0.073944                1.0\n",
       "16        0.666667                1.0\n",
       "17        0.785714                1.0\n",
       "18        0.244186                1.0\n",
       "19        0.785714                1.0"
      ]
     },
     "execution_count": 22,
     "metadata": {},
     "output_type": "execute_result"
    }
   ],
   "source": [
    "context_evaluation_table = DataFrame(\n",
    "    data=[list(pair) for pair in zip(non_llm_context_recall_list, non_llm_context_precision_with_reference_list)],\n",
    "    columns=[\"context recall\", \"context precision\"]\n",
    "    )\n",
    "\n",
    "context_evaluation_table"
   ]
  },
  {
   "cell_type": "code",
   "execution_count": 23,
   "id": "73980944",
   "metadata": {},
   "outputs": [
    {
     "data": {
      "text/plain": [
       "0.4489125374182918"
      ]
     },
     "execution_count": 23,
     "metadata": {},
     "output_type": "execute_result"
    }
   ],
   "source": [
    "context_evaluation_table['context recall'].mean()"
   ]
  },
  {
   "cell_type": "code",
   "execution_count": 24,
   "id": "dc9487d1",
   "metadata": {},
   "outputs": [
    {
     "data": {
      "text/plain": [
       "0.9999999999896666"
      ]
     },
     "execution_count": 24,
     "metadata": {},
     "output_type": "execute_result"
    }
   ],
   "source": [
    "context_evaluation_table['context precision'].mean()"
   ]
  },
  {
   "cell_type": "markdown",
   "id": "313b0ef9",
   "metadata": {},
   "source": [
    "---"
   ]
  },
  {
   "cell_type": "markdown",
   "id": "012ff096",
   "metadata": {},
   "source": [
    "Medium Latency:"
   ]
  },
  {
   "cell_type": "code",
   "execution_count": 27,
   "id": "48e30178",
   "metadata": {},
   "outputs": [],
   "source": [
    "times = list()\n",
    "\n",
    "for question in questions:\n",
    "    begin = time()\n",
    "    price_state = generate_price({\n",
    "        'category': '', \n",
    "        'product': question['product'], \n",
    "        'query': question['query']\n",
    "        })\n",
    "    end = time() - begin\n",
    "    times.append(end)"
   ]
  },
  {
   "cell_type": "code",
   "execution_count": 28,
   "id": "4c0f676a",
   "metadata": {},
   "outputs": [
    {
     "name": "stdout",
     "output_type": "stream",
     "text": [
      "Medium latency: 63.65097672939301\n"
     ]
    }
   ],
   "source": [
    "print(\"Medium latency:\", sum(times) / len(times))"
   ]
  }
 ],
 "metadata": {
  "kernelspec": {
   "display_name": "precificador",
   "language": "python",
   "name": "python3"
  },
  "language_info": {
   "codemirror_mode": {
    "name": "ipython",
    "version": 3
   },
   "file_extension": ".py",
   "mimetype": "text/x-python",
   "name": "python",
   "nbconvert_exporter": "python",
   "pygments_lexer": "ipython3",
   "version": "3.10.18"
  }
 },
 "nbformat": 4,
 "nbformat_minor": 5
}
