{
 "cells": [
  {
   "cell_type": "markdown",
   "id": "b84ee9ce",
   "metadata": {},
   "source": [
    "# Testing the RAG agent\n",
    "\n",
    "The objective on this notebook is to test the RAG agent to identify prices!\n",
    "\n",
    "The previous notebook can be found: [`experiments/agent.ipynb`](agent.ipynb).\n",
    "\n",
    "This notebook will test:\n",
    "* Context: \n",
    "    * Precision;\n",
    "    * Recall. \n",
    "* Faithfulness\n",
    "* Medium latency;\n",
    "* footprint: \n",
    "    * RAM;\n",
    "    * CPU."
   ]
  },
  {
   "cell_type": "markdown",
   "id": "2c0e5520",
   "metadata": {},
   "source": [
    "---"
   ]
  },
  {
   "cell_type": "markdown",
   "id": "64003ae6",
   "metadata": {},
   "source": [
    "Importing packages:"
   ]
  },
  {
   "cell_type": "code",
   "execution_count": 3,
   "id": "b76724f0",
   "metadata": {},
   "outputs": [
    {
     "name": "stdout",
     "output_type": "stream",
     "text": [
      "Requirement already satisfied: ragas in /home/gabael/miniconda3/envs/precificador/lib/python3.10/site-packages (0.3.5)\n",
      "Requirement already satisfied: rapidfuzz in /home/gabael/miniconda3/envs/precificador/lib/python3.10/site-packages (3.14.1)\n",
      "Requirement already satisfied: pandas in /home/gabael/miniconda3/envs/precificador/lib/python3.10/site-packages (2.3.2)\n",
      "Requirement already satisfied: numpy in /home/gabael/miniconda3/envs/precificador/lib/python3.10/site-packages (from ragas) (1.26.4)\n",
      "Requirement already satisfied: datasets>=4.0.0 in /home/gabael/miniconda3/envs/precificador/lib/python3.10/site-packages (from ragas) (4.1.1)\n",
      "Requirement already satisfied: tiktoken in /home/gabael/miniconda3/envs/precificador/lib/python3.10/site-packages (from ragas) (0.11.0)\n",
      "Requirement already satisfied: pydantic>=2.0.0 in /home/gabael/miniconda3/envs/precificador/lib/python3.10/site-packages (from ragas) (2.11.9)\n",
      "Requirement already satisfied: nest-asyncio in /home/gabael/miniconda3/envs/precificador/lib/python3.10/site-packages (from ragas) (1.6.0)\n",
      "Requirement already satisfied: appdirs in /home/gabael/miniconda3/envs/precificador/lib/python3.10/site-packages (from ragas) (1.4.4)\n",
      "Requirement already satisfied: diskcache>=5.6.3 in /home/gabael/miniconda3/envs/precificador/lib/python3.10/site-packages (from ragas) (5.6.3)\n",
      "Requirement already satisfied: typer in /home/gabael/miniconda3/envs/precificador/lib/python3.10/site-packages (from ragas) (0.19.1)\n",
      "Requirement already satisfied: rich in /home/gabael/miniconda3/envs/precificador/lib/python3.10/site-packages (from ragas) (14.1.0)\n",
      "Requirement already satisfied: openai>=1.0.0 in /home/gabael/miniconda3/envs/precificador/lib/python3.10/site-packages (from ragas) (1.107.3)\n",
      "Requirement already satisfied: tqdm in /home/gabael/miniconda3/envs/precificador/lib/python3.10/site-packages (from ragas) (4.67.1)\n",
      "Requirement already satisfied: instructor in /home/gabael/miniconda3/envs/precificador/lib/python3.10/site-packages (from ragas) (1.11.3)\n",
      "Requirement already satisfied: gitpython in /home/gabael/miniconda3/envs/precificador/lib/python3.10/site-packages (from ragas) (3.1.45)\n",
      "Requirement already satisfied: pillow>=10.4.0 in /home/gabael/miniconda3/envs/precificador/lib/python3.10/site-packages (from ragas) (11.3.0)\n",
      "Requirement already satisfied: networkx in /home/gabael/miniconda3/envs/precificador/lib/python3.10/site-packages (from ragas) (3.4.2)\n",
      "Requirement already satisfied: scikit-network in /home/gabael/miniconda3/envs/precificador/lib/python3.10/site-packages (from ragas) (0.33.3)\n",
      "Requirement already satisfied: langchain in /home/gabael/miniconda3/envs/precificador/lib/python3.10/site-packages (from ragas) (0.3.27)\n",
      "Requirement already satisfied: langchain-core in /home/gabael/miniconda3/envs/precificador/lib/python3.10/site-packages (from ragas) (0.3.76)\n",
      "Requirement already satisfied: langchain-community in /home/gabael/miniconda3/envs/precificador/lib/python3.10/site-packages (from ragas) (0.3.29)\n",
      "Requirement already satisfied: langchain_openai in /home/gabael/miniconda3/envs/precificador/lib/python3.10/site-packages (from ragas) (0.3.33)\n",
      "Requirement already satisfied: python-dateutil>=2.8.2 in /home/gabael/miniconda3/envs/precificador/lib/python3.10/site-packages (from pandas) (2.9.0.post0)\n",
      "Requirement already satisfied: pytz>=2020.1 in /home/gabael/miniconda3/envs/precificador/lib/python3.10/site-packages (from pandas) (2025.2)\n",
      "Requirement already satisfied: tzdata>=2022.7 in /home/gabael/miniconda3/envs/precificador/lib/python3.10/site-packages (from pandas) (2025.2)\n",
      "Requirement already satisfied: filelock in /home/gabael/miniconda3/envs/precificador/lib/python3.10/site-packages (from datasets>=4.0.0->ragas) (3.19.1)\n",
      "Requirement already satisfied: pyarrow>=21.0.0 in /home/gabael/miniconda3/envs/precificador/lib/python3.10/site-packages (from datasets>=4.0.0->ragas) (21.0.0)\n",
      "Requirement already satisfied: dill<0.4.1,>=0.3.0 in /home/gabael/miniconda3/envs/precificador/lib/python3.10/site-packages (from datasets>=4.0.0->ragas) (0.4.0)\n",
      "Requirement already satisfied: requests>=2.32.2 in /home/gabael/miniconda3/envs/precificador/lib/python3.10/site-packages (from datasets>=4.0.0->ragas) (2.32.5)\n",
      "Requirement already satisfied: xxhash in /home/gabael/miniconda3/envs/precificador/lib/python3.10/site-packages (from datasets>=4.0.0->ragas) (3.5.0)\n",
      "Requirement already satisfied: multiprocess<0.70.17 in /home/gabael/miniconda3/envs/precificador/lib/python3.10/site-packages (from datasets>=4.0.0->ragas) (0.70.16)\n",
      "Requirement already satisfied: fsspec<=2025.9.0,>=2023.1.0 in /home/gabael/miniconda3/envs/precificador/lib/python3.10/site-packages (from fsspec[http]<=2025.9.0,>=2023.1.0->datasets>=4.0.0->ragas) (2025.9.0)\n",
      "Requirement already satisfied: huggingface-hub>=0.24.0 in /home/gabael/miniconda3/envs/precificador/lib/python3.10/site-packages (from datasets>=4.0.0->ragas) (0.35.0)\n",
      "Requirement already satisfied: packaging in /home/gabael/miniconda3/envs/precificador/lib/python3.10/site-packages (from datasets>=4.0.0->ragas) (25.0)\n",
      "Requirement already satisfied: pyyaml>=5.1 in /home/gabael/miniconda3/envs/precificador/lib/python3.10/site-packages (from datasets>=4.0.0->ragas) (6.0.2)\n",
      "Requirement already satisfied: aiohttp!=4.0.0a0,!=4.0.0a1 in /home/gabael/miniconda3/envs/precificador/lib/python3.10/site-packages (from fsspec[http]<=2025.9.0,>=2023.1.0->datasets>=4.0.0->ragas) (3.12.15)\n",
      "Requirement already satisfied: aiohappyeyeballs>=2.5.0 in /home/gabael/miniconda3/envs/precificador/lib/python3.10/site-packages (from aiohttp!=4.0.0a0,!=4.0.0a1->fsspec[http]<=2025.9.0,>=2023.1.0->datasets>=4.0.0->ragas) (2.6.1)\n",
      "Requirement already satisfied: aiosignal>=1.4.0 in /home/gabael/miniconda3/envs/precificador/lib/python3.10/site-packages (from aiohttp!=4.0.0a0,!=4.0.0a1->fsspec[http]<=2025.9.0,>=2023.1.0->datasets>=4.0.0->ragas) (1.4.0)\n",
      "Requirement already satisfied: async-timeout<6.0,>=4.0 in /home/gabael/miniconda3/envs/precificador/lib/python3.10/site-packages (from aiohttp!=4.0.0a0,!=4.0.0a1->fsspec[http]<=2025.9.0,>=2023.1.0->datasets>=4.0.0->ragas) (4.0.3)\n",
      "Requirement already satisfied: attrs>=17.3.0 in /home/gabael/miniconda3/envs/precificador/lib/python3.10/site-packages (from aiohttp!=4.0.0a0,!=4.0.0a1->fsspec[http]<=2025.9.0,>=2023.1.0->datasets>=4.0.0->ragas) (25.3.0)\n",
      "Requirement already satisfied: frozenlist>=1.1.1 in /home/gabael/miniconda3/envs/precificador/lib/python3.10/site-packages (from aiohttp!=4.0.0a0,!=4.0.0a1->fsspec[http]<=2025.9.0,>=2023.1.0->datasets>=4.0.0->ragas) (1.7.0)\n",
      "Requirement already satisfied: multidict<7.0,>=4.5 in /home/gabael/miniconda3/envs/precificador/lib/python3.10/site-packages (from aiohttp!=4.0.0a0,!=4.0.0a1->fsspec[http]<=2025.9.0,>=2023.1.0->datasets>=4.0.0->ragas) (6.6.4)\n",
      "Requirement already satisfied: propcache>=0.2.0 in /home/gabael/miniconda3/envs/precificador/lib/python3.10/site-packages (from aiohttp!=4.0.0a0,!=4.0.0a1->fsspec[http]<=2025.9.0,>=2023.1.0->datasets>=4.0.0->ragas) (0.3.2)\n",
      "Requirement already satisfied: yarl<2.0,>=1.17.0 in /home/gabael/miniconda3/envs/precificador/lib/python3.10/site-packages (from aiohttp!=4.0.0a0,!=4.0.0a1->fsspec[http]<=2025.9.0,>=2023.1.0->datasets>=4.0.0->ragas) (1.20.1)\n",
      "Requirement already satisfied: typing-extensions>=4.1.0 in /home/gabael/miniconda3/envs/precificador/lib/python3.10/site-packages (from multidict<7.0,>=4.5->aiohttp!=4.0.0a0,!=4.0.0a1->fsspec[http]<=2025.9.0,>=2023.1.0->datasets>=4.0.0->ragas) (4.15.0)\n",
      "Requirement already satisfied: idna>=2.0 in /home/gabael/miniconda3/envs/precificador/lib/python3.10/site-packages (from yarl<2.0,>=1.17.0->aiohttp!=4.0.0a0,!=4.0.0a1->fsspec[http]<=2025.9.0,>=2023.1.0->datasets>=4.0.0->ragas) (3.10)\n",
      "Requirement already satisfied: hf-xet<2.0.0,>=1.1.3 in /home/gabael/miniconda3/envs/precificador/lib/python3.10/site-packages (from huggingface-hub>=0.24.0->datasets>=4.0.0->ragas) (1.1.10)\n",
      "Requirement already satisfied: anyio<5,>=3.5.0 in /home/gabael/miniconda3/envs/precificador/lib/python3.10/site-packages (from openai>=1.0.0->ragas) (4.10.0)\n",
      "Requirement already satisfied: distro<2,>=1.7.0 in /home/gabael/miniconda3/envs/precificador/lib/python3.10/site-packages (from openai>=1.0.0->ragas) (1.9.0)\n",
      "Requirement already satisfied: httpx<1,>=0.23.0 in /home/gabael/miniconda3/envs/precificador/lib/python3.10/site-packages (from openai>=1.0.0->ragas) (0.28.1)\n",
      "Requirement already satisfied: jiter<1,>=0.4.0 in /home/gabael/miniconda3/envs/precificador/lib/python3.10/site-packages (from openai>=1.0.0->ragas) (0.10.0)\n",
      "Requirement already satisfied: sniffio in /home/gabael/miniconda3/envs/precificador/lib/python3.10/site-packages (from openai>=1.0.0->ragas) (1.3.1)\n",
      "Requirement already satisfied: exceptiongroup>=1.0.2 in /home/gabael/miniconda3/envs/precificador/lib/python3.10/site-packages (from anyio<5,>=3.5.0->openai>=1.0.0->ragas) (1.3.0)\n",
      "Requirement already satisfied: certifi in /home/gabael/miniconda3/envs/precificador/lib/python3.10/site-packages (from httpx<1,>=0.23.0->openai>=1.0.0->ragas) (2025.8.3)\n",
      "Requirement already satisfied: httpcore==1.* in /home/gabael/miniconda3/envs/precificador/lib/python3.10/site-packages (from httpx<1,>=0.23.0->openai>=1.0.0->ragas) (1.0.9)\n",
      "Requirement already satisfied: h11>=0.16 in /home/gabael/miniconda3/envs/precificador/lib/python3.10/site-packages (from httpcore==1.*->httpx<1,>=0.23.0->openai>=1.0.0->ragas) (0.16.0)\n",
      "Requirement already satisfied: annotated-types>=0.6.0 in /home/gabael/miniconda3/envs/precificador/lib/python3.10/site-packages (from pydantic>=2.0.0->ragas) (0.7.0)\n",
      "Requirement already satisfied: pydantic-core==2.33.2 in /home/gabael/miniconda3/envs/precificador/lib/python3.10/site-packages (from pydantic>=2.0.0->ragas) (2.33.2)\n",
      "Requirement already satisfied: typing-inspection>=0.4.0 in /home/gabael/miniconda3/envs/precificador/lib/python3.10/site-packages (from pydantic>=2.0.0->ragas) (0.4.1)\n",
      "Requirement already satisfied: six>=1.5 in /home/gabael/miniconda3/envs/precificador/lib/python3.10/site-packages (from python-dateutil>=2.8.2->pandas) (1.17.0)\n",
      "Requirement already satisfied: charset_normalizer<4,>=2 in /home/gabael/miniconda3/envs/precificador/lib/python3.10/site-packages (from requests>=2.32.2->datasets>=4.0.0->ragas) (3.4.3)\n",
      "Requirement already satisfied: urllib3<3,>=1.21.1 in /home/gabael/miniconda3/envs/precificador/lib/python3.10/site-packages (from requests>=2.32.2->datasets>=4.0.0->ragas) (2.5.0)\n",
      "Requirement already satisfied: gitdb<5,>=4.0.1 in /home/gabael/miniconda3/envs/precificador/lib/python3.10/site-packages (from gitpython->ragas) (4.0.12)\n",
      "Requirement already satisfied: smmap<6,>=3.0.1 in /home/gabael/miniconda3/envs/precificador/lib/python3.10/site-packages (from gitdb<5,>=4.0.1->gitpython->ragas) (5.0.2)\n",
      "Requirement already satisfied: docstring-parser<1.0,>=0.16 in /home/gabael/miniconda3/envs/precificador/lib/python3.10/site-packages (from instructor->ragas) (0.17.0)\n",
      "Requirement already satisfied: jinja2<4.0.0,>=3.1.4 in /home/gabael/miniconda3/envs/precificador/lib/python3.10/site-packages (from instructor->ragas) (3.1.6)\n",
      "Requirement already satisfied: tenacity<10.0.0,>=8.2.3 in /home/gabael/miniconda3/envs/precificador/lib/python3.10/site-packages (from instructor->ragas) (9.1.2)\n",
      "Requirement already satisfied: MarkupSafe>=2.0 in /home/gabael/miniconda3/envs/precificador/lib/python3.10/site-packages (from jinja2<4.0.0,>=3.1.4->instructor->ragas) (3.0.2)\n",
      "Requirement already satisfied: markdown-it-py>=2.2.0 in /home/gabael/miniconda3/envs/precificador/lib/python3.10/site-packages (from rich->ragas) (4.0.0)\n",
      "Requirement already satisfied: pygments<3.0.0,>=2.13.0 in /home/gabael/miniconda3/envs/precificador/lib/python3.10/site-packages (from rich->ragas) (2.19.2)\n",
      "Requirement already satisfied: click>=8.0.0 in /home/gabael/miniconda3/envs/precificador/lib/python3.10/site-packages (from typer->ragas) (8.3.0)\n",
      "Requirement already satisfied: shellingham>=1.3.0 in /home/gabael/miniconda3/envs/precificador/lib/python3.10/site-packages (from typer->ragas) (1.5.4)\n",
      "Requirement already satisfied: mdurl~=0.1 in /home/gabael/miniconda3/envs/precificador/lib/python3.10/site-packages (from markdown-it-py>=2.2.0->rich->ragas) (0.1.2)\n",
      "Requirement already satisfied: langchain-text-splitters<1.0.0,>=0.3.9 in /home/gabael/miniconda3/envs/precificador/lib/python3.10/site-packages (from langchain->ragas) (0.3.11)\n",
      "Requirement already satisfied: langsmith>=0.1.17 in /home/gabael/miniconda3/envs/precificador/lib/python3.10/site-packages (from langchain->ragas) (0.4.27)\n",
      "Requirement already satisfied: SQLAlchemy<3,>=1.4 in /home/gabael/miniconda3/envs/precificador/lib/python3.10/site-packages (from langchain->ragas) (2.0.43)\n",
      "Requirement already satisfied: jsonpatch<2.0,>=1.33 in /home/gabael/miniconda3/envs/precificador/lib/python3.10/site-packages (from langchain-core->ragas) (1.33)\n",
      "Requirement already satisfied: jsonpointer>=1.9 in /home/gabael/miniconda3/envs/precificador/lib/python3.10/site-packages (from jsonpatch<2.0,>=1.33->langchain-core->ragas) (3.0.0)\n",
      "Requirement already satisfied: greenlet>=1 in /home/gabael/miniconda3/envs/precificador/lib/python3.10/site-packages (from SQLAlchemy<3,>=1.4->langchain->ragas) (3.2.4)\n",
      "Requirement already satisfied: orjson>=3.9.14 in /home/gabael/miniconda3/envs/precificador/lib/python3.10/site-packages (from langsmith>=0.1.17->langchain->ragas) (3.11.3)\n",
      "Requirement already satisfied: requests-toolbelt>=1.0.0 in /home/gabael/miniconda3/envs/precificador/lib/python3.10/site-packages (from langsmith>=0.1.17->langchain->ragas) (1.0.0)\n",
      "Requirement already satisfied: zstandard>=0.23.0 in /home/gabael/miniconda3/envs/precificador/lib/python3.10/site-packages (from langsmith>=0.1.17->langchain->ragas) (0.25.0)\n",
      "Requirement already satisfied: dataclasses-json<0.7,>=0.6.7 in /home/gabael/miniconda3/envs/precificador/lib/python3.10/site-packages (from langchain-community->ragas) (0.6.7)\n",
      "Requirement already satisfied: pydantic-settings<3.0.0,>=2.10.1 in /home/gabael/miniconda3/envs/precificador/lib/python3.10/site-packages (from langchain-community->ragas) (2.10.1)\n",
      "Requirement already satisfied: httpx-sse<1.0.0,>=0.4.0 in /home/gabael/miniconda3/envs/precificador/lib/python3.10/site-packages (from langchain-community->ragas) (0.4.1)\n",
      "Requirement already satisfied: marshmallow<4.0.0,>=3.18.0 in /home/gabael/miniconda3/envs/precificador/lib/python3.10/site-packages (from dataclasses-json<0.7,>=0.6.7->langchain-community->ragas) (3.26.1)\n",
      "Requirement already satisfied: typing-inspect<1,>=0.4.0 in /home/gabael/miniconda3/envs/precificador/lib/python3.10/site-packages (from dataclasses-json<0.7,>=0.6.7->langchain-community->ragas) (0.9.0)\n",
      "Requirement already satisfied: python-dotenv>=0.21.0 in /home/gabael/miniconda3/envs/precificador/lib/python3.10/site-packages (from pydantic-settings<3.0.0,>=2.10.1->langchain-community->ragas) (1.1.1)\n",
      "Requirement already satisfied: mypy-extensions>=0.3.0 in /home/gabael/miniconda3/envs/precificador/lib/python3.10/site-packages (from typing-inspect<1,>=0.4.0->dataclasses-json<0.7,>=0.6.7->langchain-community->ragas) (1.1.0)\n",
      "Requirement already satisfied: regex>=2022.1.18 in /home/gabael/miniconda3/envs/precificador/lib/python3.10/site-packages (from tiktoken->ragas) (2025.9.1)\n",
      "Requirement already satisfied: scipy>=1.7.3 in /home/gabael/miniconda3/envs/precificador/lib/python3.10/site-packages (from scikit-network->ragas) (1.11.4)\n"
     ]
    }
   ],
   "source": [
    "!pip install ragas rapidfuzz pandas"
   ]
  },
  {
   "cell_type": "code",
   "execution_count": 30,
   "id": "b0e27870",
   "metadata": {},
   "outputs": [],
   "source": [
    "from langchain_core.messages import SystemMessage, HumanMessage\n",
    "\n",
    "from pandas import DataFrame\n",
    "\n",
    "from ragas.llms import LangchainLLMWrapper\n",
    "from ragas.dataset_schema import SingleTurnSample, EvaluationDataset\n",
    "from ragas.metrics import (\n",
    "    NonLLMContextRecall, \n",
    "    NonLLMContextPrecisionWithReference,\n",
    "    Faithfulness\n",
    "    )\n",
    "\n",
    "from time import time\n",
    "from typing import TypedDict\n",
    "from json import load"
   ]
  },
  {
   "cell_type": "code",
   "execution_count": 5,
   "id": "db40a371",
   "metadata": {},
   "outputs": [
    {
     "name": "stdout",
     "output_type": "stream",
     "text": [
      "/home/gabael/projetos/precificador\n"
     ]
    }
   ],
   "source": [
    "%cd .."
   ]
  },
  {
   "cell_type": "code",
   "execution_count": 6,
   "id": "09d49298",
   "metadata": {},
   "outputs": [
    {
     "name": "stderr",
     "output_type": "stream",
     "text": [
      "USER_AGENT environment variable not set, consider setting it to identify your requests.\n"
     ]
    }
   ],
   "source": [
    "from src.ollama.llm import chat\n",
    "\n",
    "from src.graph.rag import generate_price\n",
    "from src.rag.rag import generate_vector_store, generate_documents_from_web"
   ]
  },
  {
   "cell_type": "markdown",
   "id": "b5975413",
   "metadata": {},
   "source": [
    "---"
   ]
  },
  {
   "cell_type": "markdown",
   "id": "e4826f91",
   "metadata": {},
   "source": [
    "Prepare test environment:"
   ]
  },
  {
   "cell_type": "code",
   "execution_count": 7,
   "id": "323011b7",
   "metadata": {},
   "outputs": [],
   "source": [
    "class Question(TypedDict):\n",
    "    query: str\n",
    "    product: str"
   ]
  },
  {
   "cell_type": "code",
   "execution_count": 8,
   "id": "5e373c6f",
   "metadata": {},
   "outputs": [],
   "source": [
    "with open(\"dataset/questions.json\", 'r') as f:\n",
    "    questions: list[Question] = load(f)"
   ]
  },
  {
   "cell_type": "code",
   "execution_count": 9,
   "id": "1eab7a3b",
   "metadata": {},
   "outputs": [],
   "source": [
    "products = set(q['product'] for q in questions)"
   ]
  },
  {
   "cell_type": "code",
   "execution_count": 10,
   "id": "1e59f7ab",
   "metadata": {},
   "outputs": [],
   "source": [
    "documents = {\n",
    "    product: generate_documents_from_web(product)\n",
    "    for product in products\n",
    "    }"
   ]
  },
  {
   "cell_type": "code",
   "execution_count": 11,
   "id": "3dcfa6bc",
   "metadata": {},
   "outputs": [],
   "source": [
    "vector_stores = {\n",
    "    product: generate_vector_store(documents[product])\n",
    "    for product in products\n",
    "}"
   ]
  },
  {
   "cell_type": "code",
   "execution_count": 12,
   "id": "8c630518",
   "metadata": {},
   "outputs": [],
   "source": [
    "retrievals = [\n",
    "    vector_stores[question['product']].similarity_search(question['query'], 10)\n",
    "    for question in questions\n",
    "]"
   ]
  },
  {
   "cell_type": "code",
   "execution_count": 13,
   "id": "e4f60acf",
   "metadata": {},
   "outputs": [],
   "source": [
    "def break_line() -> str:\n",
    "    return '\\n'\n",
    "\n",
    "answers = [\n",
    "    chat.invoke([\n",
    "        SystemMessage(f\"\"\"Você é um assistente especializado em realizar pesquisas de preço. Responda apenas com o preço e onde comprar.\n",
    "                                  \n",
    "                        Utilize esta base de conhecimento: {\n",
    "                            break_line().join([\n",
    "                                doc.page_content for doc in retrieval\n",
    "                            ])}.\"\"\"),\n",
    "        HumanMessage(question['query'])])\n",
    "    for retrieval, question in zip(retrievals, questions)\n",
    "]"
   ]
  },
  {
   "cell_type": "code",
   "execution_count": 14,
   "id": "aacc0579",
   "metadata": {},
   "outputs": [],
   "source": [
    "single_samples = [\n",
    "    SingleTurnSample(\n",
    "        user_input=question['query'],\n",
    "        response=str(answer.content),\n",
    "        reference=question['query'],\n",
    "        retrieved_contexts=[r.page_content for r in retrieval],\n",
    "        reference_contexts=[doc.page_content for doc in documents[question['product']]]\n",
    "        ) \n",
    "    for (question, retrieval, answer) \n",
    "    in zip(questions, retrievals, answers)\n",
    "]"
   ]
  },
  {
   "cell_type": "code",
   "execution_count": 15,
   "id": "bd75e840",
   "metadata": {},
   "outputs": [],
   "source": [
    "dataset = EvaluationDataset(single_samples)"
   ]
  },
  {
   "cell_type": "code",
   "execution_count": 16,
   "id": "6d1d5209",
   "metadata": {},
   "outputs": [],
   "source": [
    "llm = LangchainLLMWrapper(chat)"
   ]
  },
  {
   "cell_type": "markdown",
   "id": "bdc2b292",
   "metadata": {},
   "source": [
    "---"
   ]
  },
  {
   "cell_type": "markdown",
   "id": "cfbd15da",
   "metadata": {},
   "source": [
    "Context:"
   ]
  },
  {
   "cell_type": "code",
   "execution_count": 17,
   "id": "2b8415ec",
   "metadata": {},
   "outputs": [],
   "source": [
    "non_llm_context_recall = NonLLMContextRecall() \n",
    "non_llm_context_precision_with_reference = NonLLMContextPrecisionWithReference()"
   ]
  },
  {
   "cell_type": "code",
   "execution_count": 18,
   "id": "35d1eb3a",
   "metadata": {},
   "outputs": [],
   "source": [
    "non_llm_context_recall_list = [non_llm_context_recall.single_turn_score(sample) for sample in dataset]"
   ]
  },
  {
   "cell_type": "code",
   "execution_count": 19,
   "id": "d571ac57",
   "metadata": {},
   "outputs": [],
   "source": [
    "non_llm_context_precision_with_reference_list = [non_llm_context_precision_with_reference.single_turn_score(sample) for sample in dataset]"
   ]
  },
  {
   "cell_type": "code",
   "execution_count": 22,
   "id": "32d5b7ba",
   "metadata": {},
   "outputs": [
    {
     "data": {
      "application/vnd.microsoft.datawrangler.viewer.v0+json": {
       "columns": [
        {
         "name": "index",
         "rawType": "int64",
         "type": "integer"
        },
        {
         "name": "context recall",
         "rawType": "float64",
         "type": "float"
        },
        {
         "name": "context precision",
         "rawType": "float64",
         "type": "float"
        }
       ],
       "ref": "f76a5e3a-97f2-4445-a0f8-f0462915ee8c",
       "rows": [
        [
         "0",
         "0.07042253521126761",
         "0.99999999999"
        ],
        [
         "1",
         "0.09125475285171103",
         "0.99999999999"
        ],
        [
         "2",
         "0.16101694915254236",
         "0.99999999999"
        ],
        [
         "3",
         "0.4583333333333333",
         "0.99999999999"
        ],
        [
         "4",
         "0.096",
         "0.99999999999"
        ],
        [
         "5",
         "0.09523809523809523",
         "0.99999999999"
        ],
        [
         "6",
         "1.0",
         "0.9999999999888889"
        ],
        [
         "7",
         "0.55",
         "0.99999999999"
        ],
        [
         "8",
         "0.7647058823529411",
         "0.99999999999"
        ],
        [
         "9",
         "0.9166666666666666",
         "0.99999999999"
        ]
       ],
       "shape": {
        "columns": 2,
        "rows": 10
       }
      },
      "text/html": [
       "<div>\n",
       "<style scoped>\n",
       "    .dataframe tbody tr th:only-of-type {\n",
       "        vertical-align: middle;\n",
       "    }\n",
       "\n",
       "    .dataframe tbody tr th {\n",
       "        vertical-align: top;\n",
       "    }\n",
       "\n",
       "    .dataframe thead th {\n",
       "        text-align: right;\n",
       "    }\n",
       "</style>\n",
       "<table border=\"1\" class=\"dataframe\">\n",
       "  <thead>\n",
       "    <tr style=\"text-align: right;\">\n",
       "      <th></th>\n",
       "      <th>context recall</th>\n",
       "      <th>context precision</th>\n",
       "    </tr>\n",
       "  </thead>\n",
       "  <tbody>\n",
       "    <tr>\n",
       "      <th>0</th>\n",
       "      <td>0.070423</td>\n",
       "      <td>1.0</td>\n",
       "    </tr>\n",
       "    <tr>\n",
       "      <th>1</th>\n",
       "      <td>0.091255</td>\n",
       "      <td>1.0</td>\n",
       "    </tr>\n",
       "    <tr>\n",
       "      <th>2</th>\n",
       "      <td>0.161017</td>\n",
       "      <td>1.0</td>\n",
       "    </tr>\n",
       "    <tr>\n",
       "      <th>3</th>\n",
       "      <td>0.458333</td>\n",
       "      <td>1.0</td>\n",
       "    </tr>\n",
       "    <tr>\n",
       "      <th>4</th>\n",
       "      <td>0.096000</td>\n",
       "      <td>1.0</td>\n",
       "    </tr>\n",
       "    <tr>\n",
       "      <th>5</th>\n",
       "      <td>0.095238</td>\n",
       "      <td>1.0</td>\n",
       "    </tr>\n",
       "    <tr>\n",
       "      <th>6</th>\n",
       "      <td>1.000000</td>\n",
       "      <td>1.0</td>\n",
       "    </tr>\n",
       "    <tr>\n",
       "      <th>7</th>\n",
       "      <td>0.550000</td>\n",
       "      <td>1.0</td>\n",
       "    </tr>\n",
       "    <tr>\n",
       "      <th>8</th>\n",
       "      <td>0.764706</td>\n",
       "      <td>1.0</td>\n",
       "    </tr>\n",
       "    <tr>\n",
       "      <th>9</th>\n",
       "      <td>0.916667</td>\n",
       "      <td>1.0</td>\n",
       "    </tr>\n",
       "  </tbody>\n",
       "</table>\n",
       "</div>"
      ],
      "text/plain": [
       "   context recall  context precision\n",
       "0        0.070423                1.0\n",
       "1        0.091255                1.0\n",
       "2        0.161017                1.0\n",
       "3        0.458333                1.0\n",
       "4        0.096000                1.0\n",
       "5        0.095238                1.0\n",
       "6        1.000000                1.0\n",
       "7        0.550000                1.0\n",
       "8        0.764706                1.0\n",
       "9        0.916667                1.0"
      ]
     },
     "execution_count": 22,
     "metadata": {},
     "output_type": "execute_result"
    }
   ],
   "source": [
    "context_evaluation_table = DataFrame(\n",
    "    data=[list(pair) for pair in zip(non_llm_context_recall_list, non_llm_context_precision_with_reference_list)],\n",
    "    columns=[\"context recall\", \"context precision\"]\n",
    "    )\n",
    "\n",
    "context_evaluation_table"
   ]
  },
  {
   "cell_type": "code",
   "execution_count": 33,
   "id": "73980944",
   "metadata": {},
   "outputs": [
    {
     "data": {
      "text/plain": [
       "0.4203638214806557"
      ]
     },
     "execution_count": 33,
     "metadata": {},
     "output_type": "execute_result"
    }
   ],
   "source": [
    "context_evaluation_table['context recall'].mean()"
   ]
  },
  {
   "cell_type": "code",
   "execution_count": 34,
   "id": "dc9487d1",
   "metadata": {},
   "outputs": [
    {
     "data": {
      "text/plain": [
       "0.999999999989889"
      ]
     },
     "execution_count": 34,
     "metadata": {},
     "output_type": "execute_result"
    }
   ],
   "source": [
    "context_evaluation_table['context precision'].mean()"
   ]
  },
  {
   "cell_type": "markdown",
   "id": "313b0ef9",
   "metadata": {},
   "source": [
    "---"
   ]
  },
  {
   "cell_type": "markdown",
   "id": "a91b33aa",
   "metadata": {},
   "source": [
    "Faithfulness:"
   ]
  },
  {
   "cell_type": "code",
   "execution_count": 31,
   "id": "1e3d0208",
   "metadata": {},
   "outputs": [],
   "source": [
    "faithfulness = Faithfulness(llm=llm)"
   ]
  },
  {
   "cell_type": "code",
   "execution_count": 32,
   "id": "79e0531e",
   "metadata": {},
   "outputs": [
    {
     "name": "stderr",
     "output_type": "stream",
     "text": [
      "Prompt fix_output_format failed to parse output: The output parser failed to parse the output including retries.\n",
      "Prompt fix_output_format failed to parse output: The output parser failed to parse the output including retries.\n",
      "Prompt fix_output_format failed to parse output: The output parser failed to parse the output including retries.\n",
      "Prompt n_l_i_statement_prompt failed to parse output: The output parser failed to parse the output including retries.\n"
     ]
    },
    {
     "ename": "RagasOutputParserException",
     "evalue": "The output parser failed to parse the output including retries.",
     "output_type": "error",
     "traceback": [
      "\u001b[0;31m---------------------------------------------------------------------------\u001b[0m",
      "\u001b[0;31mValidationError\u001b[0m                           Traceback (most recent call last)",
      "File \u001b[0;32m~/miniconda3/envs/precificador/lib/python3.10/site-packages/langchain_core/output_parsers/pydantic.py:28\u001b[0m, in \u001b[0;36mPydanticOutputParser._parse_obj\u001b[0;34m(self, obj)\u001b[0m\n\u001b[1;32m     27\u001b[0m \u001b[38;5;28;01mif\u001b[39;00m \u001b[38;5;28missubclass\u001b[39m(\u001b[38;5;28mself\u001b[39m\u001b[38;5;241m.\u001b[39mpydantic_object, pydantic\u001b[38;5;241m.\u001b[39mBaseModel):\n\u001b[0;32m---> 28\u001b[0m     \u001b[38;5;28;01mreturn\u001b[39;00m \u001b[38;5;28;43mself\u001b[39;49m\u001b[38;5;241;43m.\u001b[39;49m\u001b[43mpydantic_object\u001b[49m\u001b[38;5;241;43m.\u001b[39;49m\u001b[43mmodel_validate\u001b[49m\u001b[43m(\u001b[49m\u001b[43mobj\u001b[49m\u001b[43m)\u001b[49m\n\u001b[1;32m     29\u001b[0m \u001b[38;5;28;01mif\u001b[39;00m \u001b[38;5;28missubclass\u001b[39m(\u001b[38;5;28mself\u001b[39m\u001b[38;5;241m.\u001b[39mpydantic_object, pydantic\u001b[38;5;241m.\u001b[39mv1\u001b[38;5;241m.\u001b[39mBaseModel):\n",
      "File \u001b[0;32m~/miniconda3/envs/precificador/lib/python3.10/site-packages/pydantic/main.py:705\u001b[0m, in \u001b[0;36mBaseModel.model_validate\u001b[0;34m(cls, obj, strict, from_attributes, context, by_alias, by_name)\u001b[0m\n\u001b[1;32m    700\u001b[0m     \u001b[38;5;28;01mraise\u001b[39;00m PydanticUserError(\n\u001b[1;32m    701\u001b[0m         \u001b[38;5;124m'\u001b[39m\u001b[38;5;124mAt least one of `by_alias` or `by_name` must be set to True.\u001b[39m\u001b[38;5;124m'\u001b[39m,\n\u001b[1;32m    702\u001b[0m         code\u001b[38;5;241m=\u001b[39m\u001b[38;5;124m'\u001b[39m\u001b[38;5;124mvalidate-by-alias-and-name-false\u001b[39m\u001b[38;5;124m'\u001b[39m,\n\u001b[1;32m    703\u001b[0m     )\n\u001b[0;32m--> 705\u001b[0m \u001b[38;5;28;01mreturn\u001b[39;00m \u001b[38;5;28;43mcls\u001b[39;49m\u001b[38;5;241;43m.\u001b[39;49m\u001b[43m__pydantic_validator__\u001b[49m\u001b[38;5;241;43m.\u001b[39;49m\u001b[43mvalidate_python\u001b[49m\u001b[43m(\u001b[49m\n\u001b[1;32m    706\u001b[0m \u001b[43m    \u001b[49m\u001b[43mobj\u001b[49m\u001b[43m,\u001b[49m\u001b[43m \u001b[49m\u001b[43mstrict\u001b[49m\u001b[38;5;241;43m=\u001b[39;49m\u001b[43mstrict\u001b[49m\u001b[43m,\u001b[49m\u001b[43m \u001b[49m\u001b[43mfrom_attributes\u001b[49m\u001b[38;5;241;43m=\u001b[39;49m\u001b[43mfrom_attributes\u001b[49m\u001b[43m,\u001b[49m\u001b[43m \u001b[49m\u001b[43mcontext\u001b[49m\u001b[38;5;241;43m=\u001b[39;49m\u001b[43mcontext\u001b[49m\u001b[43m,\u001b[49m\u001b[43m \u001b[49m\u001b[43mby_alias\u001b[49m\u001b[38;5;241;43m=\u001b[39;49m\u001b[43mby_alias\u001b[49m\u001b[43m,\u001b[49m\u001b[43m \u001b[49m\u001b[43mby_name\u001b[49m\u001b[38;5;241;43m=\u001b[39;49m\u001b[43mby_name\u001b[49m\n\u001b[1;32m    707\u001b[0m \u001b[43m\u001b[49m\u001b[43m)\u001b[49m\n",
      "\u001b[0;31mValidationError\u001b[0m: 1 validation error for StringIO\ntext\n  Field required [type=missing, input_value={'name': 'Refrigerator Co... around R$ 6,071.99.'}]}, input_type=dict]\n    For further information visit https://errors.pydantic.dev/2.11/v/missing",
      "\nThe above exception was the direct cause of the following exception:\n",
      "\u001b[0;31mOutputParserException\u001b[0m                     Traceback (most recent call last)",
      "File \u001b[0;32m~/miniconda3/envs/precificador/lib/python3.10/site-packages/ragas/prompt/pydantic_prompt.py:459\u001b[0m, in \u001b[0;36mRagasOutputParser.parse_output_string\u001b[0;34m(self, output_string, prompt_value, llm, callbacks, retries_left)\u001b[0m\n\u001b[1;32m    458\u001b[0m     jsonstr \u001b[38;5;241m=\u001b[39m extract_json(output_string)\n\u001b[0;32m--> 459\u001b[0m     result \u001b[38;5;241m=\u001b[39m \u001b[38;5;28;43msuper\u001b[39;49m\u001b[43m(\u001b[49m\u001b[43m)\u001b[49m\u001b[38;5;241;43m.\u001b[39;49m\u001b[43mparse\u001b[49m\u001b[43m(\u001b[49m\u001b[43mjsonstr\u001b[49m\u001b[43m)\u001b[49m\n\u001b[1;32m    460\u001b[0m \u001b[38;5;28;01mexcept\u001b[39;00m OutputParserException:\n",
      "File \u001b[0;32m~/miniconda3/envs/precificador/lib/python3.10/site-packages/langchain_core/output_parsers/pydantic.py:81\u001b[0m, in \u001b[0;36mPydanticOutputParser.parse\u001b[0;34m(self, text)\u001b[0m\n\u001b[1;32m     73\u001b[0m \u001b[38;5;250m\u001b[39m\u001b[38;5;124;03m\"\"\"Parse the output of an LLM call to a pydantic object.\u001b[39;00m\n\u001b[1;32m     74\u001b[0m \n\u001b[1;32m     75\u001b[0m \u001b[38;5;124;03mArgs:\u001b[39;00m\n\u001b[0;32m   (...)\u001b[0m\n\u001b[1;32m     79\u001b[0m \u001b[38;5;124;03m    The parsed pydantic object.\u001b[39;00m\n\u001b[1;32m     80\u001b[0m \u001b[38;5;124;03m\"\"\"\u001b[39;00m\n\u001b[0;32m---> 81\u001b[0m \u001b[38;5;28;01mreturn\u001b[39;00m \u001b[38;5;28;43msuper\u001b[39;49m\u001b[43m(\u001b[49m\u001b[43m)\u001b[49m\u001b[38;5;241;43m.\u001b[39;49m\u001b[43mparse\u001b[49m\u001b[43m(\u001b[49m\u001b[43mtext\u001b[49m\u001b[43m)\u001b[49m\n",
      "File \u001b[0;32m~/miniconda3/envs/precificador/lib/python3.10/site-packages/langchain_core/output_parsers/json.py:96\u001b[0m, in \u001b[0;36mJsonOutputParser.parse\u001b[0;34m(self, text)\u001b[0m\n\u001b[1;32m     88\u001b[0m \u001b[38;5;250m\u001b[39m\u001b[38;5;124;03m\"\"\"Parse the output of an LLM call to a JSON object.\u001b[39;00m\n\u001b[1;32m     89\u001b[0m \n\u001b[1;32m     90\u001b[0m \u001b[38;5;124;03mArgs:\u001b[39;00m\n\u001b[0;32m   (...)\u001b[0m\n\u001b[1;32m     94\u001b[0m \u001b[38;5;124;03m    The parsed JSON object.\u001b[39;00m\n\u001b[1;32m     95\u001b[0m \u001b[38;5;124;03m\"\"\"\u001b[39;00m\n\u001b[0;32m---> 96\u001b[0m \u001b[38;5;28;01mreturn\u001b[39;00m \u001b[38;5;28;43mself\u001b[39;49m\u001b[38;5;241;43m.\u001b[39;49m\u001b[43mparse_result\u001b[49m\u001b[43m(\u001b[49m\u001b[43m[\u001b[49m\u001b[43mGeneration\u001b[49m\u001b[43m(\u001b[49m\u001b[43mtext\u001b[49m\u001b[38;5;241;43m=\u001b[39;49m\u001b[43mtext\u001b[49m\u001b[43m)\u001b[49m\u001b[43m]\u001b[49m\u001b[43m)\u001b[49m\n",
      "File \u001b[0;32m~/miniconda3/envs/precificador/lib/python3.10/site-packages/langchain_core/output_parsers/pydantic.py:66\u001b[0m, in \u001b[0;36mPydanticOutputParser.parse_result\u001b[0;34m(self, result, partial)\u001b[0m\n\u001b[1;32m     65\u001b[0m     json_object \u001b[38;5;241m=\u001b[39m \u001b[38;5;28msuper\u001b[39m()\u001b[38;5;241m.\u001b[39mparse_result(result)\n\u001b[0;32m---> 66\u001b[0m     \u001b[38;5;28;01mreturn\u001b[39;00m \u001b[38;5;28;43mself\u001b[39;49m\u001b[38;5;241;43m.\u001b[39;49m\u001b[43m_parse_obj\u001b[49m\u001b[43m(\u001b[49m\u001b[43mjson_object\u001b[49m\u001b[43m)\u001b[49m\n\u001b[1;32m     67\u001b[0m \u001b[38;5;28;01mexcept\u001b[39;00m OutputParserException:\n",
      "File \u001b[0;32m~/miniconda3/envs/precificador/lib/python3.10/site-packages/langchain_core/output_parsers/pydantic.py:35\u001b[0m, in \u001b[0;36mPydanticOutputParser._parse_obj\u001b[0;34m(self, obj)\u001b[0m\n\u001b[1;32m     34\u001b[0m \u001b[38;5;28;01mexcept\u001b[39;00m (pydantic\u001b[38;5;241m.\u001b[39mValidationError, pydantic\u001b[38;5;241m.\u001b[39mv1\u001b[38;5;241m.\u001b[39mValidationError) \u001b[38;5;28;01mas\u001b[39;00m e:\n\u001b[0;32m---> 35\u001b[0m     \u001b[38;5;28;01mraise\u001b[39;00m \u001b[38;5;28mself\u001b[39m\u001b[38;5;241m.\u001b[39m_parser_exception(e, obj) \u001b[38;5;28;01mfrom\u001b[39;00m\u001b[38;5;250m \u001b[39m\u001b[38;5;21;01me\u001b[39;00m\n",
      "\u001b[0;31mOutputParserException\u001b[0m: Failed to parse StringIO from completion {\"name\": \"Refrigerator Comparison\", \"description\": \"A comparison of refrigerators with different features and prices.\", \"statements\": [{\"text\": \"A person who is getting married soon and wants a refrigerator does not want an expensive or fancy one.\"}, {\"text\": \"The ideal refrigerator for a couple should be able to store food efficiently and safely.\"}, {\"text\": \"For a small to medium-sized couple, a refrigerator with a capacity of 400-500 liters would be suitable.\"}, {\"text\": \"A refrigerator with the following characteristics would meet their needs: A++ or B++ energy efficiency class, three to four compartments including a freezer section, and additional features such as long lifespan, security locks, adjustable temperature settings, and interior lighting.\"}, {\"text\": \"Some examples of refrigerators that may meet their requirements are:\"}, {\"text\": \"1. Panasonic NR-BB53: 416 liters capacity, A++ energy efficiency class, three compartments including a freezer section, priced around R$ 3,419.10.\"}, {\"text\": \"2. Midea MDRB593FGD013: 400 liters capacity, B++ energy efficiency class, three compartments including a freezer section, priced around R$ 3,499.00.\"}, {\"text\": \"3. Brastemp BRO85AER: 453 liters capacity, A++ energy efficiency class, four compartments including a freezer section, priced around R$ 6,071.99.\"}]}. Got: 1 validation error for StringIO\ntext\n  Field required [type=missing, input_value={'name': 'Refrigerator Co... around R$ 6,071.99.'}]}, input_type=dict]\n    For further information visit https://errors.pydantic.dev/2.11/v/missing\nFor troubleshooting, visit: https://python.langchain.com/docs/troubleshooting/errors/OUTPUT_PARSING_FAILURE ",
      "\nDuring handling of the above exception, another exception occurred:\n",
      "\u001b[0;31mRagasOutputParserException\u001b[0m                Traceback (most recent call last)",
      "Cell \u001b[0;32mIn[32], line 1\u001b[0m\n\u001b[0;32m----> 1\u001b[0m faithfulness_list \u001b[38;5;241m=\u001b[39m [faithfulness\u001b[38;5;241m.\u001b[39msingle_turn_score(sample) \u001b[38;5;28;01mfor\u001b[39;00m sample \u001b[38;5;129;01min\u001b[39;00m dataset]\n",
      "Cell \u001b[0;32mIn[32], line 1\u001b[0m, in \u001b[0;36m<listcomp>\u001b[0;34m(.0)\u001b[0m\n\u001b[0;32m----> 1\u001b[0m faithfulness_list \u001b[38;5;241m=\u001b[39m [\u001b[43mfaithfulness\u001b[49m\u001b[38;5;241;43m.\u001b[39;49m\u001b[43msingle_turn_score\u001b[49m\u001b[43m(\u001b[49m\u001b[43msample\u001b[49m\u001b[43m)\u001b[49m \u001b[38;5;28;01mfor\u001b[39;00m sample \u001b[38;5;129;01min\u001b[39;00m dataset]\n",
      "File \u001b[0;32m~/miniconda3/envs/precificador/lib/python3.10/site-packages/ragas/metrics/base.py:481\u001b[0m, in \u001b[0;36mSingleTurnMetric.single_turn_score\u001b[0;34m(self, sample, callbacks)\u001b[0m\n\u001b[1;32m    478\u001b[0m         \u001b[38;5;28;01mreturn\u001b[39;00m result\n\u001b[1;32m    480\u001b[0m apply_nest_asyncio()\n\u001b[0;32m--> 481\u001b[0m score \u001b[38;5;241m=\u001b[39m \u001b[43mrun\u001b[49m\u001b[43m(\u001b[49m\u001b[43m_async_wrapper\u001b[49m\u001b[43m)\u001b[49m\n\u001b[1;32m    483\u001b[0m \u001b[38;5;66;03m# track the evaluation event\u001b[39;00m\n\u001b[1;32m    484\u001b[0m _analytics_batcher\u001b[38;5;241m.\u001b[39madd_evaluation(\n\u001b[1;32m    485\u001b[0m     EvaluationEvent(\n\u001b[1;32m    486\u001b[0m         metrics\u001b[38;5;241m=\u001b[39m[\u001b[38;5;28mself\u001b[39m\u001b[38;5;241m.\u001b[39mname],\n\u001b[0;32m   (...)\u001b[0m\n\u001b[1;32m    490\u001b[0m     )\n\u001b[1;32m    491\u001b[0m )\n",
      "File \u001b[0;32m~/miniconda3/envs/precificador/lib/python3.10/site-packages/ragas/async_utils.py:116\u001b[0m, in \u001b[0;36mrun\u001b[0;34m(async_func)\u001b[0m\n\u001b[1;32m    114\u001b[0m \u001b[38;5;66;03m# Create the coroutine if it's a callable, otherwise use directly\u001b[39;00m\n\u001b[1;32m    115\u001b[0m coro \u001b[38;5;241m=\u001b[39m async_func() \u001b[38;5;28;01mif\u001b[39;00m \u001b[38;5;28mcallable\u001b[39m(async_func) \u001b[38;5;28;01melse\u001b[39;00m async_func\n\u001b[0;32m--> 116\u001b[0m \u001b[38;5;28;01mreturn\u001b[39;00m \u001b[43masyncio\u001b[49m\u001b[38;5;241;43m.\u001b[39;49m\u001b[43mrun\u001b[49m\u001b[43m(\u001b[49m\u001b[43mcoro\u001b[49m\u001b[43m)\u001b[49m\n",
      "File \u001b[0;32m~/miniconda3/envs/precificador/lib/python3.10/site-packages/nest_asyncio.py:30\u001b[0m, in \u001b[0;36m_patch_asyncio.<locals>.run\u001b[0;34m(main, debug)\u001b[0m\n\u001b[1;32m     28\u001b[0m task \u001b[38;5;241m=\u001b[39m asyncio\u001b[38;5;241m.\u001b[39mensure_future(main)\n\u001b[1;32m     29\u001b[0m \u001b[38;5;28;01mtry\u001b[39;00m:\n\u001b[0;32m---> 30\u001b[0m     \u001b[38;5;28;01mreturn\u001b[39;00m \u001b[43mloop\u001b[49m\u001b[38;5;241;43m.\u001b[39;49m\u001b[43mrun_until_complete\u001b[49m\u001b[43m(\u001b[49m\u001b[43mtask\u001b[49m\u001b[43m)\u001b[49m\n\u001b[1;32m     31\u001b[0m \u001b[38;5;28;01mfinally\u001b[39;00m:\n\u001b[1;32m     32\u001b[0m     \u001b[38;5;28;01mif\u001b[39;00m \u001b[38;5;129;01mnot\u001b[39;00m task\u001b[38;5;241m.\u001b[39mdone():\n",
      "File \u001b[0;32m~/miniconda3/envs/precificador/lib/python3.10/site-packages/nest_asyncio.py:98\u001b[0m, in \u001b[0;36m_patch_loop.<locals>.run_until_complete\u001b[0;34m(self, future)\u001b[0m\n\u001b[1;32m     95\u001b[0m \u001b[38;5;28;01mif\u001b[39;00m \u001b[38;5;129;01mnot\u001b[39;00m f\u001b[38;5;241m.\u001b[39mdone():\n\u001b[1;32m     96\u001b[0m     \u001b[38;5;28;01mraise\u001b[39;00m \u001b[38;5;167;01mRuntimeError\u001b[39;00m(\n\u001b[1;32m     97\u001b[0m         \u001b[38;5;124m'\u001b[39m\u001b[38;5;124mEvent loop stopped before Future completed.\u001b[39m\u001b[38;5;124m'\u001b[39m)\n\u001b[0;32m---> 98\u001b[0m \u001b[38;5;28;01mreturn\u001b[39;00m \u001b[43mf\u001b[49m\u001b[38;5;241;43m.\u001b[39;49m\u001b[43mresult\u001b[49m\u001b[43m(\u001b[49m\u001b[43m)\u001b[49m\n",
      "File \u001b[0;32m~/miniconda3/envs/precificador/lib/python3.10/asyncio/futures.py:201\u001b[0m, in \u001b[0;36mFuture.result\u001b[0;34m(self)\u001b[0m\n\u001b[1;32m    199\u001b[0m \u001b[38;5;28mself\u001b[39m\u001b[38;5;241m.\u001b[39m__log_traceback \u001b[38;5;241m=\u001b[39m \u001b[38;5;28;01mFalse\u001b[39;00m\n\u001b[1;32m    200\u001b[0m \u001b[38;5;28;01mif\u001b[39;00m \u001b[38;5;28mself\u001b[39m\u001b[38;5;241m.\u001b[39m_exception \u001b[38;5;129;01mis\u001b[39;00m \u001b[38;5;129;01mnot\u001b[39;00m \u001b[38;5;28;01mNone\u001b[39;00m:\n\u001b[0;32m--> 201\u001b[0m     \u001b[38;5;28;01mraise\u001b[39;00m \u001b[38;5;28mself\u001b[39m\u001b[38;5;241m.\u001b[39m_exception\u001b[38;5;241m.\u001b[39mwith_traceback(\u001b[38;5;28mself\u001b[39m\u001b[38;5;241m.\u001b[39m_exception_tb)\n\u001b[1;32m    202\u001b[0m \u001b[38;5;28;01mreturn\u001b[39;00m \u001b[38;5;28mself\u001b[39m\u001b[38;5;241m.\u001b[39m_result\n",
      "File \u001b[0;32m~/miniconda3/envs/precificador/lib/python3.10/asyncio/tasks.py:232\u001b[0m, in \u001b[0;36mTask.__step\u001b[0;34m(***failed resolving arguments***)\u001b[0m\n\u001b[1;32m    228\u001b[0m \u001b[38;5;28;01mtry\u001b[39;00m:\n\u001b[1;32m    229\u001b[0m     \u001b[38;5;28;01mif\u001b[39;00m exc \u001b[38;5;129;01mis\u001b[39;00m \u001b[38;5;28;01mNone\u001b[39;00m:\n\u001b[1;32m    230\u001b[0m         \u001b[38;5;66;03m# We use the `send` method directly, because coroutines\u001b[39;00m\n\u001b[1;32m    231\u001b[0m         \u001b[38;5;66;03m# don't have `__iter__` and `__next__` methods.\u001b[39;00m\n\u001b[0;32m--> 232\u001b[0m         result \u001b[38;5;241m=\u001b[39m \u001b[43mcoro\u001b[49m\u001b[38;5;241;43m.\u001b[39;49m\u001b[43msend\u001b[49m\u001b[43m(\u001b[49m\u001b[38;5;28;43;01mNone\u001b[39;49;00m\u001b[43m)\u001b[49m\n\u001b[1;32m    233\u001b[0m     \u001b[38;5;28;01melse\u001b[39;00m:\n\u001b[1;32m    234\u001b[0m         result \u001b[38;5;241m=\u001b[39m coro\u001b[38;5;241m.\u001b[39mthrow(exc)\n",
      "File \u001b[0;32m~/miniconda3/envs/precificador/lib/python3.10/site-packages/ragas/metrics/base.py:474\u001b[0m, in \u001b[0;36mSingleTurnMetric.single_turn_score.<locals>._async_wrapper\u001b[0;34m()\u001b[0m\n\u001b[1;32m    472\u001b[0m     \u001b[38;5;28;01mif\u001b[39;00m \u001b[38;5;129;01mnot\u001b[39;00m group_cm\u001b[38;5;241m.\u001b[39mended:\n\u001b[1;32m    473\u001b[0m         rm\u001b[38;5;241m.\u001b[39mon_chain_error(e)\n\u001b[0;32m--> 474\u001b[0m     \u001b[38;5;28;01mraise\u001b[39;00m e\n\u001b[1;32m    475\u001b[0m \u001b[38;5;28;01melse\u001b[39;00m:\n\u001b[1;32m    476\u001b[0m     \u001b[38;5;28;01mif\u001b[39;00m \u001b[38;5;129;01mnot\u001b[39;00m group_cm\u001b[38;5;241m.\u001b[39mended:\n",
      "File \u001b[0;32m~/miniconda3/envs/precificador/lib/python3.10/site-packages/ragas/metrics/base.py:468\u001b[0m, in \u001b[0;36mSingleTurnMetric.single_turn_score.<locals>._async_wrapper\u001b[0;34m()\u001b[0m\n\u001b[1;32m    466\u001b[0m \u001b[38;5;28;01masync\u001b[39;00m \u001b[38;5;28;01mdef\u001b[39;00m\u001b[38;5;250m \u001b[39m\u001b[38;5;21m_async_wrapper\u001b[39m():\n\u001b[1;32m    467\u001b[0m     \u001b[38;5;28;01mtry\u001b[39;00m:\n\u001b[0;32m--> 468\u001b[0m         result \u001b[38;5;241m=\u001b[39m \u001b[38;5;28;01mawait\u001b[39;00m \u001b[38;5;28mself\u001b[39m\u001b[38;5;241m.\u001b[39m_single_turn_ascore(\n\u001b[1;32m    469\u001b[0m             sample\u001b[38;5;241m=\u001b[39msample, callbacks\u001b[38;5;241m=\u001b[39mgroup_cm\n\u001b[1;32m    470\u001b[0m         )\n\u001b[1;32m    471\u001b[0m     \u001b[38;5;28;01mexcept\u001b[39;00m \u001b[38;5;167;01mException\u001b[39;00m \u001b[38;5;28;01mas\u001b[39;00m e:\n\u001b[1;32m    472\u001b[0m         \u001b[38;5;28;01mif\u001b[39;00m \u001b[38;5;129;01mnot\u001b[39;00m group_cm\u001b[38;5;241m.\u001b[39mended:\n",
      "File \u001b[0;32m~/miniconda3/envs/precificador/lib/python3.10/site-packages/ragas/metrics/_faithfulness.py:200\u001b[0m, in \u001b[0;36mFaithfulness._single_turn_ascore\u001b[0;34m(self, sample, callbacks)\u001b[0m\n\u001b[1;32m    196\u001b[0m \u001b[38;5;28;01masync\u001b[39;00m \u001b[38;5;28;01mdef\u001b[39;00m\u001b[38;5;250m \u001b[39m\u001b[38;5;21m_single_turn_ascore\u001b[39m(\n\u001b[1;32m    197\u001b[0m     \u001b[38;5;28mself\u001b[39m, sample: SingleTurnSample, callbacks: Callbacks\n\u001b[1;32m    198\u001b[0m ) \u001b[38;5;241m-\u001b[39m\u001b[38;5;241m>\u001b[39m \u001b[38;5;28mfloat\u001b[39m:\n\u001b[1;32m    199\u001b[0m     row \u001b[38;5;241m=\u001b[39m sample\u001b[38;5;241m.\u001b[39mto_dict()\n\u001b[0;32m--> 200\u001b[0m     \u001b[38;5;28;01mreturn\u001b[39;00m \u001b[38;5;28;01mawait\u001b[39;00m \u001b[38;5;28mself\u001b[39m\u001b[38;5;241m.\u001b[39m_ascore(row, callbacks)\n",
      "File \u001b[0;32m~/miniconda3/envs/precificador/lib/python3.10/site-packages/ragas/metrics/_faithfulness.py:213\u001b[0m, in \u001b[0;36mFaithfulness._ascore\u001b[0;34m(self, row, callbacks)\u001b[0m\n\u001b[1;32m    210\u001b[0m \u001b[38;5;28;01mif\u001b[39;00m statements \u001b[38;5;241m==\u001b[39m []:\n\u001b[1;32m    211\u001b[0m     \u001b[38;5;28;01mreturn\u001b[39;00m np\u001b[38;5;241m.\u001b[39mnan\n\u001b[0;32m--> 213\u001b[0m verdicts \u001b[38;5;241m=\u001b[39m \u001b[38;5;28;01mawait\u001b[39;00m \u001b[38;5;28mself\u001b[39m\u001b[38;5;241m.\u001b[39m_create_verdicts(row, statements, callbacks)\n\u001b[1;32m    214\u001b[0m \u001b[38;5;28;01mreturn\u001b[39;00m \u001b[38;5;28mself\u001b[39m\u001b[38;5;241m.\u001b[39m_compute_score(verdicts)\n",
      "File \u001b[0;32m~/miniconda3/envs/precificador/lib/python3.10/site-packages/ragas/metrics/_faithfulness.py:158\u001b[0m, in \u001b[0;36mFaithfulness._create_verdicts\u001b[0;34m(self, row, statements, callbacks)\u001b[0m\n\u001b[1;32m    155\u001b[0m \u001b[38;5;28;01massert\u001b[39;00m \u001b[38;5;28mself\u001b[39m\u001b[38;5;241m.\u001b[39mllm \u001b[38;5;129;01mis\u001b[39;00m \u001b[38;5;129;01mnot\u001b[39;00m \u001b[38;5;28;01mNone\u001b[39;00m, \u001b[38;5;124m\"\u001b[39m\u001b[38;5;124mllm must be set to compute score\u001b[39m\u001b[38;5;124m\"\u001b[39m\n\u001b[1;32m    157\u001b[0m contexts_str: \u001b[38;5;28mstr\u001b[39m \u001b[38;5;241m=\u001b[39m \u001b[38;5;124m\"\u001b[39m\u001b[38;5;130;01m\\n\u001b[39;00m\u001b[38;5;124m\"\u001b[39m\u001b[38;5;241m.\u001b[39mjoin(row[\u001b[38;5;124m\"\u001b[39m\u001b[38;5;124mretrieved_contexts\u001b[39m\u001b[38;5;124m\"\u001b[39m])\n\u001b[0;32m--> 158\u001b[0m verdicts \u001b[38;5;241m=\u001b[39m \u001b[38;5;28;01mawait\u001b[39;00m \u001b[38;5;28mself\u001b[39m\u001b[38;5;241m.\u001b[39mnli_statements_prompt\u001b[38;5;241m.\u001b[39mgenerate(\n\u001b[1;32m    159\u001b[0m     data\u001b[38;5;241m=\u001b[39mNLIStatementInput(context\u001b[38;5;241m=\u001b[39mcontexts_str, statements\u001b[38;5;241m=\u001b[39mstatements),\n\u001b[1;32m    160\u001b[0m     llm\u001b[38;5;241m=\u001b[39m\u001b[38;5;28mself\u001b[39m\u001b[38;5;241m.\u001b[39mllm,\n\u001b[1;32m    161\u001b[0m     callbacks\u001b[38;5;241m=\u001b[39mcallbacks,\n\u001b[1;32m    162\u001b[0m )\n\u001b[1;32m    164\u001b[0m \u001b[38;5;28;01mreturn\u001b[39;00m verdicts\n",
      "File \u001b[0;32m~/miniconda3/envs/precificador/lib/python3.10/site-packages/ragas/prompt/pydantic_prompt.py:145\u001b[0m, in \u001b[0;36mPydanticPrompt.generate\u001b[0;34m(self, llm, data, temperature, stop, callbacks, retries_left)\u001b[0m\n\u001b[1;32m    142\u001b[0m callbacks \u001b[38;5;241m=\u001b[39m callbacks \u001b[38;5;129;01mor\u001b[39;00m []\n\u001b[1;32m    144\u001b[0m \u001b[38;5;66;03m# this is just a special case of generate_multiple\u001b[39;00m\n\u001b[0;32m--> 145\u001b[0m output_single \u001b[38;5;241m=\u001b[39m \u001b[38;5;28;01mawait\u001b[39;00m \u001b[38;5;28mself\u001b[39m\u001b[38;5;241m.\u001b[39mgenerate_multiple(\n\u001b[1;32m    146\u001b[0m     llm\u001b[38;5;241m=\u001b[39mllm,\n\u001b[1;32m    147\u001b[0m     data\u001b[38;5;241m=\u001b[39mdata,\n\u001b[1;32m    148\u001b[0m     n\u001b[38;5;241m=\u001b[39m\u001b[38;5;241m1\u001b[39m,\n\u001b[1;32m    149\u001b[0m     temperature\u001b[38;5;241m=\u001b[39mtemperature,\n\u001b[1;32m    150\u001b[0m     stop\u001b[38;5;241m=\u001b[39mstop,\n\u001b[1;32m    151\u001b[0m     callbacks\u001b[38;5;241m=\u001b[39mcallbacks,\n\u001b[1;32m    152\u001b[0m     retries_left\u001b[38;5;241m=\u001b[39mretries_left,\n\u001b[1;32m    153\u001b[0m )\n\u001b[1;32m    154\u001b[0m \u001b[38;5;28;01mreturn\u001b[39;00m output_single[\u001b[38;5;241m0\u001b[39m]\n",
      "File \u001b[0;32m~/miniconda3/envs/precificador/lib/python3.10/site-packages/ragas/prompt/pydantic_prompt.py:259\u001b[0m, in \u001b[0;36mPydanticPrompt.generate_multiple\u001b[0;34m(self, llm, data, n, temperature, stop, callbacks, retries_left)\u001b[0m\n\u001b[1;32m    257\u001b[0m         prompt_rm\u001b[38;5;241m.\u001b[39mon_chain_error(error\u001b[38;5;241m=\u001b[39me)\n\u001b[1;32m    258\u001b[0m         logger\u001b[38;5;241m.\u001b[39merror(\u001b[38;5;124m\"\u001b[39m\u001b[38;5;124mPrompt \u001b[39m\u001b[38;5;132;01m%s\u001b[39;00m\u001b[38;5;124m failed to parse output: \u001b[39m\u001b[38;5;132;01m%s\u001b[39;00m\u001b[38;5;124m\"\u001b[39m, \u001b[38;5;28mself\u001b[39m\u001b[38;5;241m.\u001b[39mname, e)\n\u001b[0;32m--> 259\u001b[0m         \u001b[38;5;28;01mraise\u001b[39;00m e\n\u001b[1;32m    261\u001b[0m prompt_rm\u001b[38;5;241m.\u001b[39mon_chain_end({\u001b[38;5;124m\"\u001b[39m\u001b[38;5;124moutput\u001b[39m\u001b[38;5;124m\"\u001b[39m: output_models})\n\u001b[1;32m    263\u001b[0m \u001b[38;5;66;03m# Track prompt usage\u001b[39;00m\n",
      "File \u001b[0;32m~/miniconda3/envs/precificador/lib/python3.10/site-packages/ragas/prompt/pydantic_prompt.py:247\u001b[0m, in \u001b[0;36mPydanticPrompt.generate_multiple\u001b[0;34m(self, llm, data, n, temperature, stop, callbacks, retries_left)\u001b[0m\n\u001b[1;32m    245\u001b[0m \u001b[38;5;28;01melse\u001b[39;00m:\n\u001b[1;32m    246\u001b[0m     ragas_llm \u001b[38;5;241m=\u001b[39m t\u001b[38;5;241m.\u001b[39mcast(BaseRagasLLM, llm)\n\u001b[0;32m--> 247\u001b[0m     answer \u001b[38;5;241m=\u001b[39m \u001b[38;5;28;01mawait\u001b[39;00m parser\u001b[38;5;241m.\u001b[39mparse_output_string(\n\u001b[1;32m    248\u001b[0m         output_string\u001b[38;5;241m=\u001b[39moutput_string,\n\u001b[1;32m    249\u001b[0m         prompt_value\u001b[38;5;241m=\u001b[39mprompt_value,\n\u001b[1;32m    250\u001b[0m         llm\u001b[38;5;241m=\u001b[39mragas_llm,\n\u001b[1;32m    251\u001b[0m         callbacks\u001b[38;5;241m=\u001b[39mprompt_cb,\n\u001b[1;32m    252\u001b[0m         retries_left\u001b[38;5;241m=\u001b[39mretries_left,\n\u001b[1;32m    253\u001b[0m     )\n\u001b[1;32m    254\u001b[0m processed_output \u001b[38;5;241m=\u001b[39m \u001b[38;5;28mself\u001b[39m\u001b[38;5;241m.\u001b[39mprocess_output(answer, data)  \u001b[38;5;66;03m# type: ignore\u001b[39;00m\n\u001b[1;32m    255\u001b[0m output_models\u001b[38;5;241m.\u001b[39mappend(processed_output)\n",
      "File \u001b[0;32m~/miniconda3/envs/precificador/lib/python3.10/site-packages/ragas/prompt/pydantic_prompt.py:467\u001b[0m, in \u001b[0;36mRagasOutputParser.parse_output_string\u001b[0;34m(self, output_string, prompt_value, llm, callbacks, retries_left)\u001b[0m\n\u001b[1;32m    461\u001b[0m \u001b[38;5;28;01mif\u001b[39;00m retries_left \u001b[38;5;241m!=\u001b[39m \u001b[38;5;241m0\u001b[39m:\n\u001b[1;32m    462\u001b[0m     retry_rm, retry_cb \u001b[38;5;241m=\u001b[39m new_group(\n\u001b[1;32m    463\u001b[0m         name\u001b[38;5;241m=\u001b[39m\u001b[38;5;124m\"\u001b[39m\u001b[38;5;124mfix_output_format\u001b[39m\u001b[38;5;124m\"\u001b[39m,\n\u001b[1;32m    464\u001b[0m         inputs\u001b[38;5;241m=\u001b[39m{\u001b[38;5;124m\"\u001b[39m\u001b[38;5;124moutput_string\u001b[39m\u001b[38;5;124m\"\u001b[39m: output_string},\n\u001b[1;32m    465\u001b[0m         callbacks\u001b[38;5;241m=\u001b[39mcallbacks,\n\u001b[1;32m    466\u001b[0m     )\n\u001b[0;32m--> 467\u001b[0m     fixed_output_string \u001b[38;5;241m=\u001b[39m \u001b[38;5;28;01mawait\u001b[39;00m fix_output_format_prompt\u001b[38;5;241m.\u001b[39mgenerate(\n\u001b[1;32m    468\u001b[0m         llm\u001b[38;5;241m=\u001b[39mllm,\n\u001b[1;32m    469\u001b[0m         data\u001b[38;5;241m=\u001b[39mOutputStringAndPrompt(\n\u001b[1;32m    470\u001b[0m             output_string\u001b[38;5;241m=\u001b[39moutput_string,\n\u001b[1;32m    471\u001b[0m             prompt_value\u001b[38;5;241m=\u001b[39mprompt_value\u001b[38;5;241m.\u001b[39mto_string(),\n\u001b[1;32m    472\u001b[0m         ),\n\u001b[1;32m    473\u001b[0m         callbacks\u001b[38;5;241m=\u001b[39mretry_cb,\n\u001b[1;32m    474\u001b[0m         retries_left\u001b[38;5;241m=\u001b[39mretries_left \u001b[38;5;241m-\u001b[39m \u001b[38;5;241m1\u001b[39m,\n\u001b[1;32m    475\u001b[0m     )\n\u001b[1;32m    476\u001b[0m     retry_rm\u001b[38;5;241m.\u001b[39mon_chain_end({\u001b[38;5;124m\"\u001b[39m\u001b[38;5;124mfixed_output_string\u001b[39m\u001b[38;5;124m\"\u001b[39m: fixed_output_string})\n\u001b[1;32m    477\u001b[0m     result \u001b[38;5;241m=\u001b[39m \u001b[38;5;28msuper\u001b[39m()\u001b[38;5;241m.\u001b[39mparse(fixed_output_string\u001b[38;5;241m.\u001b[39mtext)\n",
      "File \u001b[0;32m~/miniconda3/envs/precificador/lib/python3.10/site-packages/ragas/prompt/pydantic_prompt.py:145\u001b[0m, in \u001b[0;36mPydanticPrompt.generate\u001b[0;34m(self, llm, data, temperature, stop, callbacks, retries_left)\u001b[0m\n\u001b[1;32m    142\u001b[0m callbacks \u001b[38;5;241m=\u001b[39m callbacks \u001b[38;5;129;01mor\u001b[39;00m []\n\u001b[1;32m    144\u001b[0m \u001b[38;5;66;03m# this is just a special case of generate_multiple\u001b[39;00m\n\u001b[0;32m--> 145\u001b[0m output_single \u001b[38;5;241m=\u001b[39m \u001b[38;5;28;01mawait\u001b[39;00m \u001b[38;5;28mself\u001b[39m\u001b[38;5;241m.\u001b[39mgenerate_multiple(\n\u001b[1;32m    146\u001b[0m     llm\u001b[38;5;241m=\u001b[39mllm,\n\u001b[1;32m    147\u001b[0m     data\u001b[38;5;241m=\u001b[39mdata,\n\u001b[1;32m    148\u001b[0m     n\u001b[38;5;241m=\u001b[39m\u001b[38;5;241m1\u001b[39m,\n\u001b[1;32m    149\u001b[0m     temperature\u001b[38;5;241m=\u001b[39mtemperature,\n\u001b[1;32m    150\u001b[0m     stop\u001b[38;5;241m=\u001b[39mstop,\n\u001b[1;32m    151\u001b[0m     callbacks\u001b[38;5;241m=\u001b[39mcallbacks,\n\u001b[1;32m    152\u001b[0m     retries_left\u001b[38;5;241m=\u001b[39mretries_left,\n\u001b[1;32m    153\u001b[0m )\n\u001b[1;32m    154\u001b[0m \u001b[38;5;28;01mreturn\u001b[39;00m output_single[\u001b[38;5;241m0\u001b[39m]\n",
      "File \u001b[0;32m~/miniconda3/envs/precificador/lib/python3.10/site-packages/ragas/prompt/pydantic_prompt.py:259\u001b[0m, in \u001b[0;36mPydanticPrompt.generate_multiple\u001b[0;34m(self, llm, data, n, temperature, stop, callbacks, retries_left)\u001b[0m\n\u001b[1;32m    257\u001b[0m         prompt_rm\u001b[38;5;241m.\u001b[39mon_chain_error(error\u001b[38;5;241m=\u001b[39me)\n\u001b[1;32m    258\u001b[0m         logger\u001b[38;5;241m.\u001b[39merror(\u001b[38;5;124m\"\u001b[39m\u001b[38;5;124mPrompt \u001b[39m\u001b[38;5;132;01m%s\u001b[39;00m\u001b[38;5;124m failed to parse output: \u001b[39m\u001b[38;5;132;01m%s\u001b[39;00m\u001b[38;5;124m\"\u001b[39m, \u001b[38;5;28mself\u001b[39m\u001b[38;5;241m.\u001b[39mname, e)\n\u001b[0;32m--> 259\u001b[0m         \u001b[38;5;28;01mraise\u001b[39;00m e\n\u001b[1;32m    261\u001b[0m prompt_rm\u001b[38;5;241m.\u001b[39mon_chain_end({\u001b[38;5;124m\"\u001b[39m\u001b[38;5;124moutput\u001b[39m\u001b[38;5;124m\"\u001b[39m: output_models})\n\u001b[1;32m    263\u001b[0m \u001b[38;5;66;03m# Track prompt usage\u001b[39;00m\n",
      "File \u001b[0;32m~/miniconda3/envs/precificador/lib/python3.10/site-packages/ragas/prompt/pydantic_prompt.py:247\u001b[0m, in \u001b[0;36mPydanticPrompt.generate_multiple\u001b[0;34m(self, llm, data, n, temperature, stop, callbacks, retries_left)\u001b[0m\n\u001b[1;32m    245\u001b[0m \u001b[38;5;28;01melse\u001b[39;00m:\n\u001b[1;32m    246\u001b[0m     ragas_llm \u001b[38;5;241m=\u001b[39m t\u001b[38;5;241m.\u001b[39mcast(BaseRagasLLM, llm)\n\u001b[0;32m--> 247\u001b[0m     answer \u001b[38;5;241m=\u001b[39m \u001b[38;5;28;01mawait\u001b[39;00m parser\u001b[38;5;241m.\u001b[39mparse_output_string(\n\u001b[1;32m    248\u001b[0m         output_string\u001b[38;5;241m=\u001b[39moutput_string,\n\u001b[1;32m    249\u001b[0m         prompt_value\u001b[38;5;241m=\u001b[39mprompt_value,\n\u001b[1;32m    250\u001b[0m         llm\u001b[38;5;241m=\u001b[39mragas_llm,\n\u001b[1;32m    251\u001b[0m         callbacks\u001b[38;5;241m=\u001b[39mprompt_cb,\n\u001b[1;32m    252\u001b[0m         retries_left\u001b[38;5;241m=\u001b[39mretries_left,\n\u001b[1;32m    253\u001b[0m     )\n\u001b[1;32m    254\u001b[0m processed_output \u001b[38;5;241m=\u001b[39m \u001b[38;5;28mself\u001b[39m\u001b[38;5;241m.\u001b[39mprocess_output(answer, data)  \u001b[38;5;66;03m# type: ignore\u001b[39;00m\n\u001b[1;32m    255\u001b[0m output_models\u001b[38;5;241m.\u001b[39mappend(processed_output)\n",
      "File \u001b[0;32m~/miniconda3/envs/precificador/lib/python3.10/site-packages/ragas/prompt/pydantic_prompt.py:467\u001b[0m, in \u001b[0;36mRagasOutputParser.parse_output_string\u001b[0;34m(self, output_string, prompt_value, llm, callbacks, retries_left)\u001b[0m\n\u001b[1;32m    461\u001b[0m \u001b[38;5;28;01mif\u001b[39;00m retries_left \u001b[38;5;241m!=\u001b[39m \u001b[38;5;241m0\u001b[39m:\n\u001b[1;32m    462\u001b[0m     retry_rm, retry_cb \u001b[38;5;241m=\u001b[39m new_group(\n\u001b[1;32m    463\u001b[0m         name\u001b[38;5;241m=\u001b[39m\u001b[38;5;124m\"\u001b[39m\u001b[38;5;124mfix_output_format\u001b[39m\u001b[38;5;124m\"\u001b[39m,\n\u001b[1;32m    464\u001b[0m         inputs\u001b[38;5;241m=\u001b[39m{\u001b[38;5;124m\"\u001b[39m\u001b[38;5;124moutput_string\u001b[39m\u001b[38;5;124m\"\u001b[39m: output_string},\n\u001b[1;32m    465\u001b[0m         callbacks\u001b[38;5;241m=\u001b[39mcallbacks,\n\u001b[1;32m    466\u001b[0m     )\n\u001b[0;32m--> 467\u001b[0m     fixed_output_string \u001b[38;5;241m=\u001b[39m \u001b[38;5;28;01mawait\u001b[39;00m fix_output_format_prompt\u001b[38;5;241m.\u001b[39mgenerate(\n\u001b[1;32m    468\u001b[0m         llm\u001b[38;5;241m=\u001b[39mllm,\n\u001b[1;32m    469\u001b[0m         data\u001b[38;5;241m=\u001b[39mOutputStringAndPrompt(\n\u001b[1;32m    470\u001b[0m             output_string\u001b[38;5;241m=\u001b[39moutput_string,\n\u001b[1;32m    471\u001b[0m             prompt_value\u001b[38;5;241m=\u001b[39mprompt_value\u001b[38;5;241m.\u001b[39mto_string(),\n\u001b[1;32m    472\u001b[0m         ),\n\u001b[1;32m    473\u001b[0m         callbacks\u001b[38;5;241m=\u001b[39mretry_cb,\n\u001b[1;32m    474\u001b[0m         retries_left\u001b[38;5;241m=\u001b[39mretries_left \u001b[38;5;241m-\u001b[39m \u001b[38;5;241m1\u001b[39m,\n\u001b[1;32m    475\u001b[0m     )\n\u001b[1;32m    476\u001b[0m     retry_rm\u001b[38;5;241m.\u001b[39mon_chain_end({\u001b[38;5;124m\"\u001b[39m\u001b[38;5;124mfixed_output_string\u001b[39m\u001b[38;5;124m\"\u001b[39m: fixed_output_string})\n\u001b[1;32m    477\u001b[0m     result \u001b[38;5;241m=\u001b[39m \u001b[38;5;28msuper\u001b[39m()\u001b[38;5;241m.\u001b[39mparse(fixed_output_string\u001b[38;5;241m.\u001b[39mtext)\n",
      "File \u001b[0;32m~/miniconda3/envs/precificador/lib/python3.10/site-packages/ragas/prompt/pydantic_prompt.py:145\u001b[0m, in \u001b[0;36mPydanticPrompt.generate\u001b[0;34m(self, llm, data, temperature, stop, callbacks, retries_left)\u001b[0m\n\u001b[1;32m    142\u001b[0m callbacks \u001b[38;5;241m=\u001b[39m callbacks \u001b[38;5;129;01mor\u001b[39;00m []\n\u001b[1;32m    144\u001b[0m \u001b[38;5;66;03m# this is just a special case of generate_multiple\u001b[39;00m\n\u001b[0;32m--> 145\u001b[0m output_single \u001b[38;5;241m=\u001b[39m \u001b[38;5;28;01mawait\u001b[39;00m \u001b[38;5;28mself\u001b[39m\u001b[38;5;241m.\u001b[39mgenerate_multiple(\n\u001b[1;32m    146\u001b[0m     llm\u001b[38;5;241m=\u001b[39mllm,\n\u001b[1;32m    147\u001b[0m     data\u001b[38;5;241m=\u001b[39mdata,\n\u001b[1;32m    148\u001b[0m     n\u001b[38;5;241m=\u001b[39m\u001b[38;5;241m1\u001b[39m,\n\u001b[1;32m    149\u001b[0m     temperature\u001b[38;5;241m=\u001b[39mtemperature,\n\u001b[1;32m    150\u001b[0m     stop\u001b[38;5;241m=\u001b[39mstop,\n\u001b[1;32m    151\u001b[0m     callbacks\u001b[38;5;241m=\u001b[39mcallbacks,\n\u001b[1;32m    152\u001b[0m     retries_left\u001b[38;5;241m=\u001b[39mretries_left,\n\u001b[1;32m    153\u001b[0m )\n\u001b[1;32m    154\u001b[0m \u001b[38;5;28;01mreturn\u001b[39;00m output_single[\u001b[38;5;241m0\u001b[39m]\n",
      "File \u001b[0;32m~/miniconda3/envs/precificador/lib/python3.10/site-packages/ragas/prompt/pydantic_prompt.py:259\u001b[0m, in \u001b[0;36mPydanticPrompt.generate_multiple\u001b[0;34m(self, llm, data, n, temperature, stop, callbacks, retries_left)\u001b[0m\n\u001b[1;32m    257\u001b[0m         prompt_rm\u001b[38;5;241m.\u001b[39mon_chain_error(error\u001b[38;5;241m=\u001b[39me)\n\u001b[1;32m    258\u001b[0m         logger\u001b[38;5;241m.\u001b[39merror(\u001b[38;5;124m\"\u001b[39m\u001b[38;5;124mPrompt \u001b[39m\u001b[38;5;132;01m%s\u001b[39;00m\u001b[38;5;124m failed to parse output: \u001b[39m\u001b[38;5;132;01m%s\u001b[39;00m\u001b[38;5;124m\"\u001b[39m, \u001b[38;5;28mself\u001b[39m\u001b[38;5;241m.\u001b[39mname, e)\n\u001b[0;32m--> 259\u001b[0m         \u001b[38;5;28;01mraise\u001b[39;00m e\n\u001b[1;32m    261\u001b[0m prompt_rm\u001b[38;5;241m.\u001b[39mon_chain_end({\u001b[38;5;124m\"\u001b[39m\u001b[38;5;124moutput\u001b[39m\u001b[38;5;124m\"\u001b[39m: output_models})\n\u001b[1;32m    263\u001b[0m \u001b[38;5;66;03m# Track prompt usage\u001b[39;00m\n",
      "File \u001b[0;32m~/miniconda3/envs/precificador/lib/python3.10/site-packages/ragas/prompt/pydantic_prompt.py:247\u001b[0m, in \u001b[0;36mPydanticPrompt.generate_multiple\u001b[0;34m(self, llm, data, n, temperature, stop, callbacks, retries_left)\u001b[0m\n\u001b[1;32m    245\u001b[0m \u001b[38;5;28;01melse\u001b[39;00m:\n\u001b[1;32m    246\u001b[0m     ragas_llm \u001b[38;5;241m=\u001b[39m t\u001b[38;5;241m.\u001b[39mcast(BaseRagasLLM, llm)\n\u001b[0;32m--> 247\u001b[0m     answer \u001b[38;5;241m=\u001b[39m \u001b[38;5;28;01mawait\u001b[39;00m parser\u001b[38;5;241m.\u001b[39mparse_output_string(\n\u001b[1;32m    248\u001b[0m         output_string\u001b[38;5;241m=\u001b[39moutput_string,\n\u001b[1;32m    249\u001b[0m         prompt_value\u001b[38;5;241m=\u001b[39mprompt_value,\n\u001b[1;32m    250\u001b[0m         llm\u001b[38;5;241m=\u001b[39mragas_llm,\n\u001b[1;32m    251\u001b[0m         callbacks\u001b[38;5;241m=\u001b[39mprompt_cb,\n\u001b[1;32m    252\u001b[0m         retries_left\u001b[38;5;241m=\u001b[39mretries_left,\n\u001b[1;32m    253\u001b[0m     )\n\u001b[1;32m    254\u001b[0m processed_output \u001b[38;5;241m=\u001b[39m \u001b[38;5;28mself\u001b[39m\u001b[38;5;241m.\u001b[39mprocess_output(answer, data)  \u001b[38;5;66;03m# type: ignore\u001b[39;00m\n\u001b[1;32m    255\u001b[0m output_models\u001b[38;5;241m.\u001b[39mappend(processed_output)\n",
      "File \u001b[0;32m~/miniconda3/envs/precificador/lib/python3.10/site-packages/ragas/prompt/pydantic_prompt.py:467\u001b[0m, in \u001b[0;36mRagasOutputParser.parse_output_string\u001b[0;34m(self, output_string, prompt_value, llm, callbacks, retries_left)\u001b[0m\n\u001b[1;32m    461\u001b[0m \u001b[38;5;28;01mif\u001b[39;00m retries_left \u001b[38;5;241m!=\u001b[39m \u001b[38;5;241m0\u001b[39m:\n\u001b[1;32m    462\u001b[0m     retry_rm, retry_cb \u001b[38;5;241m=\u001b[39m new_group(\n\u001b[1;32m    463\u001b[0m         name\u001b[38;5;241m=\u001b[39m\u001b[38;5;124m\"\u001b[39m\u001b[38;5;124mfix_output_format\u001b[39m\u001b[38;5;124m\"\u001b[39m,\n\u001b[1;32m    464\u001b[0m         inputs\u001b[38;5;241m=\u001b[39m{\u001b[38;5;124m\"\u001b[39m\u001b[38;5;124moutput_string\u001b[39m\u001b[38;5;124m\"\u001b[39m: output_string},\n\u001b[1;32m    465\u001b[0m         callbacks\u001b[38;5;241m=\u001b[39mcallbacks,\n\u001b[1;32m    466\u001b[0m     )\n\u001b[0;32m--> 467\u001b[0m     fixed_output_string \u001b[38;5;241m=\u001b[39m \u001b[38;5;28;01mawait\u001b[39;00m fix_output_format_prompt\u001b[38;5;241m.\u001b[39mgenerate(\n\u001b[1;32m    468\u001b[0m         llm\u001b[38;5;241m=\u001b[39mllm,\n\u001b[1;32m    469\u001b[0m         data\u001b[38;5;241m=\u001b[39mOutputStringAndPrompt(\n\u001b[1;32m    470\u001b[0m             output_string\u001b[38;5;241m=\u001b[39moutput_string,\n\u001b[1;32m    471\u001b[0m             prompt_value\u001b[38;5;241m=\u001b[39mprompt_value\u001b[38;5;241m.\u001b[39mto_string(),\n\u001b[1;32m    472\u001b[0m         ),\n\u001b[1;32m    473\u001b[0m         callbacks\u001b[38;5;241m=\u001b[39mretry_cb,\n\u001b[1;32m    474\u001b[0m         retries_left\u001b[38;5;241m=\u001b[39mretries_left \u001b[38;5;241m-\u001b[39m \u001b[38;5;241m1\u001b[39m,\n\u001b[1;32m    475\u001b[0m     )\n\u001b[1;32m    476\u001b[0m     retry_rm\u001b[38;5;241m.\u001b[39mon_chain_end({\u001b[38;5;124m\"\u001b[39m\u001b[38;5;124mfixed_output_string\u001b[39m\u001b[38;5;124m\"\u001b[39m: fixed_output_string})\n\u001b[1;32m    477\u001b[0m     result \u001b[38;5;241m=\u001b[39m \u001b[38;5;28msuper\u001b[39m()\u001b[38;5;241m.\u001b[39mparse(fixed_output_string\u001b[38;5;241m.\u001b[39mtext)\n",
      "File \u001b[0;32m~/miniconda3/envs/precificador/lib/python3.10/site-packages/ragas/prompt/pydantic_prompt.py:145\u001b[0m, in \u001b[0;36mPydanticPrompt.generate\u001b[0;34m(self, llm, data, temperature, stop, callbacks, retries_left)\u001b[0m\n\u001b[1;32m    142\u001b[0m callbacks \u001b[38;5;241m=\u001b[39m callbacks \u001b[38;5;129;01mor\u001b[39;00m []\n\u001b[1;32m    144\u001b[0m \u001b[38;5;66;03m# this is just a special case of generate_multiple\u001b[39;00m\n\u001b[0;32m--> 145\u001b[0m output_single \u001b[38;5;241m=\u001b[39m \u001b[38;5;28;01mawait\u001b[39;00m \u001b[38;5;28mself\u001b[39m\u001b[38;5;241m.\u001b[39mgenerate_multiple(\n\u001b[1;32m    146\u001b[0m     llm\u001b[38;5;241m=\u001b[39mllm,\n\u001b[1;32m    147\u001b[0m     data\u001b[38;5;241m=\u001b[39mdata,\n\u001b[1;32m    148\u001b[0m     n\u001b[38;5;241m=\u001b[39m\u001b[38;5;241m1\u001b[39m,\n\u001b[1;32m    149\u001b[0m     temperature\u001b[38;5;241m=\u001b[39mtemperature,\n\u001b[1;32m    150\u001b[0m     stop\u001b[38;5;241m=\u001b[39mstop,\n\u001b[1;32m    151\u001b[0m     callbacks\u001b[38;5;241m=\u001b[39mcallbacks,\n\u001b[1;32m    152\u001b[0m     retries_left\u001b[38;5;241m=\u001b[39mretries_left,\n\u001b[1;32m    153\u001b[0m )\n\u001b[1;32m    154\u001b[0m \u001b[38;5;28;01mreturn\u001b[39;00m output_single[\u001b[38;5;241m0\u001b[39m]\n",
      "File \u001b[0;32m~/miniconda3/envs/precificador/lib/python3.10/site-packages/ragas/prompt/pydantic_prompt.py:259\u001b[0m, in \u001b[0;36mPydanticPrompt.generate_multiple\u001b[0;34m(self, llm, data, n, temperature, stop, callbacks, retries_left)\u001b[0m\n\u001b[1;32m    257\u001b[0m         prompt_rm\u001b[38;5;241m.\u001b[39mon_chain_error(error\u001b[38;5;241m=\u001b[39me)\n\u001b[1;32m    258\u001b[0m         logger\u001b[38;5;241m.\u001b[39merror(\u001b[38;5;124m\"\u001b[39m\u001b[38;5;124mPrompt \u001b[39m\u001b[38;5;132;01m%s\u001b[39;00m\u001b[38;5;124m failed to parse output: \u001b[39m\u001b[38;5;132;01m%s\u001b[39;00m\u001b[38;5;124m\"\u001b[39m, \u001b[38;5;28mself\u001b[39m\u001b[38;5;241m.\u001b[39mname, e)\n\u001b[0;32m--> 259\u001b[0m         \u001b[38;5;28;01mraise\u001b[39;00m e\n\u001b[1;32m    261\u001b[0m prompt_rm\u001b[38;5;241m.\u001b[39mon_chain_end({\u001b[38;5;124m\"\u001b[39m\u001b[38;5;124moutput\u001b[39m\u001b[38;5;124m\"\u001b[39m: output_models})\n\u001b[1;32m    263\u001b[0m \u001b[38;5;66;03m# Track prompt usage\u001b[39;00m\n",
      "File \u001b[0;32m~/miniconda3/envs/precificador/lib/python3.10/site-packages/ragas/prompt/pydantic_prompt.py:247\u001b[0m, in \u001b[0;36mPydanticPrompt.generate_multiple\u001b[0;34m(self, llm, data, n, temperature, stop, callbacks, retries_left)\u001b[0m\n\u001b[1;32m    245\u001b[0m \u001b[38;5;28;01melse\u001b[39;00m:\n\u001b[1;32m    246\u001b[0m     ragas_llm \u001b[38;5;241m=\u001b[39m t\u001b[38;5;241m.\u001b[39mcast(BaseRagasLLM, llm)\n\u001b[0;32m--> 247\u001b[0m     answer \u001b[38;5;241m=\u001b[39m \u001b[38;5;28;01mawait\u001b[39;00m parser\u001b[38;5;241m.\u001b[39mparse_output_string(\n\u001b[1;32m    248\u001b[0m         output_string\u001b[38;5;241m=\u001b[39moutput_string,\n\u001b[1;32m    249\u001b[0m         prompt_value\u001b[38;5;241m=\u001b[39mprompt_value,\n\u001b[1;32m    250\u001b[0m         llm\u001b[38;5;241m=\u001b[39mragas_llm,\n\u001b[1;32m    251\u001b[0m         callbacks\u001b[38;5;241m=\u001b[39mprompt_cb,\n\u001b[1;32m    252\u001b[0m         retries_left\u001b[38;5;241m=\u001b[39mretries_left,\n\u001b[1;32m    253\u001b[0m     )\n\u001b[1;32m    254\u001b[0m processed_output \u001b[38;5;241m=\u001b[39m \u001b[38;5;28mself\u001b[39m\u001b[38;5;241m.\u001b[39mprocess_output(answer, data)  \u001b[38;5;66;03m# type: ignore\u001b[39;00m\n\u001b[1;32m    255\u001b[0m output_models\u001b[38;5;241m.\u001b[39mappend(processed_output)\n",
      "File \u001b[0;32m~/miniconda3/envs/precificador/lib/python3.10/site-packages/ragas/prompt/pydantic_prompt.py:479\u001b[0m, in \u001b[0;36mRagasOutputParser.parse_output_string\u001b[0;34m(self, output_string, prompt_value, llm, callbacks, retries_left)\u001b[0m\n\u001b[1;32m    477\u001b[0m         result \u001b[38;5;241m=\u001b[39m \u001b[38;5;28msuper\u001b[39m()\u001b[38;5;241m.\u001b[39mparse(fixed_output_string\u001b[38;5;241m.\u001b[39mtext)\n\u001b[1;32m    478\u001b[0m     \u001b[38;5;28;01melse\u001b[39;00m:\n\u001b[0;32m--> 479\u001b[0m         \u001b[38;5;28;01mraise\u001b[39;00m RagasOutputParserException()\n\u001b[1;32m    480\u001b[0m \u001b[38;5;28;01mreturn\u001b[39;00m result\n",
      "\u001b[0;31mRagasOutputParserException\u001b[0m: The output parser failed to parse the output including retries."
     ]
    }
   ],
   "source": [
    "faithfulness_list = [faithfulness.single_turn_score(sample) for sample in dataset]"
   ]
  },
  {
   "cell_type": "markdown",
   "id": "e36897f2",
   "metadata": {},
   "source": [
    "---"
   ]
  },
  {
   "cell_type": "markdown",
   "id": "012ff096",
   "metadata": {},
   "source": [
    "Medium Latency:"
   ]
  },
  {
   "cell_type": "code",
   "execution_count": 35,
   "id": "48e30178",
   "metadata": {},
   "outputs": [],
   "source": [
    "times = list()\n",
    "\n",
    "for question in questions:\n",
    "    begin = time()\n",
    "    price_state = generate_price({\n",
    "        'category': '', \n",
    "        'product': question['product'], \n",
    "        'query': question['query']\n",
    "        })\n",
    "    end = time() - begin\n",
    "    times.append(end)"
   ]
  },
  {
   "cell_type": "code",
   "execution_count": 36,
   "id": "4c0f676a",
   "metadata": {},
   "outputs": [
    {
     "name": "stdout",
     "output_type": "stream",
     "text": [
      "Medium latency: 51.04858076572418\n"
     ]
    }
   ],
   "source": [
    "print(\"Medium latency:\", sum(times) / len(times))"
   ]
  }
 ],
 "metadata": {
  "kernelspec": {
   "display_name": "precificador",
   "language": "python",
   "name": "python3"
  },
  "language_info": {
   "codemirror_mode": {
    "name": "ipython",
    "version": 3
   },
   "file_extension": ".py",
   "mimetype": "text/x-python",
   "name": "python",
   "nbconvert_exporter": "python",
   "pygments_lexer": "ipython3",
   "version": "3.10.18"
  }
 },
 "nbformat": 4,
 "nbformat_minor": 5
}
